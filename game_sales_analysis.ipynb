{
 "cells": [
  {
   "cell_type": "code",
   "execution_count": 367,
   "id": "2449ebc8-19e1-4891-a4d5-da6ba8075a48",
   "metadata": {},
   "outputs": [],
   "source": [
    "import pandas as pd\n",
    "\n",
    "import numpy as np\n",
    "\n",
    "from sklearn.impute import SimpleImputer\n",
    "\n",
    "import matplotlib.pyplot as plt\n",
    "%matplotlib inline\n",
    "\n",
    "import seaborn as sns\n",
    "sns.set_style('whitegrid')\n",
    "\n",
    "import plotly.express as px\n"
   ]
  },
  {
   "cell_type": "code",
   "execution_count": 368,
   "id": "30a65c6d-7663-4a8d-93f0-65e8b8191838",
   "metadata": {},
   "outputs": [],
   "source": [
    "pd.set_option('display.max_rows', None)\n",
    "pd.set_option('display.max_columns', None)\n",
    "pd.set_option('display.width', None)"
   ]
  },
  {
   "cell_type": "markdown",
   "id": "47af1a31-a9bb-4803-867c-098b4d1dab90",
   "metadata": {},
   "source": [
    "**DATA READING**"
   ]
  },
  {
   "cell_type": "code",
   "execution_count": 369,
   "id": "2463d1a9-6abb-4107-bb81-e54757559b34",
   "metadata": {},
   "outputs": [],
   "source": [
    "df = pd.read_csv(\"DATA.csv\")\n",
    " "
   ]
  },
  {
   "cell_type": "code",
   "execution_count": 29,
   "id": "00a2f3ce-20ba-462b-94fa-caf34640b33b",
   "metadata": {},
   "outputs": [
    {
     "data": {
      "text/plain": [
       "(64016, 13)"
      ]
     },
     "execution_count": 29,
     "metadata": {},
     "output_type": "execute_result"
    }
   ],
   "source": [
    "df.shape"
   ]
  },
  {
   "cell_type": "code",
   "execution_count": 20,
   "id": "cb0fd8e6-e960-4e92-8b1c-44302b13f047",
   "metadata": {
    "scrolled": true
   },
   "outputs": [
    {
     "data": {
      "text/html": [
       "<div>\n",
       "<style scoped>\n",
       "    .dataframe tbody tr th:only-of-type {\n",
       "        vertical-align: middle;\n",
       "    }\n",
       "\n",
       "    .dataframe tbody tr th {\n",
       "        vertical-align: top;\n",
       "    }\n",
       "\n",
       "    .dataframe thead th {\n",
       "        text-align: right;\n",
       "    }\n",
       "</style>\n",
       "<table border=\"1\" class=\"dataframe\">\n",
       "  <thead>\n",
       "    <tr style=\"text-align: right;\">\n",
       "      <th></th>\n",
       "      <th>title</th>\n",
       "      <th>console</th>\n",
       "      <th>genre</th>\n",
       "      <th>publisher</th>\n",
       "      <th>developer</th>\n",
       "      <th>critic_score</th>\n",
       "      <th>total_sales</th>\n",
       "      <th>na_sales</th>\n",
       "      <th>jp_sales</th>\n",
       "      <th>pal_sales</th>\n",
       "      <th>other_sales</th>\n",
       "      <th>release_date</th>\n",
       "      <th>last_update</th>\n",
       "    </tr>\n",
       "  </thead>\n",
       "  <tbody>\n",
       "    <tr>\n",
       "      <th>0</th>\n",
       "      <td>Grand Theft Auto V</td>\n",
       "      <td>PS3</td>\n",
       "      <td>Action</td>\n",
       "      <td>Rockstar Games</td>\n",
       "      <td>Rockstar North</td>\n",
       "      <td>9.4</td>\n",
       "      <td>20.32</td>\n",
       "      <td>6.37</td>\n",
       "      <td>0.99</td>\n",
       "      <td>9.85</td>\n",
       "      <td>3.12</td>\n",
       "      <td>17-09-13</td>\n",
       "      <td>NaN</td>\n",
       "    </tr>\n",
       "    <tr>\n",
       "      <th>1</th>\n",
       "      <td>Grand Theft Auto V</td>\n",
       "      <td>PS4</td>\n",
       "      <td>Action</td>\n",
       "      <td>Rockstar Games</td>\n",
       "      <td>Rockstar North</td>\n",
       "      <td>9.7</td>\n",
       "      <td>19.39</td>\n",
       "      <td>6.06</td>\n",
       "      <td>0.60</td>\n",
       "      <td>9.71</td>\n",
       "      <td>3.02</td>\n",
       "      <td>18-11-14</td>\n",
       "      <td>03-01-18</td>\n",
       "    </tr>\n",
       "    <tr>\n",
       "      <th>2</th>\n",
       "      <td>Grand Theft Auto: Vice City</td>\n",
       "      <td>PS2</td>\n",
       "      <td>Action</td>\n",
       "      <td>Rockstar Games</td>\n",
       "      <td>Rockstar North</td>\n",
       "      <td>9.6</td>\n",
       "      <td>16.15</td>\n",
       "      <td>8.41</td>\n",
       "      <td>0.47</td>\n",
       "      <td>5.49</td>\n",
       "      <td>1.78</td>\n",
       "      <td>28-10-02</td>\n",
       "      <td>NaN</td>\n",
       "    </tr>\n",
       "    <tr>\n",
       "      <th>3</th>\n",
       "      <td>Grand Theft Auto V</td>\n",
       "      <td>X360</td>\n",
       "      <td>Action</td>\n",
       "      <td>Rockstar Games</td>\n",
       "      <td>Rockstar North</td>\n",
       "      <td>NaN</td>\n",
       "      <td>15.86</td>\n",
       "      <td>9.06</td>\n",
       "      <td>0.06</td>\n",
       "      <td>5.33</td>\n",
       "      <td>1.42</td>\n",
       "      <td>17-09-13</td>\n",
       "      <td>NaN</td>\n",
       "    </tr>\n",
       "    <tr>\n",
       "      <th>4</th>\n",
       "      <td>Call of Duty: Black Ops 3</td>\n",
       "      <td>PS4</td>\n",
       "      <td>Shooter</td>\n",
       "      <td>Activision</td>\n",
       "      <td>Treyarch</td>\n",
       "      <td>8.1</td>\n",
       "      <td>15.09</td>\n",
       "      <td>6.18</td>\n",
       "      <td>0.41</td>\n",
       "      <td>6.05</td>\n",
       "      <td>2.44</td>\n",
       "      <td>06-11-15</td>\n",
       "      <td>14-01-18</td>\n",
       "    </tr>\n",
       "  </tbody>\n",
       "</table>\n",
       "</div>"
      ],
      "text/plain": [
       "                         title console    genre       publisher  \\\n",
       "0           Grand Theft Auto V     PS3   Action  Rockstar Games   \n",
       "1           Grand Theft Auto V     PS4   Action  Rockstar Games   \n",
       "2  Grand Theft Auto: Vice City     PS2   Action  Rockstar Games   \n",
       "3           Grand Theft Auto V    X360   Action  Rockstar Games   \n",
       "4    Call of Duty: Black Ops 3     PS4  Shooter      Activision   \n",
       "\n",
       "        developer  critic_score  total_sales  na_sales  jp_sales  pal_sales  \\\n",
       "0  Rockstar North           9.4        20.32      6.37      0.99       9.85   \n",
       "1  Rockstar North           9.7        19.39      6.06      0.60       9.71   \n",
       "2  Rockstar North           9.6        16.15      8.41      0.47       5.49   \n",
       "3  Rockstar North           NaN        15.86      9.06      0.06       5.33   \n",
       "4        Treyarch           8.1        15.09      6.18      0.41       6.05   \n",
       "\n",
       "   other_sales release_date last_update  \n",
       "0         3.12     17-09-13         NaN  \n",
       "1         3.02     18-11-14    03-01-18  \n",
       "2         1.78     28-10-02         NaN  \n",
       "3         1.42     17-09-13         NaN  \n",
       "4         2.44     06-11-15    14-01-18  "
      ]
     },
     "execution_count": 20,
     "metadata": {},
     "output_type": "execute_result"
    }
   ],
   "source": [
    "df.head()"
   ]
  },
  {
   "cell_type": "code",
   "execution_count": 23,
   "id": "a9918c4b-4232-4379-b65b-9ad6596f50bf",
   "metadata": {},
   "outputs": [
    {
     "data": {
      "text/html": [
       "<div>\n",
       "<style scoped>\n",
       "    .dataframe tbody tr th:only-of-type {\n",
       "        vertical-align: middle;\n",
       "    }\n",
       "\n",
       "    .dataframe tbody tr th {\n",
       "        vertical-align: top;\n",
       "    }\n",
       "\n",
       "    .dataframe thead th {\n",
       "        text-align: right;\n",
       "    }\n",
       "</style>\n",
       "<table border=\"1\" class=\"dataframe\">\n",
       "  <thead>\n",
       "    <tr style=\"text-align: right;\">\n",
       "      <th></th>\n",
       "      <th>critic_score</th>\n",
       "      <th>total_sales</th>\n",
       "      <th>na_sales</th>\n",
       "      <th>jp_sales</th>\n",
       "      <th>pal_sales</th>\n",
       "      <th>other_sales</th>\n",
       "    </tr>\n",
       "  </thead>\n",
       "  <tbody>\n",
       "    <tr>\n",
       "      <th>count</th>\n",
       "      <td>6678.000000</td>\n",
       "      <td>18922.000000</td>\n",
       "      <td>12637.000000</td>\n",
       "      <td>6726.000000</td>\n",
       "      <td>12824.000000</td>\n",
       "      <td>15128.000000</td>\n",
       "    </tr>\n",
       "    <tr>\n",
       "      <th>mean</th>\n",
       "      <td>7.220440</td>\n",
       "      <td>0.349113</td>\n",
       "      <td>0.264740</td>\n",
       "      <td>0.102281</td>\n",
       "      <td>0.149472</td>\n",
       "      <td>0.043041</td>\n",
       "    </tr>\n",
       "    <tr>\n",
       "      <th>std</th>\n",
       "      <td>1.457066</td>\n",
       "      <td>0.807462</td>\n",
       "      <td>0.494787</td>\n",
       "      <td>0.168811</td>\n",
       "      <td>0.392653</td>\n",
       "      <td>0.126643</td>\n",
       "    </tr>\n",
       "    <tr>\n",
       "      <th>min</th>\n",
       "      <td>1.000000</td>\n",
       "      <td>0.000000</td>\n",
       "      <td>0.000000</td>\n",
       "      <td>0.000000</td>\n",
       "      <td>0.000000</td>\n",
       "      <td>0.000000</td>\n",
       "    </tr>\n",
       "    <tr>\n",
       "      <th>25%</th>\n",
       "      <td>6.400000</td>\n",
       "      <td>0.030000</td>\n",
       "      <td>0.050000</td>\n",
       "      <td>0.020000</td>\n",
       "      <td>0.010000</td>\n",
       "      <td>0.000000</td>\n",
       "    </tr>\n",
       "    <tr>\n",
       "      <th>50%</th>\n",
       "      <td>7.500000</td>\n",
       "      <td>0.120000</td>\n",
       "      <td>0.120000</td>\n",
       "      <td>0.040000</td>\n",
       "      <td>0.040000</td>\n",
       "      <td>0.010000</td>\n",
       "    </tr>\n",
       "    <tr>\n",
       "      <th>75%</th>\n",
       "      <td>8.300000</td>\n",
       "      <td>0.340000</td>\n",
       "      <td>0.280000</td>\n",
       "      <td>0.120000</td>\n",
       "      <td>0.140000</td>\n",
       "      <td>0.030000</td>\n",
       "    </tr>\n",
       "    <tr>\n",
       "      <th>max</th>\n",
       "      <td>10.000000</td>\n",
       "      <td>20.320000</td>\n",
       "      <td>9.760000</td>\n",
       "      <td>2.130000</td>\n",
       "      <td>9.850000</td>\n",
       "      <td>3.120000</td>\n",
       "    </tr>\n",
       "  </tbody>\n",
       "</table>\n",
       "</div>"
      ],
      "text/plain": [
       "       critic_score   total_sales      na_sales     jp_sales     pal_sales  \\\n",
       "count   6678.000000  18922.000000  12637.000000  6726.000000  12824.000000   \n",
       "mean       7.220440      0.349113      0.264740     0.102281      0.149472   \n",
       "std        1.457066      0.807462      0.494787     0.168811      0.392653   \n",
       "min        1.000000      0.000000      0.000000     0.000000      0.000000   \n",
       "25%        6.400000      0.030000      0.050000     0.020000      0.010000   \n",
       "50%        7.500000      0.120000      0.120000     0.040000      0.040000   \n",
       "75%        8.300000      0.340000      0.280000     0.120000      0.140000   \n",
       "max       10.000000     20.320000      9.760000     2.130000      9.850000   \n",
       "\n",
       "        other_sales  \n",
       "count  15128.000000  \n",
       "mean       0.043041  \n",
       "std        0.126643  \n",
       "min        0.000000  \n",
       "25%        0.000000  \n",
       "50%        0.010000  \n",
       "75%        0.030000  \n",
       "max        3.120000  "
      ]
     },
     "execution_count": 23,
     "metadata": {},
     "output_type": "execute_result"
    }
   ],
   "source": [
    "df.describe()"
   ]
  },
  {
   "cell_type": "code",
   "execution_count": 6,
   "id": "8fa02033-9905-411d-b5bb-5ffee330c7fa",
   "metadata": {},
   "outputs": [
    {
     "name": "stdout",
     "output_type": "stream",
     "text": [
      "<class 'pandas.core.frame.DataFrame'>\n",
      "RangeIndex: 64016 entries, 0 to 64015\n",
      "Data columns (total 14 columns):\n",
      " #   Column        Non-Null Count  Dtype  \n",
      "---  ------        --------------  -----  \n",
      " 0   img           64016 non-null  object \n",
      " 1   title         64016 non-null  object \n",
      " 2   console       64016 non-null  object \n",
      " 3   genre         64016 non-null  object \n",
      " 4   publisher     64016 non-null  object \n",
      " 5   developer     63999 non-null  object \n",
      " 6   critic_score  6678 non-null   float64\n",
      " 7   total_sales   18922 non-null  float64\n",
      " 8   na_sales      12637 non-null  float64\n",
      " 9   jp_sales      6726 non-null   float64\n",
      " 10  pal_sales     12824 non-null  float64\n",
      " 11  other_sales   15128 non-null  float64\n",
      " 12  release_date  56965 non-null  object \n",
      " 13  last_update   17879 non-null  object \n",
      "dtypes: float64(6), object(8)\n",
      "memory usage: 6.8+ MB\n"
     ]
    }
   ],
   "source": [
    "df.info()"
   ]
  },
  {
   "cell_type": "markdown",
   "id": "dbfb6419-02c4-4b75-80ad-d61b762e77e4",
   "metadata": {},
   "source": [
    "**DATA CLEANING**"
   ]
  },
  {
   "cell_type": "markdown",
   "id": "eb2404d2-67e5-4941-aa34-620a5dfbce73",
   "metadata": {},
   "source": [
    "FINDING TOTAL NULL VALUES PER COLUMN & THE % OF NULL VALUES IN THE DATA "
   ]
  },
  {
   "cell_type": "code",
   "execution_count": 371,
   "id": "973c065f-372f-40db-bc3b-c896cb8256a7",
   "metadata": {},
   "outputs": [
    {
     "data": {
      "text/plain": [
       "img                 0\n",
       "title               0\n",
       "console             0\n",
       "genre               0\n",
       "publisher           0\n",
       "developer          17\n",
       "critic_score    57338\n",
       "total_sales     45094\n",
       "na_sales        51379\n",
       "jp_sales        57290\n",
       "pal_sales       51192\n",
       "other_sales     48888\n",
       "release_date     7051\n",
       "last_update     46137\n",
       "dtype: int64"
      ]
     },
     "execution_count": 371,
     "metadata": {},
     "output_type": "execute_result"
    }
   ],
   "source": [
    "df.isnull().sum()"
   ]
  },
  {
   "cell_type": "code",
   "execution_count": 372,
   "id": "514809cb-33e7-4f8c-a425-573e9a04241c",
   "metadata": {},
   "outputs": [
    {
     "name": "stdout",
     "output_type": "stream",
     "text": [
      "40.65791587817331\n"
     ]
    }
   ],
   "source": [
    "missing = df.isnull().sum().sum()\n",
    "total = np.product(df.shape)\n",
    "\n",
    "percent_missing = missing/total*100\n",
    "\n",
    "print(percent_missing)"
   ]
  },
  {
   "cell_type": "markdown",
   "id": "53ee46d5-c826-4de6-a478-f2dc8ec60f8a",
   "metadata": {},
   "source": [
    "40% OF OUR DATA IS MISSING - TOO BIG - HENCE WE CANNOT JUST DROP THE NULL VALUE ROWS. WE HAVE TO FILL IT - WITH IMPUTATION"
   ]
  },
  {
   "cell_type": "code",
   "execution_count": 373,
   "id": "d6ec153d-f1f4-4134-9bd7-202ffdfb7f99",
   "metadata": {},
   "outputs": [],
   "source": [
    "# DROP USELESS COLUMN 'IMG' WHICH CONTAINS LINKS OF IMAGES OF GAMES - NOT REQUIRED FOR OUR ANALYSIS\n",
    "\n",
    "df.drop(columns = ['img'], inplace = True)"
   ]
  },
  {
   "cell_type": "code",
   "execution_count": 374,
   "id": "90ab1b2e-8e74-46c3-bea8-1a7395e63263",
   "metadata": {},
   "outputs": [
    {
     "data": {
      "text/plain": [
       "Index(['title', 'console', 'genre', 'publisher', 'developer', 'critic_score',\n",
       "       'total_sales', 'na_sales', 'jp_sales', 'pal_sales', 'other_sales',\n",
       "       'release_date', 'last_update'],\n",
       "      dtype='object')"
      ]
     },
     "execution_count": 374,
     "metadata": {},
     "output_type": "execute_result"
    }
   ],
   "source": [
    "df.columns"
   ]
  },
  {
   "cell_type": "markdown",
   "id": "b5507aa0-1d10-4c17-b556-f67a5eb5ec0e",
   "metadata": {},
   "source": [
    "HANDLING NULL VALUES"
   ]
  },
  {
   "cell_type": "code",
   "execution_count": 375,
   "id": "cfe0d99b-07e5-4237-ad5d-1dec67bd546e",
   "metadata": {},
   "outputs": [
    {
     "name": "stdout",
     "output_type": "stream",
     "text": [
      "<class 'pandas.core.frame.DataFrame'>\n",
      "RangeIndex: 64016 entries, 0 to 64015\n",
      "Data columns (total 13 columns):\n",
      " #   Column        Non-Null Count  Dtype  \n",
      "---  ------        --------------  -----  \n",
      " 0   title         64016 non-null  object \n",
      " 1   console       64016 non-null  object \n",
      " 2   genre         64016 non-null  object \n",
      " 3   publisher     64016 non-null  object \n",
      " 4   developer     63999 non-null  object \n",
      " 5   critic_score  6678 non-null   float64\n",
      " 6   total_sales   18922 non-null  float64\n",
      " 7   na_sales      12637 non-null  float64\n",
      " 8   jp_sales      6726 non-null   float64\n",
      " 9   pal_sales     12824 non-null  float64\n",
      " 10  other_sales   15128 non-null  float64\n",
      " 11  release_date  56965 non-null  object \n",
      " 12  last_update   17879 non-null  object \n",
      "dtypes: float64(6), object(7)\n",
      "memory usage: 6.3+ MB\n"
     ]
    }
   ],
   "source": [
    "df.info()"
   ]
  },
  {
   "cell_type": "code",
   "execution_count": 376,
   "id": "177f3f39-4fd8-4a1e-ba20-89303ef8fafc",
   "metadata": {},
   "outputs": [
    {
     "data": {
      "text/plain": [
       "title               0\n",
       "console             0\n",
       "genre               0\n",
       "publisher           0\n",
       "developer          17\n",
       "critic_score    57338\n",
       "total_sales     45094\n",
       "na_sales        51379\n",
       "jp_sales        57290\n",
       "pal_sales       51192\n",
       "other_sales     48888\n",
       "release_date     7051\n",
       "last_update     46137\n",
       "dtype: int64"
      ]
     },
     "execution_count": 376,
     "metadata": {},
     "output_type": "execute_result"
    }
   ],
   "source": [
    "df.isnull().sum()"
   ]
  },
  {
   "cell_type": "markdown",
   "id": "890fce56-9b5f-4338-a49a-c22e9f6362d8",
   "metadata": {},
   "source": [
    "WE HAVE 2 DATATYPES OF NULL VALUES TO FILL - FLOAT64 (NUMERICAL) AND DATETIME (NEED TO CHANGE FROM OBJECT TYPE)"
   ]
  },
  {
   "cell_type": "markdown",
   "id": "c63957e6-12a6-4b29-a6d6-6ebf22b9c88d",
   "metadata": {},
   "source": [
    "HANDLING NUMERICAL NULL VALUES"
   ]
  },
  {
   "cell_type": "code",
   "execution_count": 377,
   "id": "65a33d3e-2809-4843-a3ae-e98cc409d7fa",
   "metadata": {},
   "outputs": [
    {
     "data": {
      "text/plain": [
       "['critic_score',\n",
       " 'total_sales',\n",
       " 'na_sales',\n",
       " 'jp_sales',\n",
       " 'pal_sales',\n",
       " 'other_sales']"
      ]
     },
     "execution_count": 377,
     "metadata": {},
     "output_type": "execute_result"
    }
   ],
   "source": [
    "num_cols = df.select_dtypes(include = np.number).columns.tolist()\n",
    "num_cols"
   ]
  },
  {
   "cell_type": "code",
   "execution_count": 381,
   "id": "cc008d32-51c2-493f-a812-d2f3261b3e67",
   "metadata": {},
   "outputs": [],
   "source": [
    "# MEAN IMPUTATION FOR FILLING NULL VALUES \n",
    "\n",
    "imputer = SimpleImputer(strategy = 'median')\n",
    "df[num_cols] = imputer.fit_transform(df[num_cols])"
   ]
  },
  {
   "cell_type": "code",
   "execution_count": 382,
   "id": "0d4e6753-3339-4985-aa36-45aa97ed2bd8",
   "metadata": {},
   "outputs": [
    {
     "data": {
      "text/plain": [
       "title               0\n",
       "console             0\n",
       "genre               0\n",
       "publisher           0\n",
       "developer          17\n",
       "critic_score        0\n",
       "total_sales         0\n",
       "na_sales            0\n",
       "jp_sales            0\n",
       "pal_sales           0\n",
       "other_sales         0\n",
       "release_date     7051\n",
       "last_update     46137\n",
       "dtype: int64"
      ]
     },
     "execution_count": 382,
     "metadata": {},
     "output_type": "execute_result"
    }
   ],
   "source": [
    "df.isnull().sum()"
   ]
  },
  {
   "cell_type": "markdown",
   "id": "b877c22d-313c-4b77-ac10-8fbbc4339737",
   "metadata": {},
   "source": [
    "NUMERICAL DATATYPE NULL VALUES HAVE BEEN FILLED USING MEAN IMPUTATION"
   ]
  },
  {
   "cell_type": "code",
   "execution_count": 383,
   "id": "235f9628-119a-4f63-96ca-72ac2833a8d1",
   "metadata": {},
   "outputs": [
    {
     "name": "stdout",
     "output_type": "stream",
     "text": [
      "<class 'pandas.core.frame.DataFrame'>\n",
      "RangeIndex: 64016 entries, 0 to 64015\n",
      "Data columns (total 13 columns):\n",
      " #   Column        Non-Null Count  Dtype  \n",
      "---  ------        --------------  -----  \n",
      " 0   title         64016 non-null  object \n",
      " 1   console       64016 non-null  object \n",
      " 2   genre         64016 non-null  object \n",
      " 3   publisher     64016 non-null  object \n",
      " 4   developer     63999 non-null  object \n",
      " 5   critic_score  64016 non-null  float64\n",
      " 6   total_sales   64016 non-null  float64\n",
      " 7   na_sales      64016 non-null  float64\n",
      " 8   jp_sales      64016 non-null  float64\n",
      " 9   pal_sales     64016 non-null  float64\n",
      " 10  other_sales   64016 non-null  float64\n",
      " 11  release_date  56965 non-null  object \n",
      " 12  last_update   17879 non-null  object \n",
      "dtypes: float64(6), object(7)\n",
      "memory usage: 6.3+ MB\n"
     ]
    }
   ],
   "source": [
    "df.info()"
   ]
  },
  {
   "cell_type": "markdown",
   "id": "de46364c-e8c2-483c-8565-b25ee71641a7",
   "metadata": {},
   "source": [
    "HANDLING DATETIME NULL VALUES - LAST 2 COLUMNS"
   ]
  },
  {
   "cell_type": "code",
   "execution_count": 384,
   "id": "a5a5f8c6-04b5-4f9e-8948-0dd0216c520c",
   "metadata": {},
   "outputs": [
    {
     "name": "stderr",
     "output_type": "stream",
     "text": [
      "C:\\Users\\asus\\AppData\\Local\\Temp\\ipykernel_22864\\3548395132.py:3: UserWarning:\n",
      "\n",
      "Could not infer format, so each element will be parsed individually, falling back to `dateutil`. To ensure parsing is consistent and as-expected, please specify a format.\n",
      "\n",
      "C:\\Users\\asus\\AppData\\Local\\Temp\\ipykernel_22864\\3548395132.py:4: UserWarning:\n",
      "\n",
      "Could not infer format, so each element will be parsed individually, falling back to `dateutil`. To ensure parsing is consistent and as-expected, please specify a format.\n",
      "\n"
     ]
    },
    {
     "name": "stdout",
     "output_type": "stream",
     "text": [
      "<class 'pandas.core.frame.DataFrame'>\n",
      "RangeIndex: 64016 entries, 0 to 64015\n",
      "Data columns (total 13 columns):\n",
      " #   Column        Non-Null Count  Dtype         \n",
      "---  ------        --------------  -----         \n",
      " 0   title         64016 non-null  object        \n",
      " 1   console       64016 non-null  object        \n",
      " 2   genre         64016 non-null  object        \n",
      " 3   publisher     64016 non-null  object        \n",
      " 4   developer     63999 non-null  object        \n",
      " 5   critic_score  64016 non-null  float64       \n",
      " 6   total_sales   64016 non-null  float64       \n",
      " 7   na_sales      64016 non-null  float64       \n",
      " 8   jp_sales      64016 non-null  float64       \n",
      " 9   pal_sales     64016 non-null  float64       \n",
      " 10  other_sales   64016 non-null  float64       \n",
      " 11  release_date  56965 non-null  datetime64[ns]\n",
      " 12  last_update   17879 non-null  datetime64[ns]\n",
      "dtypes: datetime64[ns](2), float64(6), object(5)\n",
      "memory usage: 6.3+ MB\n"
     ]
    }
   ],
   "source": [
    "# CONVERTING DATATYPE FROM OBJECT TO DATETIME\n",
    "\n",
    "df['release_date'] = pd.to_datetime(df['release_date'])\n",
    "df['last_update'] = pd.to_datetime(df['last_update'])\n",
    "\n",
    "df.info()"
   ]
  },
  {
   "cell_type": "code",
   "execution_count": 385,
   "id": "d83a8634-5523-49bf-b902-c3d456994f26",
   "metadata": {},
   "outputs": [
    {
     "data": {
      "text/plain": [
       "title            0\n",
       "console          0\n",
       "genre            0\n",
       "publisher        0\n",
       "developer       17\n",
       "critic_score     0\n",
       "total_sales      0\n",
       "na_sales         0\n",
       "jp_sales         0\n",
       "pal_sales        0\n",
       "other_sales      0\n",
       "release_date     0\n",
       "last_update      0\n",
       "dtype: int64"
      ]
     },
     "execution_count": 385,
     "metadata": {},
     "output_type": "execute_result"
    }
   ],
   "source": [
    "# FILLNA() WITH MEDIAN TO FILL DATETIME NULL VALUES\n",
    "\n",
    "df['release_date'] = df['release_date'].fillna(df['release_date'].median())\n",
    "df['last_update'] = df['last_update'].fillna(df['last_update'].median())\n",
    "\n",
    "df.isnull().sum()"
   ]
  },
  {
   "cell_type": "markdown",
   "id": "a7ea2008-46a9-4a93-9afa-2c0dad135ea4",
   "metadata": {},
   "source": [
    "BOTH NUMERICAL AND DATETIME NULL VALUES HAVE BEEN FILLED."
   ]
  },
  {
   "cell_type": "code",
   "execution_count": 386,
   "id": "1333c519-7588-4d30-b575-94ff24f90d51",
   "metadata": {},
   "outputs": [
    {
     "name": "stdout",
     "output_type": "stream",
     "text": [
      "0.0020427585411339475\n"
     ]
    }
   ],
   "source": [
    "# 17 ROWS OF DEVELOPER COLUMN IS WHAT % OF THE TOTAL DATA ?\n",
    "\n",
    "missing = df.isnull().sum().sum()\n",
    "total = np.product(df.shape)\n",
    "\n",
    "percent_missing = missing/total*100\n",
    "\n",
    "print(percent_missing)"
   ]
  },
  {
   "cell_type": "markdown",
   "id": "9863333b-0478-41eb-801b-e119e37e15cf",
   "metadata": {},
   "source": [
    "NOW TO HANDLE OBJECT TYPE NULL VALUES IN 'DEVELOPER' COLUMN - BY DROPPING - SINCE IT'S ONLY 0.002% OF TOTAL DATA"
   ]
  },
  {
   "cell_type": "code",
   "execution_count": 387,
   "id": "0f644d61-ab9f-4740-96d8-d179d918d872",
   "metadata": {},
   "outputs": [
    {
     "data": {
      "text/plain": [
       "title           0\n",
       "console         0\n",
       "genre           0\n",
       "publisher       0\n",
       "developer       0\n",
       "critic_score    0\n",
       "total_sales     0\n",
       "na_sales        0\n",
       "jp_sales        0\n",
       "pal_sales       0\n",
       "other_sales     0\n",
       "release_date    0\n",
       "last_update     0\n",
       "dtype: int64"
      ]
     },
     "execution_count": 387,
     "metadata": {},
     "output_type": "execute_result"
    }
   ],
   "source": [
    "df.dropna(inplace = True)\n",
    "\n",
    "df.isnull().sum()"
   ]
  },
  {
   "cell_type": "markdown",
   "id": "19d5a729-3932-4398-9103-b130f0e34153",
   "metadata": {},
   "source": [
    "ALL NULL VALUES HAVE BEEN HANDLED.\n",
    "\n",
    "NOW OUR DATA IS READY FOR THE EDA."
   ]
  },
  {
   "cell_type": "markdown",
   "id": "3349f52f-b13a-4c74-8c2a-a657d1e04f5a",
   "metadata": {},
   "source": [
    "**EDA (EXPLORATORY DATA ANALYSIS)**"
   ]
  },
  {
   "cell_type": "code",
   "execution_count": 338,
   "id": "8ffce319-b748-4d51-b315-9378c9c5e2b7",
   "metadata": {},
   "outputs": [
    {
     "data": {
      "text/html": [
       "<div>\n",
       "<style scoped>\n",
       "    .dataframe tbody tr th:only-of-type {\n",
       "        vertical-align: middle;\n",
       "    }\n",
       "\n",
       "    .dataframe tbody tr th {\n",
       "        vertical-align: top;\n",
       "    }\n",
       "\n",
       "    .dataframe thead th {\n",
       "        text-align: right;\n",
       "    }\n",
       "</style>\n",
       "<table border=\"1\" class=\"dataframe\">\n",
       "  <thead>\n",
       "    <tr style=\"text-align: right;\">\n",
       "      <th></th>\n",
       "      <th>title</th>\n",
       "      <th>console</th>\n",
       "      <th>genre</th>\n",
       "      <th>publisher</th>\n",
       "      <th>developer</th>\n",
       "      <th>critic_score</th>\n",
       "      <th>total_sales</th>\n",
       "      <th>na_sales</th>\n",
       "      <th>jp_sales</th>\n",
       "      <th>pal_sales</th>\n",
       "      <th>other_sales</th>\n",
       "      <th>release_date</th>\n",
       "      <th>last_update</th>\n",
       "    </tr>\n",
       "  </thead>\n",
       "  <tbody>\n",
       "    <tr>\n",
       "      <th>0</th>\n",
       "      <td>Grand Theft Auto V</td>\n",
       "      <td>PS3</td>\n",
       "      <td>Action</td>\n",
       "      <td>Rockstar Games</td>\n",
       "      <td>Rockstar North</td>\n",
       "      <td>9.40000</td>\n",
       "      <td>20.32</td>\n",
       "      <td>6.37</td>\n",
       "      <td>0.99</td>\n",
       "      <td>9.85</td>\n",
       "      <td>3.12</td>\n",
       "      <td>2013-09-17</td>\n",
       "      <td>2019-05-06</td>\n",
       "    </tr>\n",
       "    <tr>\n",
       "      <th>1</th>\n",
       "      <td>Grand Theft Auto V</td>\n",
       "      <td>PS4</td>\n",
       "      <td>Action</td>\n",
       "      <td>Rockstar Games</td>\n",
       "      <td>Rockstar North</td>\n",
       "      <td>9.70000</td>\n",
       "      <td>19.39</td>\n",
       "      <td>6.06</td>\n",
       "      <td>0.60</td>\n",
       "      <td>9.71</td>\n",
       "      <td>3.02</td>\n",
       "      <td>2014-11-18</td>\n",
       "      <td>2018-03-01</td>\n",
       "    </tr>\n",
       "    <tr>\n",
       "      <th>2</th>\n",
       "      <td>Grand Theft Auto: Vice City</td>\n",
       "      <td>PS2</td>\n",
       "      <td>Action</td>\n",
       "      <td>Rockstar Games</td>\n",
       "      <td>Rockstar North</td>\n",
       "      <td>9.60000</td>\n",
       "      <td>16.15</td>\n",
       "      <td>8.41</td>\n",
       "      <td>0.47</td>\n",
       "      <td>5.49</td>\n",
       "      <td>1.78</td>\n",
       "      <td>2002-10-28</td>\n",
       "      <td>2019-05-06</td>\n",
       "    </tr>\n",
       "    <tr>\n",
       "      <th>3</th>\n",
       "      <td>Grand Theft Auto V</td>\n",
       "      <td>X360</td>\n",
       "      <td>Action</td>\n",
       "      <td>Rockstar Games</td>\n",
       "      <td>Rockstar North</td>\n",
       "      <td>7.22044</td>\n",
       "      <td>15.86</td>\n",
       "      <td>9.06</td>\n",
       "      <td>0.06</td>\n",
       "      <td>5.33</td>\n",
       "      <td>1.42</td>\n",
       "      <td>2013-09-17</td>\n",
       "      <td>2019-05-06</td>\n",
       "    </tr>\n",
       "    <tr>\n",
       "      <th>4</th>\n",
       "      <td>Call of Duty: Black Ops 3</td>\n",
       "      <td>PS4</td>\n",
       "      <td>Shooter</td>\n",
       "      <td>Activision</td>\n",
       "      <td>Treyarch</td>\n",
       "      <td>8.10000</td>\n",
       "      <td>15.09</td>\n",
       "      <td>6.18</td>\n",
       "      <td>0.41</td>\n",
       "      <td>6.05</td>\n",
       "      <td>2.44</td>\n",
       "      <td>2015-06-11</td>\n",
       "      <td>2018-01-14</td>\n",
       "    </tr>\n",
       "  </tbody>\n",
       "</table>\n",
       "</div>"
      ],
      "text/plain": [
       "                         title console    genre       publisher  \\\n",
       "0           Grand Theft Auto V     PS3   Action  Rockstar Games   \n",
       "1           Grand Theft Auto V     PS4   Action  Rockstar Games   \n",
       "2  Grand Theft Auto: Vice City     PS2   Action  Rockstar Games   \n",
       "3           Grand Theft Auto V    X360   Action  Rockstar Games   \n",
       "4    Call of Duty: Black Ops 3     PS4  Shooter      Activision   \n",
       "\n",
       "        developer  critic_score  total_sales  na_sales  jp_sales  pal_sales  \\\n",
       "0  Rockstar North       9.40000        20.32      6.37      0.99       9.85   \n",
       "1  Rockstar North       9.70000        19.39      6.06      0.60       9.71   \n",
       "2  Rockstar North       9.60000        16.15      8.41      0.47       5.49   \n",
       "3  Rockstar North       7.22044        15.86      9.06      0.06       5.33   \n",
       "4        Treyarch       8.10000        15.09      6.18      0.41       6.05   \n",
       "\n",
       "   other_sales release_date last_update  \n",
       "0         3.12   2013-09-17  2019-05-06  \n",
       "1         3.02   2014-11-18  2018-03-01  \n",
       "2         1.78   2002-10-28  2019-05-06  \n",
       "3         1.42   2013-09-17  2019-05-06  \n",
       "4         2.44   2015-06-11  2018-01-14  "
      ]
     },
     "execution_count": 338,
     "metadata": {},
     "output_type": "execute_result"
    }
   ],
   "source": [
    "df.head()"
   ]
  },
  {
   "cell_type": "markdown",
   "id": "810287ce-609f-434e-a241-8630a742277b",
   "metadata": {},
   "source": [
    "1. Identify top-selling titles worldwide and analyze key success factors."
   ]
  },
  {
   "cell_type": "code",
   "execution_count": 388,
   "id": "aec3f01f-c58c-4dd0-a0cc-b640dd316de8",
   "metadata": {},
   "outputs": [
    {
     "data": {
      "text/html": [
       "<div>\n",
       "<style scoped>\n",
       "    .dataframe tbody tr th:only-of-type {\n",
       "        vertical-align: middle;\n",
       "    }\n",
       "\n",
       "    .dataframe tbody tr th {\n",
       "        vertical-align: top;\n",
       "    }\n",
       "\n",
       "    .dataframe thead th {\n",
       "        text-align: right;\n",
       "    }\n",
       "</style>\n",
       "<table border=\"1\" class=\"dataframe\">\n",
       "  <thead>\n",
       "    <tr style=\"text-align: right;\">\n",
       "      <th></th>\n",
       "      <th>title</th>\n",
       "      <th>total_sales</th>\n",
       "    </tr>\n",
       "  </thead>\n",
       "  <tbody>\n",
       "    <tr>\n",
       "      <th>0</th>\n",
       "      <td>Grand Theft Auto V</td>\n",
       "      <td>65.686451</td>\n",
       "    </tr>\n",
       "    <tr>\n",
       "      <th>1</th>\n",
       "      <td>Call of Duty: Black Ops</td>\n",
       "      <td>32.037338</td>\n",
       "    </tr>\n",
       "    <tr>\n",
       "      <th>2</th>\n",
       "      <td>Call of Duty: Modern Warfare 3</td>\n",
       "      <td>31.059113</td>\n",
       "    </tr>\n",
       "    <tr>\n",
       "      <th>3</th>\n",
       "      <td>Call of Duty: Black Ops II</td>\n",
       "      <td>29.939113</td>\n",
       "    </tr>\n",
       "    <tr>\n",
       "      <th>4</th>\n",
       "      <td>Call of Duty: Ghosts</td>\n",
       "      <td>29.149113</td>\n",
       "    </tr>\n",
       "    <tr>\n",
       "      <th>5</th>\n",
       "      <td>Call of Duty: Black Ops 3</td>\n",
       "      <td>26.720000</td>\n",
       "    </tr>\n",
       "    <tr>\n",
       "      <th>6</th>\n",
       "      <td>Minecraft</td>\n",
       "      <td>26.104676</td>\n",
       "    </tr>\n",
       "    <tr>\n",
       "      <th>7</th>\n",
       "      <td>Call of Duty: Modern Warfare 2</td>\n",
       "      <td>26.067338</td>\n",
       "    </tr>\n",
       "    <tr>\n",
       "      <th>8</th>\n",
       "      <td>Grand Theft Auto IV</td>\n",
       "      <td>23.228225</td>\n",
       "    </tr>\n",
       "    <tr>\n",
       "      <th>9</th>\n",
       "      <td>Call of Duty: Advanced Warfare</td>\n",
       "      <td>21.780000</td>\n",
       "    </tr>\n",
       "  </tbody>\n",
       "</table>\n",
       "</div>"
      ],
      "text/plain": [
       "                            title  total_sales\n",
       "0              Grand Theft Auto V    65.686451\n",
       "1         Call of Duty: Black Ops    32.037338\n",
       "2  Call of Duty: Modern Warfare 3    31.059113\n",
       "3      Call of Duty: Black Ops II    29.939113\n",
       "4            Call of Duty: Ghosts    29.149113\n",
       "5       Call of Duty: Black Ops 3    26.720000\n",
       "6                       Minecraft    26.104676\n",
       "7  Call of Duty: Modern Warfare 2    26.067338\n",
       "8             Grand Theft Auto IV    23.228225\n",
       "9  Call of Duty: Advanced Warfare    21.780000"
      ]
     },
     "execution_count": 388,
     "metadata": {},
     "output_type": "execute_result"
    }
   ],
   "source": [
    "top_selling_games = df.groupby('title').total_sales.sum().sort_values(ascending = False).reset_index()\n",
    "\n",
    "top10_titles = top_selling_games.head(10)\n",
    "\n",
    "top10_titles"
   ]
  },
  {
   "cell_type": "code",
   "execution_count": 482,
   "id": "7ef9ea79-aad4-4d84-a79f-3376ea28faa5",
   "metadata": {},
   "outputs": [
    {
     "name": "stderr",
     "output_type": "stream",
     "text": [
      "C:\\Users\\asus\\AppData\\Local\\Temp\\ipykernel_22864\\4147359019.py:2: FutureWarning:\n",
      "\n",
      "\n",
      "\n",
      "Passing `palette` without assigning `hue` is deprecated and will be removed in v0.14.0. Assign the `x` variable to `hue` and set `legend=False` for the same effect.\n",
      "\n",
      "\n"
     ]
    },
    {
     "data": {
      "image/png": "[encoded data removed]",
      "text/plain": [
       "<Figure size 1200x800 with 1 Axes>"
      ]
     },
     "metadata": {},
     "output_type": "display_data"
    }
   ],
   "source": [
    "plt.figure(figsize = (12,8))\n",
    "sns.barplot(data = top10_titles, x = 'title', y = 'total_sales', palette='viridis')\n",
    "plt.title(\"Top 10 Best-Selling Games Worldwide\")\n",
    "plt.xlabel(\"Game Title\")\n",
    "plt.ylabel(\"Global Sales\")\n",
    "plt.xticks(rotation = 90)\n",
    "plt.show()"
   ]
  },
  {
   "cell_type": "markdown",
   "id": "8dc82a70-7887-4473-898f-719cbe6e34e4",
   "metadata": {},
   "source": [
    "GRAND THEFT AUTO V IS THE HIGHEST SELLING TITLE WORLDWIDE"
   ]
  },
  {
   "cell_type": "markdown",
   "id": "10bd0f22-73fb-49f1-91f7-e327ab3d3c8c",
   "metadata": {},
   "source": [
    "2. Examine sales trends over time to capture industry growth or decline."
   ]
  },
  {
   "cell_type": "code",
   "execution_count": 390,
   "id": "e06907e3-0d03-441e-b4f5-4b853ab4a751",
   "metadata": {},
   "outputs": [
    {
     "data": {
      "text/html": [
       "<div>\n",
       "<style scoped>\n",
       "    .dataframe tbody tr th:only-of-type {\n",
       "        vertical-align: middle;\n",
       "    }\n",
       "\n",
       "    .dataframe tbody tr th {\n",
       "        vertical-align: top;\n",
       "    }\n",
       "\n",
       "    .dataframe thead th {\n",
       "        text-align: right;\n",
       "    }\n",
       "</style>\n",
       "<table border=\"1\" class=\"dataframe\">\n",
       "  <thead>\n",
       "    <tr style=\"text-align: right;\">\n",
       "      <th></th>\n",
       "      <th>title</th>\n",
       "      <th>console</th>\n",
       "      <th>genre</th>\n",
       "      <th>publisher</th>\n",
       "      <th>developer</th>\n",
       "      <th>critic_score</th>\n",
       "      <th>total_sales</th>\n",
       "      <th>na_sales</th>\n",
       "      <th>jp_sales</th>\n",
       "      <th>pal_sales</th>\n",
       "      <th>other_sales</th>\n",
       "      <th>release_date</th>\n",
       "      <th>last_update</th>\n",
       "      <th>release_year</th>\n",
       "    </tr>\n",
       "  </thead>\n",
       "  <tbody>\n",
       "    <tr>\n",
       "      <th>0</th>\n",
       "      <td>Grand Theft Auto V</td>\n",
       "      <td>PS3</td>\n",
       "      <td>Action</td>\n",
       "      <td>Rockstar Games</td>\n",
       "      <td>Rockstar North</td>\n",
       "      <td>9.40000</td>\n",
       "      <td>20.32</td>\n",
       "      <td>6.37</td>\n",
       "      <td>0.99</td>\n",
       "      <td>9.85</td>\n",
       "      <td>3.12</td>\n",
       "      <td>2013-09-17</td>\n",
       "      <td>2019-05-06</td>\n",
       "      <td>2013</td>\n",
       "    </tr>\n",
       "    <tr>\n",
       "      <th>1</th>\n",
       "      <td>Grand Theft Auto V</td>\n",
       "      <td>PS4</td>\n",
       "      <td>Action</td>\n",
       "      <td>Rockstar Games</td>\n",
       "      <td>Rockstar North</td>\n",
       "      <td>9.70000</td>\n",
       "      <td>19.39</td>\n",
       "      <td>6.06</td>\n",
       "      <td>0.60</td>\n",
       "      <td>9.71</td>\n",
       "      <td>3.02</td>\n",
       "      <td>2014-11-18</td>\n",
       "      <td>2018-03-01</td>\n",
       "      <td>2014</td>\n",
       "    </tr>\n",
       "    <tr>\n",
       "      <th>2</th>\n",
       "      <td>Grand Theft Auto: Vice City</td>\n",
       "      <td>PS2</td>\n",
       "      <td>Action</td>\n",
       "      <td>Rockstar Games</td>\n",
       "      <td>Rockstar North</td>\n",
       "      <td>9.60000</td>\n",
       "      <td>16.15</td>\n",
       "      <td>8.41</td>\n",
       "      <td>0.47</td>\n",
       "      <td>5.49</td>\n",
       "      <td>1.78</td>\n",
       "      <td>2002-10-28</td>\n",
       "      <td>2019-05-06</td>\n",
       "      <td>2002</td>\n",
       "    </tr>\n",
       "    <tr>\n",
       "      <th>3</th>\n",
       "      <td>Grand Theft Auto V</td>\n",
       "      <td>X360</td>\n",
       "      <td>Action</td>\n",
       "      <td>Rockstar Games</td>\n",
       "      <td>Rockstar North</td>\n",
       "      <td>7.22044</td>\n",
       "      <td>15.86</td>\n",
       "      <td>9.06</td>\n",
       "      <td>0.06</td>\n",
       "      <td>5.33</td>\n",
       "      <td>1.42</td>\n",
       "      <td>2013-09-17</td>\n",
       "      <td>2019-05-06</td>\n",
       "      <td>2013</td>\n",
       "    </tr>\n",
       "    <tr>\n",
       "      <th>4</th>\n",
       "      <td>Call of Duty: Black Ops 3</td>\n",
       "      <td>PS4</td>\n",
       "      <td>Shooter</td>\n",
       "      <td>Activision</td>\n",
       "      <td>Treyarch</td>\n",
       "      <td>8.10000</td>\n",
       "      <td>15.09</td>\n",
       "      <td>6.18</td>\n",
       "      <td>0.41</td>\n",
       "      <td>6.05</td>\n",
       "      <td>2.44</td>\n",
       "      <td>2015-06-11</td>\n",
       "      <td>2018-01-14</td>\n",
       "      <td>2015</td>\n",
       "    </tr>\n",
       "  </tbody>\n",
       "</table>\n",
       "</div>"
      ],
      "text/plain": [
       "                         title console    genre       publisher  \\\n",
       "0           Grand Theft Auto V     PS3   Action  Rockstar Games   \n",
       "1           Grand Theft Auto V     PS4   Action  Rockstar Games   \n",
       "2  Grand Theft Auto: Vice City     PS2   Action  Rockstar Games   \n",
       "3           Grand Theft Auto V    X360   Action  Rockstar Games   \n",
       "4    Call of Duty: Black Ops 3     PS4  Shooter      Activision   \n",
       "\n",
       "        developer  critic_score  total_sales  na_sales  jp_sales  pal_sales  \\\n",
       "0  Rockstar North       9.40000        20.32      6.37      0.99       9.85   \n",
       "1  Rockstar North       9.70000        19.39      6.06      0.60       9.71   \n",
       "2  Rockstar North       9.60000        16.15      8.41      0.47       5.49   \n",
       "3  Rockstar North       7.22044        15.86      9.06      0.06       5.33   \n",
       "4        Treyarch       8.10000        15.09      6.18      0.41       6.05   \n",
       "\n",
       "   other_sales release_date last_update  release_year  \n",
       "0         3.12   2013-09-17  2019-05-06          2013  \n",
       "1         3.02   2014-11-18  2018-03-01          2014  \n",
       "2         1.78   2002-10-28  2019-05-06          2002  \n",
       "3         1.42   2013-09-17  2019-05-06          2013  \n",
       "4         2.44   2015-06-11  2018-01-14          2015  "
      ]
     },
     "execution_count": 390,
     "metadata": {},
     "output_type": "execute_result"
    }
   ],
   "source": [
    "# EXTRACTING RELEASE YEAR FOR GROUPBY FUNCTION\n",
    "\n",
    "df['release_year'] = pd.to_datetime(df['release_date']).dt.year\n",
    "\n",
    "df.head()"
   ]
  },
  {
   "cell_type": "code",
   "execution_count": 391,
   "id": "c626099d-4b55-4c7a-bcd8-27236013ccf4",
   "metadata": {},
   "outputs": [
    {
     "data": {
      "text/html": [
       "<div>\n",
       "<style scoped>\n",
       "    .dataframe tbody tr th:only-of-type {\n",
       "        vertical-align: middle;\n",
       "    }\n",
       "\n",
       "    .dataframe tbody tr th {\n",
       "        vertical-align: top;\n",
       "    }\n",
       "\n",
       "    .dataframe thead th {\n",
       "        text-align: right;\n",
       "    }\n",
       "</style>\n",
       "<table border=\"1\" class=\"dataframe\">\n",
       "  <thead>\n",
       "    <tr style=\"text-align: right;\">\n",
       "      <th></th>\n",
       "      <th>title</th>\n",
       "      <th>console</th>\n",
       "      <th>genre</th>\n",
       "      <th>publisher</th>\n",
       "      <th>developer</th>\n",
       "      <th>critic_score</th>\n",
       "      <th>total_sales</th>\n",
       "      <th>na_sales</th>\n",
       "      <th>jp_sales</th>\n",
       "      <th>pal_sales</th>\n",
       "      <th>other_sales</th>\n",
       "      <th>release_date</th>\n",
       "      <th>last_update</th>\n",
       "      <th>release_year</th>\n",
       "    </tr>\n",
       "  </thead>\n",
       "  <tbody>\n",
       "    <tr>\n",
       "      <th>30650</th>\n",
       "      <td>The Oregon Trail</td>\n",
       "      <td>Series</td>\n",
       "      <td>Education</td>\n",
       "      <td>MECC</td>\n",
       "      <td>MECC</td>\n",
       "      <td>7.22044</td>\n",
       "      <td>0.349113</td>\n",
       "      <td>0.26474</td>\n",
       "      <td>0.102281</td>\n",
       "      <td>0.149472</td>\n",
       "      <td>0.043041</td>\n",
       "      <td>2071-03-12</td>\n",
       "      <td>2020-02-18</td>\n",
       "      <td>2071</td>\n",
       "    </tr>\n",
       "    <tr>\n",
       "      <th>57351</th>\n",
       "      <td>Trek73</td>\n",
       "      <td>PC</td>\n",
       "      <td>Simulation</td>\n",
       "      <td>Unknown</td>\n",
       "      <td>William K. Char, Perry Lee, and Dan Gee</td>\n",
       "      <td>7.22044</td>\n",
       "      <td>0.349113</td>\n",
       "      <td>0.26474</td>\n",
       "      <td>0.102281</td>\n",
       "      <td>0.149472</td>\n",
       "      <td>0.043041</td>\n",
       "      <td>2073-08-10</td>\n",
       "      <td>2019-05-06</td>\n",
       "      <td>2073</td>\n",
       "    </tr>\n",
       "  </tbody>\n",
       "</table>\n",
       "</div>"
      ],
      "text/plain": [
       "                  title console       genre publisher  \\\n",
       "30650  The Oregon Trail  Series   Education      MECC   \n",
       "57351            Trek73      PC  Simulation   Unknown   \n",
       "\n",
       "                                     developer  critic_score  total_sales  \\\n",
       "30650                                     MECC       7.22044     0.349113   \n",
       "57351  William K. Char, Perry Lee, and Dan Gee       7.22044     0.349113   \n",
       "\n",
       "       na_sales  jp_sales  pal_sales  other_sales release_date last_update  \\\n",
       "30650   0.26474  0.102281   0.149472     0.043041   2071-03-12  2020-02-18   \n",
       "57351   0.26474  0.102281   0.149472     0.043041   2073-08-10  2019-05-06   \n",
       "\n",
       "       release_year  \n",
       "30650          2071  \n",
       "57351          2073  "
      ]
     },
     "execution_count": 391,
     "metadata": {},
     "output_type": "execute_result"
    }
   ],
   "source": [
    "df.loc[df.release_year > 2024]"
   ]
  },
  {
   "cell_type": "code",
   "execution_count": 392,
   "id": "bf07abe1-09a0-403d-9aa4-7838532ce5ab",
   "metadata": {},
   "outputs": [],
   "source": [
    "df = df.drop(df[df['release_year'] == 2071].index)\n",
    "df = df.drop(df[df['release_year'] == 2073].index)"
   ]
  },
  {
   "cell_type": "code",
   "execution_count": 393,
   "id": "e06996d9-6edc-4366-ad6b-180a6433eb44",
   "metadata": {},
   "outputs": [
    {
     "data": {
      "text/html": [
       "<div>\n",
       "<style scoped>\n",
       "    .dataframe tbody tr th:only-of-type {\n",
       "        vertical-align: middle;\n",
       "    }\n",
       "\n",
       "    .dataframe tbody tr th {\n",
       "        vertical-align: top;\n",
       "    }\n",
       "\n",
       "    .dataframe thead th {\n",
       "        text-align: right;\n",
       "    }\n",
       "</style>\n",
       "<table border=\"1\" class=\"dataframe\">\n",
       "  <thead>\n",
       "    <tr style=\"text-align: right;\">\n",
       "      <th></th>\n",
       "      <th>release_year</th>\n",
       "      <th>total_sales</th>\n",
       "    </tr>\n",
       "  </thead>\n",
       "  <tbody>\n",
       "    <tr>\n",
       "      <th>0</th>\n",
       "      <td>2008</td>\n",
       "      <td>3429.537130</td>\n",
       "    </tr>\n",
       "    <tr>\n",
       "      <th>1</th>\n",
       "      <td>2009</td>\n",
       "      <td>1405.496739</td>\n",
       "    </tr>\n",
       "    <tr>\n",
       "      <th>2</th>\n",
       "      <td>2010</td>\n",
       "      <td>1223.813444</td>\n",
       "    </tr>\n",
       "    <tr>\n",
       "      <th>3</th>\n",
       "      <td>2011</td>\n",
       "      <td>1185.326444</td>\n",
       "    </tr>\n",
       "    <tr>\n",
       "      <th>4</th>\n",
       "      <td>2014</td>\n",
       "      <td>1083.199317</td>\n",
       "    </tr>\n",
       "    <tr>\n",
       "      <th>5</th>\n",
       "      <td>2007</td>\n",
       "      <td>875.224630</td>\n",
       "    </tr>\n",
       "    <tr>\n",
       "      <th>6</th>\n",
       "      <td>2013</td>\n",
       "      <td>694.012137</td>\n",
       "    </tr>\n",
       "    <tr>\n",
       "      <th>7</th>\n",
       "      <td>2002</td>\n",
       "      <td>620.322702</td>\n",
       "    </tr>\n",
       "    <tr>\n",
       "      <th>8</th>\n",
       "      <td>2003</td>\n",
       "      <td>616.138744</td>\n",
       "    </tr>\n",
       "    <tr>\n",
       "      <th>9</th>\n",
       "      <td>2006</td>\n",
       "      <td>610.290081</td>\n",
       "    </tr>\n",
       "  </tbody>\n",
       "</table>\n",
       "</div>"
      ],
      "text/plain": [
       "   release_year  total_sales\n",
       "0          2008  3429.537130\n",
       "1          2009  1405.496739\n",
       "2          2010  1223.813444\n",
       "3          2011  1185.326444\n",
       "4          2014  1083.199317\n",
       "5          2007   875.224630\n",
       "6          2013   694.012137\n",
       "7          2002   620.322702\n",
       "8          2003   616.138744\n",
       "9          2006   610.290081"
      ]
     },
     "execution_count": 393,
     "metadata": {},
     "output_type": "execute_result"
    }
   ],
   "source": [
    "yearly_sales = df.groupby(['release_year']).total_sales.sum().sort_values(ascending = False).reset_index()\n",
    "\n",
    "top10_years = yearly_sales.head(10)\n",
    "\n",
    "top10_years"
   ]
  },
  {
   "cell_type": "code",
   "execution_count": 475,
   "id": "e95756f8-d86f-424a-b970-71d08840cc17",
   "metadata": {},
   "outputs": [
    {
     "name": "stderr",
     "output_type": "stream",
     "text": [
      "C:\\Users\\asus\\AppData\\Local\\Temp\\ipykernel_22864\\1138402198.py:2: FutureWarning:\n",
      "\n",
      "\n",
      "\n",
      "Passing `palette` without assigning `hue` is deprecated and will be removed in v0.14.0. Assign the `x` variable to `hue` and set `legend=False` for the same effect.\n",
      "\n",
      "\n"
     ]
    },
    {
     "data": {
      "image/png": "[encoded data removed]",
      "text/plain": [
       "<Figure size 1200x1000 with 1 Axes>"
      ]
     },
     "metadata": {},
     "output_type": "display_data"
    }
   ],
   "source": [
    "plt.figure(figsize = (12,10))\n",
    "sns.barplot (data = top10_years, x = 'release_year', y = 'total_sales', palette = 'viridis')\n",
    "plt.title(\"Top 10 Highest-Selling Years\")\n",
    "plt.xlabel(\"Year\")\n",
    "plt.ylabel(\"Global Sales\")\n",
    "plt.xticks(rotation=0)\n",
    "plt.show()"
   ]
  },
  {
   "cell_type": "markdown",
   "id": "bd2d3367-abba-4b88-b199-17d638a0252c",
   "metadata": {},
   "source": [
    "2008 WAS THE HIGHEST SELLING YEAR FOR GAMES, FOLLOWED BY 2009."
   ]
  },
  {
   "cell_type": "code",
   "execution_count": 476,
   "id": "3bacca54-76f4-4cd2-92e6-311894e979a2",
   "metadata": {},
   "outputs": [
    {
     "data": {
      "image/png": "[encoded data removed]",
      "text/plain": [
       "<Figure size 1200x1000 with 1 Axes>"
      ]
     },
     "metadata": {},
     "output_type": "display_data"
    }
   ],
   "source": [
    "# INDUSTRY TREND GROWTH OR DECLINE\n",
    "\n",
    "plt.figure(figsize=(12,10))\n",
    "sns.lineplot(data = yearly_sales, x='release_year', y='total_sales', marker='', color='tab:red')\n",
    "plt.title(\"Global Video Game Sales Over Time\")\n",
    "plt.xlabel(\"Year\")\n",
    "plt.ylabel(\"Global Sales\")\n",
    "plt.grid(True)\n",
    "plt.show()"
   ]
  },
  {
   "cell_type": "markdown",
   "id": "0916deac-81ec-4722-950f-36fd4c4e2aae",
   "metadata": {},
   "source": [
    "THE INDUSTRY HAS SHOWN MASSIVE GROWTH SPIKE IN 2008, FOLLOWED BY A GRADUAL DECLINE."
   ]
  },
  {
   "cell_type": "markdown",
   "id": "838256f7-6039-4b21-a2d2-90caca479167",
   "metadata": {},
   "source": [
    "3. Discover genre specializations across consoles."
   ]
  },
  {
   "cell_type": "code",
   "execution_count": 396,
   "id": "b369fcdb-9b2c-4327-9e09-3c4348ac40d1",
   "metadata": {},
   "outputs": [
    {
     "data": {
      "text/html": [
       "<div>\n",
       "<style scoped>\n",
       "    .dataframe tbody tr th:only-of-type {\n",
       "        vertical-align: middle;\n",
       "    }\n",
       "\n",
       "    .dataframe tbody tr th {\n",
       "        vertical-align: top;\n",
       "    }\n",
       "\n",
       "    .dataframe thead th {\n",
       "        text-align: right;\n",
       "    }\n",
       "</style>\n",
       "<table border=\"1\" class=\"dataframe\">\n",
       "  <thead>\n",
       "    <tr style=\"text-align: right;\">\n",
       "      <th></th>\n",
       "      <th>index</th>\n",
       "      <th>console</th>\n",
       "      <th>genre</th>\n",
       "      <th>total_sales</th>\n",
       "    </tr>\n",
       "  </thead>\n",
       "  <tbody>\n",
       "    <tr>\n",
       "      <th>0</th>\n",
       "      <td>456</td>\n",
       "      <td>PC</td>\n",
       "      <td>Adventure</td>\n",
       "      <td>579.434784</td>\n",
       "    </tr>\n",
       "    <tr>\n",
       "      <th>1</th>\n",
       "      <td>472</td>\n",
       "      <td>PC</td>\n",
       "      <td>Strategy</td>\n",
       "      <td>491.942109</td>\n",
       "    </tr>\n",
       "    <tr>\n",
       "      <th>2</th>\n",
       "      <td>461</td>\n",
       "      <td>PC</td>\n",
       "      <td>Misc</td>\n",
       "      <td>466.622278</td>\n",
       "    </tr>\n",
       "    <tr>\n",
       "      <th>3</th>\n",
       "      <td>467</td>\n",
       "      <td>PC</td>\n",
       "      <td>Role-Playing</td>\n",
       "      <td>421.048926</td>\n",
       "    </tr>\n",
       "    <tr>\n",
       "      <th>4</th>\n",
       "      <td>454</td>\n",
       "      <td>PC</td>\n",
       "      <td>Action</td>\n",
       "      <td>406.433771</td>\n",
       "    </tr>\n",
       "  </tbody>\n",
       "</table>\n",
       "</div>"
      ],
      "text/plain": [
       "   index console         genre  total_sales\n",
       "0    456      PC     Adventure   579.434784\n",
       "1    472      PC      Strategy   491.942109\n",
       "2    461      PC          Misc   466.622278\n",
       "3    467      PC  Role-Playing   421.048926\n",
       "4    454      PC        Action   406.433771"
      ]
     },
     "execution_count": 396,
     "metadata": {},
     "output_type": "execute_result"
    }
   ],
   "source": [
    "console_genre = df.groupby(['console', 'genre']).total_sales.sum().reset_index()\n",
    "\n",
    "cg_sorted = console_genre.sort_values(by = 'total_sales', ascending = False).head(50).reset_index()\n",
    "\n",
    "cg_sorted.head()"
   ]
  },
  {
   "cell_type": "code",
   "execution_count": 481,
   "id": "e278e6ac-d4f2-424b-8c17-8fec1224d3f1",
   "metadata": {},
   "outputs": [
    {
     "data": {
      "image/png": "[encoded data removed]",
      "text/plain": [
       "<Figure size 1200x800 with 2 Axes>"
      ]
     },
     "metadata": {},
     "output_type": "display_data"
    }
   ],
   "source": [
    "# Pivot the data for a heatmap (this will create a matrix of platforms and genres)\n",
    "heatmap_data = cg_sorted.pivot(index='console', columns='genre', values='total_sales')\n",
    "\n",
    "# Create a heatmap using Seaborn\n",
    "plt.figure(figsize=(12,8))\n",
    "sns.heatmap(heatmap_data, annot=True, fmt='.1f', cmap='Greens', linewidths=1, cbar_kws={'label': 'Total Sales'})\n",
    "\n",
    "plt.title(\"Heatmap of Total Sales by Genre and Console\", fontsize=16)\n",
    "plt.xlabel(\"Genre\", fontsize=15)\n",
    "plt.ylabel(\"Console\", fontsize=15)\n",
    "plt.xticks(rotation=90, ha='right')  \n",
    "\n",
    "plt.tight_layout()\n",
    "plt.show()"
   ]
  },
  {
   "cell_type": "markdown",
   "id": "fa3bd653-6522-4875-9b8f-a7b75132973f",
   "metadata": {},
   "source": [
    "PC CONSOLE HAS THE HIGHEST SALES WITH ADVENTURE BEING THE MAIN SPECIALIZATION, FOLLOWED BY STRATEGY, ROLE-PLAYING, AND ACTION.\n",
    "\n",
    "GENRES LIKE ACTION, SHOOTER AND SPORTS HAVE A WIDESPREAD REACH TO MULTIPLE CONSOLES. REST OF THE GENRES ARE CONSOLE SPECIFIC."
   ]
  },
  {
   "cell_type": "markdown",
   "id": "3d35ecf1-d5be-4397-8b39-538bcb48dcd1",
   "metadata": {},
   "source": [
    "4. Analyze regional popularity to spot localized preferences or disparities."
   ]
  },
  {
   "cell_type": "code",
   "execution_count": 362,
   "id": "d9285b14-c648-4fb7-8286-294b2095a068",
   "metadata": {},
   "outputs": [
    {
     "data": {
      "text/html": [
       "<div>\n",
       "<style scoped>\n",
       "    .dataframe tbody tr th:only-of-type {\n",
       "        vertical-align: middle;\n",
       "    }\n",
       "\n",
       "    .dataframe tbody tr th {\n",
       "        vertical-align: top;\n",
       "    }\n",
       "\n",
       "    .dataframe thead th {\n",
       "        text-align: right;\n",
       "    }\n",
       "</style>\n",
       "<table border=\"1\" class=\"dataframe\">\n",
       "  <thead>\n",
       "    <tr style=\"text-align: right;\">\n",
       "      <th></th>\n",
       "      <th>title</th>\n",
       "      <th>console</th>\n",
       "      <th>genre</th>\n",
       "      <th>publisher</th>\n",
       "      <th>developer</th>\n",
       "      <th>critic_score</th>\n",
       "      <th>total_sales</th>\n",
       "      <th>na_sales</th>\n",
       "      <th>jp_sales</th>\n",
       "      <th>pal_sales</th>\n",
       "      <th>other_sales</th>\n",
       "      <th>release_date</th>\n",
       "      <th>last_update</th>\n",
       "      <th>release_year</th>\n",
       "    </tr>\n",
       "  </thead>\n",
       "  <tbody>\n",
       "    <tr>\n",
       "      <th>0</th>\n",
       "      <td>Grand Theft Auto V</td>\n",
       "      <td>PS3</td>\n",
       "      <td>Action</td>\n",
       "      <td>Rockstar Games</td>\n",
       "      <td>Rockstar North</td>\n",
       "      <td>9.40000</td>\n",
       "      <td>20.32</td>\n",
       "      <td>6.37</td>\n",
       "      <td>0.99</td>\n",
       "      <td>9.85</td>\n",
       "      <td>3.12</td>\n",
       "      <td>2013-09-17</td>\n",
       "      <td>2019-05-06</td>\n",
       "      <td>2013</td>\n",
       "    </tr>\n",
       "    <tr>\n",
       "      <th>1</th>\n",
       "      <td>Grand Theft Auto V</td>\n",
       "      <td>PS4</td>\n",
       "      <td>Action</td>\n",
       "      <td>Rockstar Games</td>\n",
       "      <td>Rockstar North</td>\n",
       "      <td>9.70000</td>\n",
       "      <td>19.39</td>\n",
       "      <td>6.06</td>\n",
       "      <td>0.60</td>\n",
       "      <td>9.71</td>\n",
       "      <td>3.02</td>\n",
       "      <td>2014-11-18</td>\n",
       "      <td>2018-03-01</td>\n",
       "      <td>2014</td>\n",
       "    </tr>\n",
       "    <tr>\n",
       "      <th>2</th>\n",
       "      <td>Grand Theft Auto: Vice City</td>\n",
       "      <td>PS2</td>\n",
       "      <td>Action</td>\n",
       "      <td>Rockstar Games</td>\n",
       "      <td>Rockstar North</td>\n",
       "      <td>9.60000</td>\n",
       "      <td>16.15</td>\n",
       "      <td>8.41</td>\n",
       "      <td>0.47</td>\n",
       "      <td>5.49</td>\n",
       "      <td>1.78</td>\n",
       "      <td>2002-10-28</td>\n",
       "      <td>2019-05-06</td>\n",
       "      <td>2002</td>\n",
       "    </tr>\n",
       "    <tr>\n",
       "      <th>3</th>\n",
       "      <td>Grand Theft Auto V</td>\n",
       "      <td>X360</td>\n",
       "      <td>Action</td>\n",
       "      <td>Rockstar Games</td>\n",
       "      <td>Rockstar North</td>\n",
       "      <td>7.22044</td>\n",
       "      <td>15.86</td>\n",
       "      <td>9.06</td>\n",
       "      <td>0.06</td>\n",
       "      <td>5.33</td>\n",
       "      <td>1.42</td>\n",
       "      <td>2013-09-17</td>\n",
       "      <td>2019-05-06</td>\n",
       "      <td>2013</td>\n",
       "    </tr>\n",
       "    <tr>\n",
       "      <th>4</th>\n",
       "      <td>Call of Duty: Black Ops 3</td>\n",
       "      <td>PS4</td>\n",
       "      <td>Shooter</td>\n",
       "      <td>Activision</td>\n",
       "      <td>Treyarch</td>\n",
       "      <td>8.10000</td>\n",
       "      <td>15.09</td>\n",
       "      <td>6.18</td>\n",
       "      <td>0.41</td>\n",
       "      <td>6.05</td>\n",
       "      <td>2.44</td>\n",
       "      <td>2015-06-11</td>\n",
       "      <td>2018-01-14</td>\n",
       "      <td>2015</td>\n",
       "    </tr>\n",
       "  </tbody>\n",
       "</table>\n",
       "</div>"
      ],
      "text/plain": [
       "                         title console    genre       publisher  \\\n",
       "0           Grand Theft Auto V     PS3   Action  Rockstar Games   \n",
       "1           Grand Theft Auto V     PS4   Action  Rockstar Games   \n",
       "2  Grand Theft Auto: Vice City     PS2   Action  Rockstar Games   \n",
       "3           Grand Theft Auto V    X360   Action  Rockstar Games   \n",
       "4    Call of Duty: Black Ops 3     PS4  Shooter      Activision   \n",
       "\n",
       "        developer  critic_score  total_sales  na_sales  jp_sales  pal_sales  \\\n",
       "0  Rockstar North       9.40000        20.32      6.37      0.99       9.85   \n",
       "1  Rockstar North       9.70000        19.39      6.06      0.60       9.71   \n",
       "2  Rockstar North       9.60000        16.15      8.41      0.47       5.49   \n",
       "3  Rockstar North       7.22044        15.86      9.06      0.06       5.33   \n",
       "4        Treyarch       8.10000        15.09      6.18      0.41       6.05   \n",
       "\n",
       "   other_sales release_date last_update  release_year  \n",
       "0         3.12   2013-09-17  2019-05-06          2013  \n",
       "1         3.02   2014-11-18  2018-03-01          2014  \n",
       "2         1.78   2002-10-28  2019-05-06          2002  \n",
       "3         1.42   2013-09-17  2019-05-06          2013  \n",
       "4         2.44   2015-06-11  2018-01-14          2015  "
      ]
     },
     "execution_count": 362,
     "metadata": {},
     "output_type": "execute_result"
    }
   ],
   "source": [
    "df.head()"
   ]
  },
  {
   "cell_type": "code",
   "execution_count": 398,
   "id": "9e8b2cd8-8808-4d45-b57f-1591fe4ebafb",
   "metadata": {},
   "outputs": [
    {
     "data": {
      "text/html": [
       "<div>\n",
       "<style scoped>\n",
       "    .dataframe tbody tr th:only-of-type {\n",
       "        vertical-align: middle;\n",
       "    }\n",
       "\n",
       "    .dataframe tbody tr th {\n",
       "        vertical-align: top;\n",
       "    }\n",
       "\n",
       "    .dataframe thead th {\n",
       "        text-align: right;\n",
       "    }\n",
       "</style>\n",
       "<table border=\"1\" class=\"dataframe\">\n",
       "  <thead>\n",
       "    <tr style=\"text-align: right;\">\n",
       "      <th></th>\n",
       "      <th>title</th>\n",
       "      <th>console</th>\n",
       "      <th>genre</th>\n",
       "      <th>publisher</th>\n",
       "      <th>developer</th>\n",
       "      <th>critic_score</th>\n",
       "      <th>total_sales</th>\n",
       "      <th>na_sales</th>\n",
       "      <th>jp_sales</th>\n",
       "      <th>pal_sales</th>\n",
       "      <th>other_sales</th>\n",
       "      <th>release_date</th>\n",
       "      <th>last_update</th>\n",
       "      <th>release_year</th>\n",
       "      <th>na_ratio</th>\n",
       "      <th>jp_ratio</th>\n",
       "      <th>pal_ratio</th>\n",
       "    </tr>\n",
       "  </thead>\n",
       "  <tbody>\n",
       "    <tr>\n",
       "      <th>18669</th>\n",
       "      <td>Europa Universalis: Rome Gold</td>\n",
       "      <td>PC</td>\n",
       "      <td>Strategy</td>\n",
       "      <td>Paradox Interactive</td>\n",
       "      <td>Paradox Interactive</td>\n",
       "      <td>7.22044</td>\n",
       "      <td>0.0</td>\n",
       "      <td>0.26474</td>\n",
       "      <td>0.102281</td>\n",
       "      <td>0.000000</td>\n",
       "      <td>0.000000</td>\n",
       "      <td>2009-10-07</td>\n",
       "      <td>2019-05-06</td>\n",
       "      <td>2009</td>\n",
       "      <td>inf</td>\n",
       "      <td>inf</td>\n",
       "      <td>NaN</td>\n",
       "    </tr>\n",
       "    <tr>\n",
       "      <th>18051</th>\n",
       "      <td>Island</td>\n",
       "      <td>PS4</td>\n",
       "      <td>Adventure</td>\n",
       "      <td>Prototype</td>\n",
       "      <td>Prototype</td>\n",
       "      <td>7.22044</td>\n",
       "      <td>0.0</td>\n",
       "      <td>0.26474</td>\n",
       "      <td>0.000000</td>\n",
       "      <td>0.149472</td>\n",
       "      <td>0.043041</td>\n",
       "      <td>2018-06-28</td>\n",
       "      <td>2018-12-08</td>\n",
       "      <td>2018</td>\n",
       "      <td>inf</td>\n",
       "      <td>NaN</td>\n",
       "      <td>inf</td>\n",
       "    </tr>\n",
       "    <tr>\n",
       "      <th>18032</th>\n",
       "      <td>Ninki Seiyuu no Tsukurikata</td>\n",
       "      <td>PSV</td>\n",
       "      <td>Adventure</td>\n",
       "      <td>Entergram</td>\n",
       "      <td>Entergram</td>\n",
       "      <td>7.22044</td>\n",
       "      <td>0.0</td>\n",
       "      <td>0.26474</td>\n",
       "      <td>0.000000</td>\n",
       "      <td>0.149472</td>\n",
       "      <td>0.043041</td>\n",
       "      <td>2018-01-25</td>\n",
       "      <td>2018-03-24</td>\n",
       "      <td>2018</td>\n",
       "      <td>inf</td>\n",
       "      <td>NaN</td>\n",
       "      <td>inf</td>\n",
       "    </tr>\n",
       "    <tr>\n",
       "      <th>18033</th>\n",
       "      <td>Hidden Expedition: The Uncharted Islands</td>\n",
       "      <td>PC</td>\n",
       "      <td>Adventure</td>\n",
       "      <td>Unknown</td>\n",
       "      <td>Activision</td>\n",
       "      <td>7.22044</td>\n",
       "      <td>0.0</td>\n",
       "      <td>0.26474</td>\n",
       "      <td>0.102281</td>\n",
       "      <td>0.000000</td>\n",
       "      <td>0.000000</td>\n",
       "      <td>2008-08-27</td>\n",
       "      <td>2019-05-06</td>\n",
       "      <td>2008</td>\n",
       "      <td>inf</td>\n",
       "      <td>inf</td>\n",
       "      <td>NaN</td>\n",
       "    </tr>\n",
       "    <tr>\n",
       "      <th>18034</th>\n",
       "      <td>The Lost Crown: A Ghost-hunting Adventure</td>\n",
       "      <td>PC</td>\n",
       "      <td>Adventure</td>\n",
       "      <td>Got Game Entertainment</td>\n",
       "      <td>Darkling Room</td>\n",
       "      <td>7.22044</td>\n",
       "      <td>0.0</td>\n",
       "      <td>0.26474</td>\n",
       "      <td>0.102281</td>\n",
       "      <td>0.000000</td>\n",
       "      <td>0.000000</td>\n",
       "      <td>2008-03-03</td>\n",
       "      <td>2019-05-06</td>\n",
       "      <td>2008</td>\n",
       "      <td>inf</td>\n",
       "      <td>inf</td>\n",
       "      <td>NaN</td>\n",
       "    </tr>\n",
       "  </tbody>\n",
       "</table>\n",
       "</div>"
      ],
      "text/plain": [
       "                                           title console      genre  \\\n",
       "18669              Europa Universalis: Rome Gold      PC   Strategy   \n",
       "18051                                     Island     PS4  Adventure   \n",
       "18032                Ninki Seiyuu no Tsukurikata     PSV  Adventure   \n",
       "18033   Hidden Expedition: The Uncharted Islands      PC  Adventure   \n",
       "18034  The Lost Crown: A Ghost-hunting Adventure      PC  Adventure   \n",
       "\n",
       "                    publisher            developer  critic_score  total_sales  \\\n",
       "18669     Paradox Interactive  Paradox Interactive       7.22044          0.0   \n",
       "18051               Prototype            Prototype       7.22044          0.0   \n",
       "18032               Entergram            Entergram       7.22044          0.0   \n",
       "18033                 Unknown           Activision       7.22044          0.0   \n",
       "18034  Got Game Entertainment        Darkling Room       7.22044          0.0   \n",
       "\n",
       "       na_sales  jp_sales  pal_sales  other_sales release_date last_update  \\\n",
       "18669   0.26474  0.102281   0.000000     0.000000   2009-10-07  2019-05-06   \n",
       "18051   0.26474  0.000000   0.149472     0.043041   2018-06-28  2018-12-08   \n",
       "18032   0.26474  0.000000   0.149472     0.043041   2018-01-25  2018-03-24   \n",
       "18033   0.26474  0.102281   0.000000     0.000000   2008-08-27  2019-05-06   \n",
       "18034   0.26474  0.102281   0.000000     0.000000   2008-03-03  2019-05-06   \n",
       "\n",
       "       release_year  na_ratio  jp_ratio  pal_ratio  \n",
       "18669          2009       inf       inf        NaN  \n",
       "18051          2018       inf       NaN        inf  \n",
       "18032          2018       inf       NaN        inf  \n",
       "18033          2008       inf       inf        NaN  \n",
       "18034          2008       inf       inf        NaN  "
      ]
     },
     "execution_count": 398,
     "metadata": {},
     "output_type": "execute_result"
    }
   ],
   "source": [
    "df['na_ratio'] = df['na_sales'] / df['total_sales']\n",
    "df['jp_ratio'] = df['jp_sales'] / df['total_sales']\n",
    "df['pal_ratio'] = df['pal_sales'] / df['total_sales']"
   ]
  },
  {
   "cell_type": "markdown",
   "id": "751f588a-5a9b-47bf-95a5-01726edec721",
   "metadata": {},
   "source": [
    ": > 80 %  OF TOTAL SALES IN A REGION IS CONSIDERED A HIT AND < 20 % IS A FLOP"
   ]
  },
  {
   "cell_type": "code",
   "execution_count": 421,
   "id": "073bb462-fc97-4246-9e4d-ddcb69426402",
   "metadata": {},
   "outputs": [
    {
     "data": {
      "text/html": [
       "<div>\n",
       "<style scoped>\n",
       "    .dataframe tbody tr th:only-of-type {\n",
       "        vertical-align: middle;\n",
       "    }\n",
       "\n",
       "    .dataframe tbody tr th {\n",
       "        vertical-align: top;\n",
       "    }\n",
       "\n",
       "    .dataframe thead th {\n",
       "        text-align: right;\n",
       "    }\n",
       "</style>\n",
       "<table border=\"1\" class=\"dataframe\">\n",
       "  <thead>\n",
       "    <tr style=\"text-align: right;\">\n",
       "      <th></th>\n",
       "      <th>title</th>\n",
       "      <th>console</th>\n",
       "      <th>genre</th>\n",
       "      <th>publisher</th>\n",
       "      <th>developer</th>\n",
       "      <th>critic_score</th>\n",
       "      <th>total_sales</th>\n",
       "      <th>na_sales</th>\n",
       "      <th>jp_sales</th>\n",
       "      <th>pal_sales</th>\n",
       "      <th>other_sales</th>\n",
       "      <th>release_date</th>\n",
       "      <th>last_update</th>\n",
       "      <th>release_year</th>\n",
       "      <th>na_ratio</th>\n",
       "      <th>jp_ratio</th>\n",
       "      <th>pal_ratio</th>\n",
       "    </tr>\n",
       "  </thead>\n",
       "  <tbody>\n",
       "    <tr>\n",
       "      <th>75</th>\n",
       "      <td>Madden NFL 2004</td>\n",
       "      <td>PS2</td>\n",
       "      <td>Sports</td>\n",
       "      <td>EA Sports</td>\n",
       "      <td>EA Tiburon</td>\n",
       "      <td>9.50000</td>\n",
       "      <td>5.23</td>\n",
       "      <td>4.26</td>\n",
       "      <td>0.010000</td>\n",
       "      <td>0.26</td>\n",
       "      <td>0.71</td>\n",
       "      <td>2003-12-08</td>\n",
       "      <td>2019-05-06</td>\n",
       "      <td>2003</td>\n",
       "      <td>0.814532</td>\n",
       "      <td>0.001912</td>\n",
       "      <td>0.049713</td>\n",
       "    </tr>\n",
       "    <tr>\n",
       "      <th>114</th>\n",
       "      <td>Madden NFL 2005</td>\n",
       "      <td>PS2</td>\n",
       "      <td>Sports</td>\n",
       "      <td>EA Sports</td>\n",
       "      <td>EA Tiburon</td>\n",
       "      <td>9.50000</td>\n",
       "      <td>4.53</td>\n",
       "      <td>4.18</td>\n",
       "      <td>0.010000</td>\n",
       "      <td>0.26</td>\n",
       "      <td>0.08</td>\n",
       "      <td>2004-09-08</td>\n",
       "      <td>2019-05-06</td>\n",
       "      <td>2004</td>\n",
       "      <td>0.922737</td>\n",
       "      <td>0.002208</td>\n",
       "      <td>0.057395</td>\n",
       "    </tr>\n",
       "    <tr>\n",
       "      <th>125</th>\n",
       "      <td>Asteroids</td>\n",
       "      <td>2600</td>\n",
       "      <td>Shooter</td>\n",
       "      <td>Atari</td>\n",
       "      <td>Atari</td>\n",
       "      <td>7.22044</td>\n",
       "      <td>4.31</td>\n",
       "      <td>4.00</td>\n",
       "      <td>0.102281</td>\n",
       "      <td>0.26</td>\n",
       "      <td>0.05</td>\n",
       "      <td>1981-01-01</td>\n",
       "      <td>2019-05-06</td>\n",
       "      <td>1981</td>\n",
       "      <td>0.928074</td>\n",
       "      <td>0.023731</td>\n",
       "      <td>0.060325</td>\n",
       "    </tr>\n",
       "    <tr>\n",
       "      <th>94</th>\n",
       "      <td>Madden NFL 06</td>\n",
       "      <td>PS2</td>\n",
       "      <td>Sports</td>\n",
       "      <td>EA Sports</td>\n",
       "      <td>EA Tiburon</td>\n",
       "      <td>9.10000</td>\n",
       "      <td>4.91</td>\n",
       "      <td>3.98</td>\n",
       "      <td>0.010000</td>\n",
       "      <td>0.26</td>\n",
       "      <td>0.66</td>\n",
       "      <td>2005-08-08</td>\n",
       "      <td>2019-05-06</td>\n",
       "      <td>2005</td>\n",
       "      <td>0.810591</td>\n",
       "      <td>0.002037</td>\n",
       "      <td>0.052953</td>\n",
       "    </tr>\n",
       "    <tr>\n",
       "      <th>136</th>\n",
       "      <td>Frogger</td>\n",
       "      <td>PS</td>\n",
       "      <td>Action</td>\n",
       "      <td>Hasbro Interactive</td>\n",
       "      <td>Millenium Interactive</td>\n",
       "      <td>7.22044</td>\n",
       "      <td>4.16</td>\n",
       "      <td>3.79</td>\n",
       "      <td>0.102281</td>\n",
       "      <td>0.27</td>\n",
       "      <td>0.11</td>\n",
       "      <td>1997-09-30</td>\n",
       "      <td>2019-05-06</td>\n",
       "      <td>1997</td>\n",
       "      <td>0.911058</td>\n",
       "      <td>0.024587</td>\n",
       "      <td>0.064904</td>\n",
       "    </tr>\n",
       "    <tr>\n",
       "      <th>135</th>\n",
       "      <td>Teenage Mutant Ninja Turtles</td>\n",
       "      <td>NES</td>\n",
       "      <td>Platform</td>\n",
       "      <td>Ultra Games</td>\n",
       "      <td>Konami</td>\n",
       "      <td>5.90000</td>\n",
       "      <td>4.17</td>\n",
       "      <td>3.38</td>\n",
       "      <td>0.310000</td>\n",
       "      <td>0.44</td>\n",
       "      <td>0.04</td>\n",
       "      <td>1989-01-06</td>\n",
       "      <td>2019-05-06</td>\n",
       "      <td>1989</td>\n",
       "      <td>0.810552</td>\n",
       "      <td>0.074341</td>\n",
       "      <td>0.105516</td>\n",
       "    </tr>\n",
       "    <tr>\n",
       "      <th>139</th>\n",
       "      <td>Madden NFL 2003</td>\n",
       "      <td>PS2</td>\n",
       "      <td>Sports</td>\n",
       "      <td>EA Sports</td>\n",
       "      <td>EA Tiburon</td>\n",
       "      <td>9.40000</td>\n",
       "      <td>4.14</td>\n",
       "      <td>3.36</td>\n",
       "      <td>0.010000</td>\n",
       "      <td>0.21</td>\n",
       "      <td>0.56</td>\n",
       "      <td>2002-12-08</td>\n",
       "      <td>2019-05-06</td>\n",
       "      <td>2002</td>\n",
       "      <td>0.811594</td>\n",
       "      <td>0.002415</td>\n",
       "      <td>0.050725</td>\n",
       "    </tr>\n",
       "    <tr>\n",
       "      <th>193</th>\n",
       "      <td>Assassin's Creed: Brotherhood</td>\n",
       "      <td>X360</td>\n",
       "      <td>Action</td>\n",
       "      <td>Ubisoft</td>\n",
       "      <td>Ubisoft Montreal</td>\n",
       "      <td>9.10000</td>\n",
       "      <td>3.53</td>\n",
       "      <td>2.87</td>\n",
       "      <td>0.030000</td>\n",
       "      <td>0.39</td>\n",
       "      <td>0.25</td>\n",
       "      <td>2010-11-16</td>\n",
       "      <td>2019-05-06</td>\n",
       "      <td>2010</td>\n",
       "      <td>0.813031</td>\n",
       "      <td>0.008499</td>\n",
       "      <td>0.110482</td>\n",
       "    </tr>\n",
       "    <tr>\n",
       "      <th>247</th>\n",
       "      <td>NBA 2K13</td>\n",
       "      <td>X360</td>\n",
       "      <td>Sports</td>\n",
       "      <td>2K Sports</td>\n",
       "      <td>Visual Concepts</td>\n",
       "      <td>8.60000</td>\n",
       "      <td>3.11</td>\n",
       "      <td>2.62</td>\n",
       "      <td>0.010000</td>\n",
       "      <td>0.21</td>\n",
       "      <td>0.28</td>\n",
       "      <td>2012-02-10</td>\n",
       "      <td>2018-04-01</td>\n",
       "      <td>2012</td>\n",
       "      <td>0.842444</td>\n",
       "      <td>0.003215</td>\n",
       "      <td>0.067524</td>\n",
       "    </tr>\n",
       "    <tr>\n",
       "      <th>270</th>\n",
       "      <td>Madden NFL 13</td>\n",
       "      <td>X360</td>\n",
       "      <td>Sports</td>\n",
       "      <td>EA Sports</td>\n",
       "      <td>EA Tiburon</td>\n",
       "      <td>8.00000</td>\n",
       "      <td>2.93</td>\n",
       "      <td>2.53</td>\n",
       "      <td>0.102281</td>\n",
       "      <td>0.16</td>\n",
       "      <td>0.24</td>\n",
       "      <td>2012-08-28</td>\n",
       "      <td>2018-04-01</td>\n",
       "      <td>2012</td>\n",
       "      <td>0.863481</td>\n",
       "      <td>0.034908</td>\n",
       "      <td>0.054608</td>\n",
       "    </tr>\n",
       "  </tbody>\n",
       "</table>\n",
       "</div>"
      ],
      "text/plain": [
       "                             title console     genre           publisher  \\\n",
       "75                 Madden NFL 2004     PS2    Sports           EA Sports   \n",
       "114                Madden NFL 2005     PS2    Sports           EA Sports   \n",
       "125                      Asteroids    2600   Shooter               Atari   \n",
       "94                   Madden NFL 06     PS2    Sports           EA Sports   \n",
       "136                        Frogger      PS    Action  Hasbro Interactive   \n",
       "135   Teenage Mutant Ninja Turtles     NES  Platform         Ultra Games   \n",
       "139                Madden NFL 2003     PS2    Sports           EA Sports   \n",
       "193  Assassin's Creed: Brotherhood    X360    Action             Ubisoft   \n",
       "247                       NBA 2K13    X360    Sports           2K Sports   \n",
       "270                  Madden NFL 13    X360    Sports           EA Sports   \n",
       "\n",
       "                 developer  critic_score  total_sales  na_sales  jp_sales  \\\n",
       "75              EA Tiburon       9.50000         5.23      4.26  0.010000   \n",
       "114             EA Tiburon       9.50000         4.53      4.18  0.010000   \n",
       "125                  Atari       7.22044         4.31      4.00  0.102281   \n",
       "94              EA Tiburon       9.10000         4.91      3.98  0.010000   \n",
       "136  Millenium Interactive       7.22044         4.16      3.79  0.102281   \n",
       "135                 Konami       5.90000         4.17      3.38  0.310000   \n",
       "139             EA Tiburon       9.40000         4.14      3.36  0.010000   \n",
       "193       Ubisoft Montreal       9.10000         3.53      2.87  0.030000   \n",
       "247        Visual Concepts       8.60000         3.11      2.62  0.010000   \n",
       "270             EA Tiburon       8.00000         2.93      2.53  0.102281   \n",
       "\n",
       "     pal_sales  other_sales release_date last_update  release_year  na_ratio  \\\n",
       "75        0.26         0.71   2003-12-08  2019-05-06          2003  0.814532   \n",
       "114       0.26         0.08   2004-09-08  2019-05-06          2004  0.922737   \n",
       "125       0.26         0.05   1981-01-01  2019-05-06          1981  0.928074   \n",
       "94        0.26         0.66   2005-08-08  2019-05-06          2005  0.810591   \n",
       "136       0.27         0.11   1997-09-30  2019-05-06          1997  0.911058   \n",
       "135       0.44         0.04   1989-01-06  2019-05-06          1989  0.810552   \n",
       "139       0.21         0.56   2002-12-08  2019-05-06          2002  0.811594   \n",
       "193       0.39         0.25   2010-11-16  2019-05-06          2010  0.813031   \n",
       "247       0.21         0.28   2012-02-10  2018-04-01          2012  0.842444   \n",
       "270       0.16         0.24   2012-08-28  2018-04-01          2012  0.863481   \n",
       "\n",
       "     jp_ratio  pal_ratio  \n",
       "75   0.001912   0.049713  \n",
       "114  0.002208   0.057395  \n",
       "125  0.023731   0.060325  \n",
       "94   0.002037   0.052953  \n",
       "136  0.024587   0.064904  \n",
       "135  0.074341   0.105516  \n",
       "139  0.002415   0.050725  \n",
       "193  0.008499   0.110482  \n",
       "247  0.003215   0.067524  \n",
       "270  0.034908   0.054608  "
      ]
     },
     "execution_count": 421,
     "metadata": {},
     "output_type": "execute_result"
    }
   ],
   "source": [
    "# HIT IN NA - FLOP IN JP AND PAL\n",
    "\n",
    "na_hit = df[(df.na_ratio > 0.8) & (df.jp_ratio < 0.2) & (df.pal_ratio < 0.2)].sort_values(by = 'na_sales', ascending = False)\n",
    "na_top10 = na_hit.head(10)\n",
    "na_top10"
   ]
  },
  {
   "cell_type": "code",
   "execution_count": 457,
   "id": "67113ace-25d2-4111-8b94-1f370ad4a74a",
   "metadata": {},
   "outputs": [
    {
     "data": {
      "application/vnd.plotly.v1+json": {
       "config": {
        "plotlyServerURL": "https://plot.ly"
       },
       "data": [
        {
         "alignmentgroup": "True",
         "hovertemplate": "variable=na_sales<br>title=%{x}<br>value=%{y}<extra></extra>",
         "legendgroup": "na_sales",
         "marker": {
          "color": "#636efa",
          "pattern": {
           "shape": ""
          }
         },
         "name": "na_sales",
         "offsetgroup": "na_sales",
         "orientation": "v",
         "showlegend": true,
         "textposition": "auto",
         "type": "bar",
         "x": [
          "Madden NFL 2004",
          "Madden NFL 2005",
          "Asteroids",
          "Madden NFL 06",
          "Frogger",
          "Teenage Mutant Ninja Turtles",
          "Madden NFL 2003",
          "Assassin's Creed: Brotherhood",
          "NBA 2K13",
          "Madden NFL 13"
         ],
         "xaxis": "x",
         "y": [
          4.26,
          4.18,
          4,
          3.98,
          3.79,
          3.38,
          3.36,
          2.87,
          2.62,
          2.53
         ],
         "yaxis": "y"
        },
        {
         "alignmentgroup": "True",
         "hovertemplate": "variable=jp_sales<br>title=%{x}<br>value=%{y}<extra></extra>",
         "legendgroup": "jp_sales",
         "marker": {
          "color": "#EF553B",
          "pattern": {
           "shape": ""
          }
         },
         "name": "jp_sales",
         "offsetgroup": "jp_sales",
         "orientation": "v",
         "showlegend": true,
         "textposition": "auto",
         "type": "bar",
         "x": [
          "Madden NFL 2004",
          "Madden NFL 2005",
          "Asteroids",
          "Madden NFL 06",
          "Frogger",
          "Teenage Mutant Ninja Turtles",
          "Madden NFL 2003",
          "Assassin's Creed: Brotherhood",
          "NBA 2K13",
          "Madden NFL 13"
         ],
         "xaxis": "x",
         "y": [
          0.01,
          0.01,
          0.10228070175438597,
          0.01,
          0.10228070175438597,
          0.31,
          0.01,
          0.03,
          0.01,
          0.10228070175438597
         ],
         "yaxis": "y"
        },
        {
         "alignmentgroup": "True",
         "hovertemplate": "variable=pal_sales<br>title=%{x}<br>value=%{y}<extra></extra>",
         "legendgroup": "pal_sales",
         "marker": {
          "color": "#00cc96",
          "pattern": {
           "shape": ""
          }
         },
         "name": "pal_sales",
         "offsetgroup": "pal_sales",
         "orientation": "v",
         "showlegend": true,
         "textposition": "auto",
         "type": "bar",
         "x": [
          "Madden NFL 2004",
          "Madden NFL 2005",
          "Asteroids",
          "Madden NFL 06",
          "Frogger",
          "Teenage Mutant Ninja Turtles",
          "Madden NFL 2003",
          "Assassin's Creed: Brotherhood",
          "NBA 2K13",
          "Madden NFL 13"
         ],
         "xaxis": "x",
         "y": [
          0.26,
          0.26,
          0.26,
          0.26,
          0.27,
          0.44,
          0.21,
          0.39,
          0.21,
          0.16
         ],
         "yaxis": "y"
        }
       ],
       "layout": {
        "barmode": "relative",
        "height": 600,
        "legend": {
         "title": {
          "text": "variable"
         },
         "tracegroupgap": 0
        },
        "template": {
         "data": {
          "bar": [
           {
            "error_x": {
             "color": "#2a3f5f"
            },
            "error_y": {
             "color": "#2a3f5f"
            },
            "marker": {
             "line": {
              "color": "#E5ECF6",
              "width": 0.5
             },
             "pattern": {
              "fillmode": "overlay",
              "size": 10,
              "solidity": 0.2
             }
            },
            "type": "bar"
           }
          ],
          "barpolar": [
           {
            "marker": {
             "line": {
              "color": "#E5ECF6",
              "width": 0.5
             },
             "pattern": {
              "fillmode": "overlay",
              "size": 10,
              "solidity": 0.2
             }
            },
            "type": "barpolar"
           }
          ],
          "carpet": [
           {
            "aaxis": {
             "endlinecolor": "#2a3f5f",
             "gridcolor": "white",
             "linecolor": "white",
             "minorgridcolor": "white",
             "startlinecolor": "#2a3f5f"
            },
            "baxis": {
             "endlinecolor": "#2a3f5f",
             "gridcolor": "white",
             "linecolor": "white",
             "minorgridcolor": "white",
             "startlinecolor": "#2a3f5f"
            },
            "type": "carpet"
           }
          ],
          "choropleth": [
           {
            "colorbar": {
             "outlinewidth": 0,
             "ticks": ""
            },
            "type": "choropleth"
           }
          ],
          "contour": [
           {
            "colorbar": {
             "outlinewidth": 0,
             "ticks": ""
            },
            "colorscale": [
             [
              0,
              "#0d0887"
             ],
             [
              0.1111111111111111,
              "#46039f"
             ],
             [
              0.2222222222222222,
              "#7201a8"
             ],
             [
              0.3333333333333333,
              "#9c179e"
             ],
             [
              0.4444444444444444,
              "#bd3786"
             ],
             [
              0.5555555555555556,
              "#d8576b"
             ],
             [
              0.6666666666666666,
              "#ed7953"
             ],
             [
              0.7777777777777778,
              "#fb9f3a"
             ],
             [
              0.8888888888888888,
              "#fdca26"
             ],
             [
              1,
              "#f0f921"
             ]
            ],
            "type": "contour"
           }
          ],
          "contourcarpet": [
           {
            "colorbar": {
             "outlinewidth": 0,
             "ticks": ""
            },
            "type": "contourcarpet"
           }
          ],
          "heatmap": [
           {
            "colorbar": {
             "outlinewidth": 0,
             "ticks": ""
            },
            "colorscale": [
             [
              0,
              "#0d0887"
             ],
             [
              0.1111111111111111,
              "#46039f"
             ],
             [
              0.2222222222222222,
              "#7201a8"
             ],
             [
              0.3333333333333333,
              "#9c179e"
             ],
             [
              0.4444444444444444,
              "#bd3786"
             ],
             [
              0.5555555555555556,
              "#d8576b"
             ],
             [
              0.6666666666666666,
              "#ed7953"
             ],
             [
              0.7777777777777778,
              "#fb9f3a"
             ],
             [
              0.8888888888888888,
              "#fdca26"
             ],
             [
              1,
              "#f0f921"
             ]
            ],
            "type": "heatmap"
           }
          ],
          "heatmapgl": [
           {
            "colorbar": {
             "outlinewidth": 0,
             "ticks": ""
            },
            "colorscale": [
             [
              0,
              "#0d0887"
             ],
             [
              0.1111111111111111,
              "#46039f"
             ],
             [
              0.2222222222222222,
              "#7201a8"
             ],
             [
              0.3333333333333333,
              "#9c179e"
             ],
             [
              0.4444444444444444,
              "#bd3786"
             ],
             [
              0.5555555555555556,
              "#d8576b"
             ],
             [
              0.6666666666666666,
              "#ed7953"
             ],
             [
              0.7777777777777778,
              "#fb9f3a"
             ],
             [
              0.8888888888888888,
              "#fdca26"
             ],
             [
              1,
              "#f0f921"
             ]
            ],
            "type": "heatmapgl"
           }
          ],
          "histogram": [
           {
            "marker": {
             "pattern": {
              "fillmode": "overlay",
              "size": 10,
              "solidity": 0.2
             }
            },
            "type": "histogram"
           }
          ],
          "histogram2d": [
           {
            "colorbar": {
             "outlinewidth": 0,
             "ticks": ""
            },
            "colorscale": [
             [
              0,
              "#0d0887"
             ],
             [
              0.1111111111111111,
              "#46039f"
             ],
             [
              0.2222222222222222,
              "#7201a8"
             ],
             [
              0.3333333333333333,
              "#9c179e"
             ],
             [
              0.4444444444444444,
              "#bd3786"
             ],
             [
              0.5555555555555556,
              "#d8576b"
             ],
             [
              0.6666666666666666,
              "#ed7953"
             ],
             [
              0.7777777777777778,
              "#fb9f3a"
             ],
             [
              0.8888888888888888,
              "#fdca26"
             ],
             [
              1,
              "#f0f921"
             ]
            ],
            "type": "histogram2d"
           }
          ],
          "histogram2dcontour": [
           {
            "colorbar": {
             "outlinewidth": 0,
             "ticks": ""
            },
            "colorscale": [
             [
              0,
              "#0d0887"
             ],
             [
              0.1111111111111111,
              "#46039f"
             ],
             [
              0.2222222222222222,
              "#7201a8"
             ],
             [
              0.3333333333333333,
              "#9c179e"
             ],
             [
              0.4444444444444444,
              "#bd3786"
             ],
             [
              0.5555555555555556,
              "#d8576b"
             ],
             [
              0.6666666666666666,
              "#ed7953"
             ],
             [
              0.7777777777777778,
              "#fb9f3a"
             ],
             [
              0.8888888888888888,
              "#fdca26"
             ],
             [
              1,
              "#f0f921"
             ]
            ],
            "type": "histogram2dcontour"
           }
          ],
          "mesh3d": [
           {
            "colorbar": {
             "outlinewidth": 0,
             "ticks": ""
            },
            "type": "mesh3d"
           }
          ],
          "parcoords": [
           {
            "line": {
             "colorbar": {
              "outlinewidth": 0,
              "ticks": ""
             }
            },
            "type": "parcoords"
           }
          ],
          "pie": [
           {
            "automargin": true,
            "type": "pie"
           }
          ],
          "scatter": [
           {
            "fillpattern": {
             "fillmode": "overlay",
             "size": 10,
             "solidity": 0.2
            },
            "type": "scatter"
           }
          ],
          "scatter3d": [
           {
            "line": {
             "colorbar": {
              "outlinewidth": 0,
              "ticks": ""
             }
            },
            "marker": {
             "colorbar": {
              "outlinewidth": 0,
              "ticks": ""
             }
            },
            "type": "scatter3d"
           }
          ],
          "scattercarpet": [
           {
            "marker": {
             "colorbar": {
              "outlinewidth": 0,
              "ticks": ""
             }
            },
            "type": "scattercarpet"
           }
          ],
          "scattergeo": [
           {
            "marker": {
             "colorbar": {
              "outlinewidth": 0,
              "ticks": ""
             }
            },
            "type": "scattergeo"
           }
          ],
          "scattergl": [
           {
            "marker": {
             "colorbar": {
              "outlinewidth": 0,
              "ticks": ""
             }
            },
            "type": "scattergl"
           }
          ],
          "scattermapbox": [
           {
            "marker": {
             "colorbar": {
              "outlinewidth": 0,
              "ticks": ""
             }
            },
            "type": "scattermapbox"
           }
          ],
          "scatterpolar": [
           {
            "marker": {
             "colorbar": {
              "outlinewidth": 0,
              "ticks": ""
             }
            },
            "type": "scatterpolar"
           }
          ],
          "scatterpolargl": [
           {
            "marker": {
             "colorbar": {
              "outlinewidth": 0,
              "ticks": ""
             }
            },
            "type": "scatterpolargl"
           }
          ],
          "scatterternary": [
           {
            "marker": {
             "colorbar": {
              "outlinewidth": 0,
              "ticks": ""
             }
            },
            "type": "scatterternary"
           }
          ],
          "surface": [
           {
            "colorbar": {
             "outlinewidth": 0,
             "ticks": ""
            },
            "colorscale": [
             [
              0,
              "#0d0887"
             ],
             [
              0.1111111111111111,
              "#46039f"
             ],
             [
              0.2222222222222222,
              "#7201a8"
             ],
             [
              0.3333333333333333,
              "#9c179e"
             ],
             [
              0.4444444444444444,
              "#bd3786"
             ],
             [
              0.5555555555555556,
              "#d8576b"
             ],
             [
              0.6666666666666666,
              "#ed7953"
             ],
             [
              0.7777777777777778,
              "#fb9f3a"
             ],
             [
              0.8888888888888888,
              "#fdca26"
             ],
             [
              1,
              "#f0f921"
             ]
            ],
            "type": "surface"
           }
          ],
          "table": [
           {
            "cells": {
             "fill": {
              "color": "#EBF0F8"
             },
             "line": {
              "color": "white"
             }
            },
            "header": {
             "fill": {
              "color": "#C8D4E3"
             },
             "line": {
              "color": "white"
             }
            },
            "type": "table"
           }
          ]
         },
         "layout": {
          "annotationdefaults": {
           "arrowcolor": "#2a3f5f",
           "arrowhead": 0,
           "arrowwidth": 1
          },
          "autotypenumbers": "strict",
          "coloraxis": {
           "colorbar": {
            "outlinewidth": 0,
            "ticks": ""
           }
          },
          "colorscale": {
           "diverging": [
            [
             0,
             "#8e0152"
            ],
            [
             0.1,
             "#c51b7d"
            ],
            [
             0.2,
             "#de77ae"
            ],
            [
             0.3,
             "#f1b6da"
            ],
            [
             0.4,
             "#fde0ef"
            ],
            [
             0.5,
             "#f7f7f7"
            ],
            [
             0.6,
             "#e6f5d0"
            ],
            [
             0.7,
             "#b8e186"
            ],
            [
             0.8,
             "#7fbc41"
            ],
            [
             0.9,
             "#4d9221"
            ],
            [
             1,
             "#276419"
            ]
           ],
           "sequential": [
            [
             0,
             "#0d0887"
            ],
            [
             0.1111111111111111,
             "#46039f"
            ],
            [
             0.2222222222222222,
             "#7201a8"
            ],
            [
             0.3333333333333333,
             "#9c179e"
            ],
            [
             0.4444444444444444,
             "#bd3786"
            ],
            [
             0.5555555555555556,
             "#d8576b"
            ],
            [
             0.6666666666666666,
             "#ed7953"
            ],
            [
             0.7777777777777778,
             "#fb9f3a"
            ],
            [
             0.8888888888888888,
             "#fdca26"
            ],
            [
             1,
             "#f0f921"
            ]
           ],
           "sequentialminus": [
            [
             0,
             "#0d0887"
            ],
            [
             0.1111111111111111,
             "#46039f"
            ],
            [
             0.2222222222222222,
             "#7201a8"
            ],
            [
             0.3333333333333333,
             "#9c179e"
            ],
            [
             0.4444444444444444,
             "#bd3786"
            ],
            [
             0.5555555555555556,
             "#d8576b"
            ],
            [
             0.6666666666666666,
             "#ed7953"
            ],
            [
             0.7777777777777778,
             "#fb9f3a"
            ],
            [
             0.8888888888888888,
             "#fdca26"
            ],
            [
             1,
             "#f0f921"
            ]
           ]
          },
          "colorway": [
           "#636efa",
           "#EF553B",
           "#00cc96",
           "#ab63fa",
           "#FFA15A",
           "#19d3f3",
           "#FF6692",
           "#B6E880",
           "#FF97FF",
           "#FECB52"
          ],
          "font": {
           "color": "#2a3f5f"
          },
          "geo": {
           "bgcolor": "white",
           "lakecolor": "white",
           "landcolor": "#E5ECF6",
           "showlakes": true,
           "showland": true,
           "subunitcolor": "white"
          },
          "hoverlabel": {
           "align": "left"
          },
          "hovermode": "closest",
          "mapbox": {
           "style": "light"
          },
          "paper_bgcolor": "white",
          "plot_bgcolor": "#E5ECF6",
          "polar": {
           "angularaxis": {
            "gridcolor": "white",
            "linecolor": "white",
            "ticks": ""
           },
           "bgcolor": "#E5ECF6",
           "radialaxis": {
            "gridcolor": "white",
            "linecolor": "white",
            "ticks": ""
           }
          },
          "scene": {
           "xaxis": {
            "backgroundcolor": "#E5ECF6",
            "gridcolor": "white",
            "gridwidth": 2,
            "linecolor": "white",
            "showbackground": true,
            "ticks": "",
            "zerolinecolor": "white"
           },
           "yaxis": {
            "backgroundcolor": "#E5ECF6",
            "gridcolor": "white",
            "gridwidth": 2,
            "linecolor": "white",
            "showbackground": true,
            "ticks": "",
            "zerolinecolor": "white"
           },
           "zaxis": {
            "backgroundcolor": "#E5ECF6",
            "gridcolor": "white",
            "gridwidth": 2,
            "linecolor": "white",
            "showbackground": true,
            "ticks": "",
            "zerolinecolor": "white"
           }
          },
          "shapedefaults": {
           "line": {
            "color": "#2a3f5f"
           }
          },
          "ternary": {
           "aaxis": {
            "gridcolor": "white",
            "linecolor": "white",
            "ticks": ""
           },
           "baxis": {
            "gridcolor": "white",
            "linecolor": "white",
            "ticks": ""
           },
           "bgcolor": "#E5ECF6",
           "caxis": {
            "gridcolor": "white",
            "linecolor": "white",
            "ticks": ""
           }
          },
          "title": {
           "x": 0.05
          },
          "xaxis": {
           "automargin": true,
           "gridcolor": "white",
           "linecolor": "white",
           "ticks": "",
           "title": {
            "standoff": 15
           },
           "zerolinecolor": "white",
           "zerolinewidth": 2
          },
          "yaxis": {
           "automargin": true,
           "gridcolor": "white",
           "linecolor": "white",
           "ticks": "",
           "title": {
            "standoff": 15
           },
           "zerolinecolor": "white",
           "zerolinewidth": 2
          }
         }
        },
        "title": {
         "text": "Top 10 most popular games in North America Region"
        },
        "width": 1000,
        "xaxis": {
         "anchor": "y",
         "autorange": true,
         "domain": [
          0,
          1
         ],
         "range": [
          -0.5,
          9.5
         ],
         "tickangle": 45,
         "title": {
          "text": "title"
         },
         "type": "category"
        },
        "yaxis": {
         "anchor": "x",
         "autorange": true,
         "domain": [
          0,
          1
         ],
         "range": [
          0,
          4.768421052631578
         ],
         "title": {
          "text": "value"
         },
         "type": "linear"
        }
       }
      },
      "image/png": "[encoded data removed]",
      "text/html": [
       "<div>                            <div id=\"558bb6d9-5452-4ed4-b8b9-5b659d69fbb4\" class=\"plotly-graph-div\" style=\"height:600px; width:1000px;\"></div>            <script type=\"text/javascript\">                require([\"plotly\"], function(Plotly) {                    window.PLOTLYENV=window.PLOTLYENV || {};                                    if (document.getElementById(\"558bb6d9-5452-4ed4-b8b9-5b659d69fbb4\")) {                    Plotly.newPlot(                        \"558bb6d9-5452-4ed4-b8b9-5b659d69fbb4\",                        [{\"alignmentgroup\":\"True\",\"hovertemplate\":\"variable=na_sales\\u003cbr\\u003etitle=%{x}\\u003cbr\\u003evalue=%{y}\\u003cextra\\u003e\\u003c\\u002fextra\\u003e\",\"legendgroup\":\"na_sales\",\"marker\":{\"color\":\"#636efa\",\"pattern\":{\"shape\":\"\"}},\"name\":\"na_sales\",\"offsetgroup\":\"na_sales\",\"orientation\":\"v\",\"showlegend\":true,\"textposition\":\"auto\",\"x\":[\"Madden NFL 2004\",\"Madden NFL 2005\",\"Asteroids\",\"Madden NFL 06\",\"Frogger\",\"Teenage Mutant Ninja Turtles\",\"Madden NFL 2003\",\"Assassin's Creed: Brotherhood\",\"NBA 2K13\",\"Madden NFL 13\"],\"xaxis\":\"x\",\"y\":[4.26,4.18,4.0,3.98,3.79,3.38,3.36,2.87,2.62,2.53],\"yaxis\":\"y\",\"type\":\"bar\"},{\"alignmentgroup\":\"True\",\"hovertemplate\":\"variable=jp_sales\\u003cbr\\u003etitle=%{x}\\u003cbr\\u003evalue=%{y}\\u003cextra\\u003e\\u003c\\u002fextra\\u003e\",\"legendgroup\":\"jp_sales\",\"marker\":{\"color\":\"#EF553B\",\"pattern\":{\"shape\":\"\"}},\"name\":\"jp_sales\",\"offsetgroup\":\"jp_sales\",\"orientation\":\"v\",\"showlegend\":true,\"textposition\":\"auto\",\"x\":[\"Madden NFL 2004\",\"Madden NFL 2005\",\"Asteroids\",\"Madden NFL 06\",\"Frogger\",\"Teenage Mutant Ninja Turtles\",\"Madden NFL 2003\",\"Assassin's Creed: Brotherhood\",\"NBA 2K13\",\"Madden NFL 13\"],\"xaxis\":\"x\",\"y\":[0.01,0.01,0.10228070175438597,0.01,0.10228070175438597,0.31,0.01,0.03,0.01,0.10228070175438597],\"yaxis\":\"y\",\"type\":\"bar\"},{\"alignmentgroup\":\"True\",\"hovertemplate\":\"variable=pal_sales\\u003cbr\\u003etitle=%{x}\\u003cbr\\u003evalue=%{y}\\u003cextra\\u003e\\u003c\\u002fextra\\u003e\",\"legendgroup\":\"pal_sales\",\"marker\":{\"color\":\"#00cc96\",\"pattern\":{\"shape\":\"\"}},\"name\":\"pal_sales\",\"offsetgroup\":\"pal_sales\",\"orientation\":\"v\",\"showlegend\":true,\"textposition\":\"auto\",\"x\":[\"Madden NFL 2004\",\"Madden NFL 2005\",\"Asteroids\",\"Madden NFL 06\",\"Frogger\",\"Teenage Mutant Ninja Turtles\",\"Madden NFL 2003\",\"Assassin's Creed: Brotherhood\",\"NBA 2K13\",\"Madden NFL 13\"],\"xaxis\":\"x\",\"y\":[0.26,0.26,0.26,0.26,0.27,0.44,0.21,0.39,0.21,0.16],\"yaxis\":\"y\",\"type\":\"bar\"}],                        {\"template\":{\"data\":{\"histogram2dcontour\":[{\"type\":\"histogram2dcontour\",\"colorbar\":{\"outlinewidth\":0,\"ticks\":\"\"},\"colorscale\":[[0.0,\"#0d0887\"],[0.1111111111111111,\"#46039f\"],[0.2222222222222222,\"#7201a8\"],[0.3333333333333333,\"#9c179e\"],[0.4444444444444444,\"#bd3786\"],[0.5555555555555556,\"#d8576b\"],[0.6666666666666666,\"#ed7953\"],[0.7777777777777778,\"#fb9f3a\"],[0.8888888888888888,\"#fdca26\"],[1.0,\"#f0f921\"]]}],\"choropleth\":[{\"type\":\"choropleth\",\"colorbar\":{\"outlinewidth\":0,\"ticks\":\"\"}}],\"histogram2d\":[{\"type\":\"histogram2d\",\"colorbar\":{\"outlinewidth\":0,\"ticks\":\"\"},\"colorscale\":[[0.0,\"#0d0887\"],[0.1111111111111111,\"#46039f\"],[0.2222222222222222,\"#7201a8\"],[0.3333333333333333,\"#9c179e\"],[0.4444444444444444,\"#bd3786\"],[0.5555555555555556,\"#d8576b\"],[0.6666666666666666,\"#ed7953\"],[0.7777777777777778,\"#fb9f3a\"],[0.8888888888888888,\"#fdca26\"],[1.0,\"#f0f921\"]]}],\"heatmap\":[{\"type\":\"heatmap\",\"colorbar\":{\"outlinewidth\":0,\"ticks\":\"\"},\"colorscale\":[[0.0,\"#0d0887\"],[0.1111111111111111,\"#46039f\"],[0.2222222222222222,\"#7201a8\"],[0.3333333333333333,\"#9c179e\"],[0.4444444444444444,\"#bd3786\"],[0.5555555555555556,\"#d8576b\"],[0.6666666666666666,\"#ed7953\"],[0.7777777777777778,\"#fb9f3a\"],[0.8888888888888888,\"#fdca26\"],[1.0,\"#f0f921\"]]}],\"heatmapgl\":[{\"type\":\"heatmapgl\",\"colorbar\":{\"outlinewidth\":0,\"ticks\":\"\"},\"colorscale\":[[0.0,\"#0d0887\"],[0.1111111111111111,\"#46039f\"],[0.2222222222222222,\"#7201a8\"],[0.3333333333333333,\"#9c179e\"],[0.4444444444444444,\"#bd3786\"],[0.5555555555555556,\"#d8576b\"],[0.6666666666666666,\"#ed7953\"],[0.7777777777777778,\"#fb9f3a\"],[0.8888888888888888,\"#fdca26\"],[1.0,\"#f0f921\"]]}],\"contourcarpet\":[{\"type\":\"contourcarpet\",\"colorbar\":{\"outlinewidth\":0,\"ticks\":\"\"}}],\"contour\":[{\"type\":\"contour\",\"colorbar\":{\"outlinewidth\":0,\"ticks\":\"\"},\"colorscale\":[[0.0,\"#0d0887\"],[0.1111111111111111,\"#46039f\"],[0.2222222222222222,\"#7201a8\"],[0.3333333333333333,\"#9c179e\"],[0.4444444444444444,\"#bd3786\"],[0.5555555555555556,\"#d8576b\"],[0.6666666666666666,\"#ed7953\"],[0.7777777777777778,\"#fb9f3a\"],[0.8888888888888888,\"#fdca26\"],[1.0,\"#f0f921\"]]}],\"surface\":[{\"type\":\"surface\",\"colorbar\":{\"outlinewidth\":0,\"ticks\":\"\"},\"colorscale\":[[0.0,\"#0d0887\"],[0.1111111111111111,\"#46039f\"],[0.2222222222222222,\"#7201a8\"],[0.3333333333333333,\"#9c179e\"],[0.4444444444444444,\"#bd3786\"],[0.5555555555555556,\"#d8576b\"],[0.6666666666666666,\"#ed7953\"],[0.7777777777777778,\"#fb9f3a\"],[0.8888888888888888,\"#fdca26\"],[1.0,\"#f0f921\"]]}],\"mesh3d\":[{\"type\":\"mesh3d\",\"colorbar\":{\"outlinewidth\":0,\"ticks\":\"\"}}],\"scatter\":[{\"fillpattern\":{\"fillmode\":\"overlay\",\"size\":10,\"solidity\":0.2},\"type\":\"scatter\"}],\"parcoords\":[{\"type\":\"parcoords\",\"line\":{\"colorbar\":{\"outlinewidth\":0,\"ticks\":\"\"}}}],\"scatterpolargl\":[{\"type\":\"scatterpolargl\",\"marker\":{\"colorbar\":{\"outlinewidth\":0,\"ticks\":\"\"}}}],\"bar\":[{\"error_x\":{\"color\":\"#2a3f5f\"},\"error_y\":{\"color\":\"#2a3f5f\"},\"marker\":{\"line\":{\"color\":\"#E5ECF6\",\"width\":0.5},\"pattern\":{\"fillmode\":\"overlay\",\"size\":10,\"solidity\":0.2}},\"type\":\"bar\"}],\"scattergeo\":[{\"type\":\"scattergeo\",\"marker\":{\"colorbar\":{\"outlinewidth\":0,\"ticks\":\"\"}}}],\"scatterpolar\":[{\"type\":\"scatterpolar\",\"marker\":{\"colorbar\":{\"outlinewidth\":0,\"ticks\":\"\"}}}],\"histogram\":[{\"marker\":{\"pattern\":{\"fillmode\":\"overlay\",\"size\":10,\"solidity\":0.2}},\"type\":\"histogram\"}],\"scattergl\":[{\"type\":\"scattergl\",\"marker\":{\"colorbar\":{\"outlinewidth\":0,\"ticks\":\"\"}}}],\"scatter3d\":[{\"type\":\"scatter3d\",\"line\":{\"colorbar\":{\"outlinewidth\":0,\"ticks\":\"\"}},\"marker\":{\"colorbar\":{\"outlinewidth\":0,\"ticks\":\"\"}}}],\"scattermapbox\":[{\"type\":\"scattermapbox\",\"marker\":{\"colorbar\":{\"outlinewidth\":0,\"ticks\":\"\"}}}],\"scatterternary\":[{\"type\":\"scatterternary\",\"marker\":{\"colorbar\":{\"outlinewidth\":0,\"ticks\":\"\"}}}],\"scattercarpet\":[{\"type\":\"scattercarpet\",\"marker\":{\"colorbar\":{\"outlinewidth\":0,\"ticks\":\"\"}}}],\"carpet\":[{\"aaxis\":{\"endlinecolor\":\"#2a3f5f\",\"gridcolor\":\"white\",\"linecolor\":\"white\",\"minorgridcolor\":\"white\",\"startlinecolor\":\"#2a3f5f\"},\"baxis\":{\"endlinecolor\":\"#2a3f5f\",\"gridcolor\":\"white\",\"linecolor\":\"white\",\"minorgridcolor\":\"white\",\"startlinecolor\":\"#2a3f5f\"},\"type\":\"carpet\"}],\"table\":[{\"cells\":{\"fill\":{\"color\":\"#EBF0F8\"},\"line\":{\"color\":\"white\"}},\"header\":{\"fill\":{\"color\":\"#C8D4E3\"},\"line\":{\"color\":\"white\"}},\"type\":\"table\"}],\"barpolar\":[{\"marker\":{\"line\":{\"color\":\"#E5ECF6\",\"width\":0.5},\"pattern\":{\"fillmode\":\"overlay\",\"size\":10,\"solidity\":0.2}},\"type\":\"barpolar\"}],\"pie\":[{\"automargin\":true,\"type\":\"pie\"}]},\"layout\":{\"autotypenumbers\":\"strict\",\"colorway\":[\"#636efa\",\"#EF553B\",\"#00cc96\",\"#ab63fa\",\"#FFA15A\",\"#19d3f3\",\"#FF6692\",\"#B6E880\",\"#FF97FF\",\"#FECB52\"],\"font\":{\"color\":\"#2a3f5f\"},\"hovermode\":\"closest\",\"hoverlabel\":{\"align\":\"left\"},\"paper_bgcolor\":\"white\",\"plot_bgcolor\":\"#E5ECF6\",\"polar\":{\"bgcolor\":\"#E5ECF6\",\"angularaxis\":{\"gridcolor\":\"white\",\"linecolor\":\"white\",\"ticks\":\"\"},\"radialaxis\":{\"gridcolor\":\"white\",\"linecolor\":\"white\",\"ticks\":\"\"}},\"ternary\":{\"bgcolor\":\"#E5ECF6\",\"aaxis\":{\"gridcolor\":\"white\",\"linecolor\":\"white\",\"ticks\":\"\"},\"baxis\":{\"gridcolor\":\"white\",\"linecolor\":\"white\",\"ticks\":\"\"},\"caxis\":{\"gridcolor\":\"white\",\"linecolor\":\"white\",\"ticks\":\"\"}},\"coloraxis\":{\"colorbar\":{\"outlinewidth\":0,\"ticks\":\"\"}},\"colorscale\":{\"sequential\":[[0.0,\"#0d0887\"],[0.1111111111111111,\"#46039f\"],[0.2222222222222222,\"#7201a8\"],[0.3333333333333333,\"#9c179e\"],[0.4444444444444444,\"#bd3786\"],[0.5555555555555556,\"#d8576b\"],[0.6666666666666666,\"#ed7953\"],[0.7777777777777778,\"#fb9f3a\"],[0.8888888888888888,\"#fdca26\"],[1.0,\"#f0f921\"]],\"sequentialminus\":[[0.0,\"#0d0887\"],[0.1111111111111111,\"#46039f\"],[0.2222222222222222,\"#7201a8\"],[0.3333333333333333,\"#9c179e\"],[0.4444444444444444,\"#bd3786\"],[0.5555555555555556,\"#d8576b\"],[0.6666666666666666,\"#ed7953\"],[0.7777777777777778,\"#fb9f3a\"],[0.8888888888888888,\"#fdca26\"],[1.0,\"#f0f921\"]],\"diverging\":[[0,\"#8e0152\"],[0.1,\"#c51b7d\"],[0.2,\"#de77ae\"],[0.3,\"#f1b6da\"],[0.4,\"#fde0ef\"],[0.5,\"#f7f7f7\"],[0.6,\"#e6f5d0\"],[0.7,\"#b8e186\"],[0.8,\"#7fbc41\"],[0.9,\"#4d9221\"],[1,\"#276419\"]]},\"xaxis\":{\"gridcolor\":\"white\",\"linecolor\":\"white\",\"ticks\":\"\",\"title\":{\"standoff\":15},\"zerolinecolor\":\"white\",\"automargin\":true,\"zerolinewidth\":2},\"yaxis\":{\"gridcolor\":\"white\",\"linecolor\":\"white\",\"ticks\":\"\",\"title\":{\"standoff\":15},\"zerolinecolor\":\"white\",\"automargin\":true,\"zerolinewidth\":2},\"scene\":{\"xaxis\":{\"backgroundcolor\":\"#E5ECF6\",\"gridcolor\":\"white\",\"linecolor\":\"white\",\"showbackground\":true,\"ticks\":\"\",\"zerolinecolor\":\"white\",\"gridwidth\":2},\"yaxis\":{\"backgroundcolor\":\"#E5ECF6\",\"gridcolor\":\"white\",\"linecolor\":\"white\",\"showbackground\":true,\"ticks\":\"\",\"zerolinecolor\":\"white\",\"gridwidth\":2},\"zaxis\":{\"backgroundcolor\":\"#E5ECF6\",\"gridcolor\":\"white\",\"linecolor\":\"white\",\"showbackground\":true,\"ticks\":\"\",\"zerolinecolor\":\"white\",\"gridwidth\":2}},\"shapedefaults\":{\"line\":{\"color\":\"#2a3f5f\"}},\"annotationdefaults\":{\"arrowcolor\":\"#2a3f5f\",\"arrowhead\":0,\"arrowwidth\":1},\"geo\":{\"bgcolor\":\"white\",\"landcolor\":\"#E5ECF6\",\"subunitcolor\":\"white\",\"showland\":true,\"showlakes\":true,\"lakecolor\":\"white\"},\"title\":{\"x\":0.05},\"mapbox\":{\"style\":\"light\"}}},\"xaxis\":{\"anchor\":\"y\",\"domain\":[0.0,1.0],\"title\":{\"text\":\"title\"},\"tickangle\":45},\"yaxis\":{\"anchor\":\"x\",\"domain\":[0.0,1.0],\"title\":{\"text\":\"value\"}},\"legend\":{\"title\":{\"text\":\"variable\"},\"tracegroupgap\":0},\"title\":{\"text\":\"Top 10 most popular games in North America Region\"},\"barmode\":\"relative\",\"width\":1000,\"height\":600},                        {\"responsive\": true}                    ).then(function(){\n",
       "                            \n",
       "var gd = document.getElementById('558bb6d9-5452-4ed4-b8b9-5b659d69fbb4');\n",
       "var x = new MutationObserver(function (mutations, observer) {{\n",
       "        var display = window.getComputedStyle(gd).display;\n",
       "        if (!display || display === 'none') {{\n",
       "            console.log([gd, 'removed!']);\n",
       "            Plotly.purge(gd);\n",
       "            observer.disconnect();\n",
       "        }}\n",
       "}});\n",
       "\n",
       "// Listen for the removal of the full notebook cells\n",
       "var notebookContainer = gd.closest('#notebook-container');\n",
       "if (notebookContainer) {{\n",
       "    x.observe(notebookContainer, {childList: true});\n",
       "}}\n",
       "\n",
       "// Listen for the clearing of the current output cell\n",
       "var outputEl = gd.closest('.output');\n",
       "if (outputEl) {{\n",
       "    x.observe(outputEl, {childList: true});\n",
       "}}\n",
       "\n",
       "                        })                };                });            </script>        </div>"
      ]
     },
     "metadata": {},
     "output_type": "display_data"
    }
   ],
   "source": [
    "fig =  px.bar(na_top10, x = 'title', y = ['na_sales', 'jp_sales', 'pal_sales'], title = 'Top 10 most popular games in North America Region')\n",
    "fig.update_layout(\n",
    "    width = 1000,  \n",
    "    height = 600,\n",
    "    xaxis_tickangle = 45\n",
    ")\n",
    "fig.show()"
   ]
  },
  {
   "cell_type": "markdown",
   "id": "e9a19cbf-424c-4c5b-be95-40119799acd8",
   "metadata": {},
   "source": [
    "GAMES THAT WERE A HIT IN NA BUT FLOPPED IN JP AND PAL - MADDEN NFL 2004 WITH HIGHEST SALES IN NA"
   ]
  },
  {
   "cell_type": "code",
   "execution_count": 429,
   "id": "fd9a02a9-4395-4bf8-8f10-e9c24ed5e246",
   "metadata": {},
   "outputs": [
    {
     "data": {
      "text/html": [
       "<div>\n",
       "<style scoped>\n",
       "    .dataframe tbody tr th:only-of-type {\n",
       "        vertical-align: middle;\n",
       "    }\n",
       "\n",
       "    .dataframe tbody tr th {\n",
       "        vertical-align: top;\n",
       "    }\n",
       "\n",
       "    .dataframe thead th {\n",
       "        text-align: right;\n",
       "    }\n",
       "</style>\n",
       "<table border=\"1\" class=\"dataframe\">\n",
       "  <thead>\n",
       "    <tr style=\"text-align: right;\">\n",
       "      <th></th>\n",
       "      <th>title</th>\n",
       "      <th>console</th>\n",
       "      <th>genre</th>\n",
       "      <th>publisher</th>\n",
       "      <th>developer</th>\n",
       "      <th>critic_score</th>\n",
       "      <th>total_sales</th>\n",
       "      <th>na_sales</th>\n",
       "      <th>jp_sales</th>\n",
       "      <th>pal_sales</th>\n",
       "      <th>other_sales</th>\n",
       "      <th>release_date</th>\n",
       "      <th>last_update</th>\n",
       "      <th>release_year</th>\n",
       "      <th>na_ratio</th>\n",
       "      <th>jp_ratio</th>\n",
       "      <th>pal_ratio</th>\n",
       "    </tr>\n",
       "  </thead>\n",
       "  <tbody>\n",
       "    <tr>\n",
       "      <th>349</th>\n",
       "      <td>Hot Shots Golf</td>\n",
       "      <td>PS</td>\n",
       "      <td>Sports</td>\n",
       "      <td>Sony Computer Entertainment</td>\n",
       "      <td>Camelot Software Planning</td>\n",
       "      <td>7.22044</td>\n",
       "      <td>2.56</td>\n",
       "      <td>0.26000</td>\n",
       "      <td>2.13</td>\n",
       "      <td>0.170000</td>\n",
       "      <td>0.043041</td>\n",
       "      <td>1998-05-05</td>\n",
       "      <td>2019-05-06</td>\n",
       "      <td>1998</td>\n",
       "      <td>0.101562</td>\n",
       "      <td>0.832031</td>\n",
       "      <td>0.066406</td>\n",
       "    </tr>\n",
       "    <tr>\n",
       "      <th>445</th>\n",
       "      <td>R.B.I. Baseball</td>\n",
       "      <td>NES</td>\n",
       "      <td>Sports</td>\n",
       "      <td>Tengen</td>\n",
       "      <td>Namco</td>\n",
       "      <td>7.22044</td>\n",
       "      <td>2.20</td>\n",
       "      <td>0.15000</td>\n",
       "      <td>2.05</td>\n",
       "      <td>0.149472</td>\n",
       "      <td>0.043041</td>\n",
       "      <td>1988-01-01</td>\n",
       "      <td>2019-05-06</td>\n",
       "      <td>1988</td>\n",
       "      <td>0.068182</td>\n",
       "      <td>0.931818</td>\n",
       "      <td>0.067942</td>\n",
       "    </tr>\n",
       "    <tr>\n",
       "      <th>499</th>\n",
       "      <td>Famista '89 - Kaimaku Han!!</td>\n",
       "      <td>NES</td>\n",
       "      <td>Sports</td>\n",
       "      <td>Namco</td>\n",
       "      <td>Namco</td>\n",
       "      <td>7.22044</td>\n",
       "      <td>2.05</td>\n",
       "      <td>0.26474</td>\n",
       "      <td>2.05</td>\n",
       "      <td>0.149472</td>\n",
       "      <td>0.043041</td>\n",
       "      <td>1989-07-28</td>\n",
       "      <td>2019-05-06</td>\n",
       "      <td>1989</td>\n",
       "      <td>0.129141</td>\n",
       "      <td>1.000000</td>\n",
       "      <td>0.072913</td>\n",
       "    </tr>\n",
       "    <tr>\n",
       "      <th>604</th>\n",
       "      <td>Dragon Quest XI</td>\n",
       "      <td>3DS</td>\n",
       "      <td>Role-Playing</td>\n",
       "      <td>Square Enix</td>\n",
       "      <td>Square Enix</td>\n",
       "      <td>7.22044</td>\n",
       "      <td>1.82</td>\n",
       "      <td>0.26474</td>\n",
       "      <td>1.82</td>\n",
       "      <td>0.149472</td>\n",
       "      <td>0.043041</td>\n",
       "      <td>2017-07-29</td>\n",
       "      <td>2018-05-01</td>\n",
       "      <td>2017</td>\n",
       "      <td>0.145462</td>\n",
       "      <td>1.000000</td>\n",
       "      <td>0.082128</td>\n",
       "    </tr>\n",
       "    <tr>\n",
       "      <th>667</th>\n",
       "      <td>Super Puyo Puyo</td>\n",
       "      <td>SNES</td>\n",
       "      <td>Puzzle</td>\n",
       "      <td>Banpresto</td>\n",
       "      <td>Compile</td>\n",
       "      <td>7.22044</td>\n",
       "      <td>1.70</td>\n",
       "      <td>0.26474</td>\n",
       "      <td>1.69</td>\n",
       "      <td>0.149472</td>\n",
       "      <td>0.010000</td>\n",
       "      <td>1993-10-12</td>\n",
       "      <td>2019-05-06</td>\n",
       "      <td>1993</td>\n",
       "      <td>0.155729</td>\n",
       "      <td>0.994118</td>\n",
       "      <td>0.087925</td>\n",
       "    </tr>\n",
       "    <tr>\n",
       "      <th>675</th>\n",
       "      <td>Tomodachi Collection: New Life</td>\n",
       "      <td>3DS</td>\n",
       "      <td>Simulation</td>\n",
       "      <td>Nintendo</td>\n",
       "      <td>Nintendo</td>\n",
       "      <td>7.22044</td>\n",
       "      <td>1.69</td>\n",
       "      <td>0.26474</td>\n",
       "      <td>1.69</td>\n",
       "      <td>0.149472</td>\n",
       "      <td>0.043041</td>\n",
       "      <td>2013-04-13</td>\n",
       "      <td>2018-06-01</td>\n",
       "      <td>2013</td>\n",
       "      <td>0.156651</td>\n",
       "      <td>1.000000</td>\n",
       "      <td>0.088445</td>\n",
       "    </tr>\n",
       "    <tr>\n",
       "      <th>815</th>\n",
       "      <td>Ninja Hattori Kun: Ninja wa Shuugyou Degogiru ...</td>\n",
       "      <td>NES</td>\n",
       "      <td>Platform</td>\n",
       "      <td>Hudson Soft</td>\n",
       "      <td>Hudson Soft</td>\n",
       "      <td>7.22044</td>\n",
       "      <td>1.50</td>\n",
       "      <td>0.26474</td>\n",
       "      <td>1.50</td>\n",
       "      <td>0.149472</td>\n",
       "      <td>0.000000</td>\n",
       "      <td>1986-05-03</td>\n",
       "      <td>2019-05-06</td>\n",
       "      <td>1986</td>\n",
       "      <td>0.176493</td>\n",
       "      <td>1.000000</td>\n",
       "      <td>0.099648</td>\n",
       "    </tr>\n",
       "    <tr>\n",
       "      <th>873</th>\n",
       "      <td>Dragon Ball Z</td>\n",
       "      <td>SNES</td>\n",
       "      <td>Fighting</td>\n",
       "      <td>Bandai</td>\n",
       "      <td>TOSE</td>\n",
       "      <td>7.22044</td>\n",
       "      <td>1.45</td>\n",
       "      <td>0.26474</td>\n",
       "      <td>1.45</td>\n",
       "      <td>0.149472</td>\n",
       "      <td>0.000000</td>\n",
       "      <td>1999-01-01</td>\n",
       "      <td>2019-05-06</td>\n",
       "      <td>1999</td>\n",
       "      <td>0.182579</td>\n",
       "      <td>1.000000</td>\n",
       "      <td>0.103084</td>\n",
       "    </tr>\n",
       "    <tr>\n",
       "      <th>872</th>\n",
       "      <td>Tamagotchi</td>\n",
       "      <td>GB</td>\n",
       "      <td>Simulation</td>\n",
       "      <td>Bandai</td>\n",
       "      <td>Tom Create</td>\n",
       "      <td>7.22044</td>\n",
       "      <td>1.45</td>\n",
       "      <td>0.26474</td>\n",
       "      <td>1.44</td>\n",
       "      <td>0.149472</td>\n",
       "      <td>0.010000</td>\n",
       "      <td>1997-06-26</td>\n",
       "      <td>2019-05-06</td>\n",
       "      <td>1997</td>\n",
       "      <td>0.182579</td>\n",
       "      <td>0.993103</td>\n",
       "      <td>0.103084</td>\n",
       "    </tr>\n",
       "    <tr>\n",
       "      <th>869</th>\n",
       "      <td>Game de Hakken!! Tamagotchi 2</td>\n",
       "      <td>GB</td>\n",
       "      <td>Simulation</td>\n",
       "      <td>Bandai</td>\n",
       "      <td>Tom Create</td>\n",
       "      <td>7.22044</td>\n",
       "      <td>1.45</td>\n",
       "      <td>0.26474</td>\n",
       "      <td>1.44</td>\n",
       "      <td>0.149472</td>\n",
       "      <td>0.010000</td>\n",
       "      <td>1997-10-17</td>\n",
       "      <td>2019-05-06</td>\n",
       "      <td>1997</td>\n",
       "      <td>0.182579</td>\n",
       "      <td>0.993103</td>\n",
       "      <td>0.103084</td>\n",
       "    </tr>\n",
       "  </tbody>\n",
       "</table>\n",
       "</div>"
      ],
      "text/plain": [
       "                                                 title console         genre  \\\n",
       "349                                     Hot Shots Golf      PS        Sports   \n",
       "445                                    R.B.I. Baseball     NES        Sports   \n",
       "499                        Famista '89 - Kaimaku Han!!     NES        Sports   \n",
       "604                                    Dragon Quest XI     3DS  Role-Playing   \n",
       "667                                    Super Puyo Puyo    SNES        Puzzle   \n",
       "675                     Tomodachi Collection: New Life     3DS    Simulation   \n",
       "815  Ninja Hattori Kun: Ninja wa Shuugyou Degogiru ...     NES      Platform   \n",
       "873                                      Dragon Ball Z    SNES      Fighting   \n",
       "872                                         Tamagotchi      GB    Simulation   \n",
       "869                      Game de Hakken!! Tamagotchi 2      GB    Simulation   \n",
       "\n",
       "                       publisher                  developer  critic_score  \\\n",
       "349  Sony Computer Entertainment  Camelot Software Planning       7.22044   \n",
       "445                       Tengen                      Namco       7.22044   \n",
       "499                        Namco                      Namco       7.22044   \n",
       "604                  Square Enix                Square Enix       7.22044   \n",
       "667                    Banpresto                    Compile       7.22044   \n",
       "675                     Nintendo                   Nintendo       7.22044   \n",
       "815                  Hudson Soft                Hudson Soft       7.22044   \n",
       "873                       Bandai                       TOSE       7.22044   \n",
       "872                       Bandai                 Tom Create       7.22044   \n",
       "869                       Bandai                 Tom Create       7.22044   \n",
       "\n",
       "     total_sales  na_sales  jp_sales  pal_sales  other_sales release_date  \\\n",
       "349         2.56   0.26000      2.13   0.170000     0.043041   1998-05-05   \n",
       "445         2.20   0.15000      2.05   0.149472     0.043041   1988-01-01   \n",
       "499         2.05   0.26474      2.05   0.149472     0.043041   1989-07-28   \n",
       "604         1.82   0.26474      1.82   0.149472     0.043041   2017-07-29   \n",
       "667         1.70   0.26474      1.69   0.149472     0.010000   1993-10-12   \n",
       "675         1.69   0.26474      1.69   0.149472     0.043041   2013-04-13   \n",
       "815         1.50   0.26474      1.50   0.149472     0.000000   1986-05-03   \n",
       "873         1.45   0.26474      1.45   0.149472     0.000000   1999-01-01   \n",
       "872         1.45   0.26474      1.44   0.149472     0.010000   1997-06-26   \n",
       "869         1.45   0.26474      1.44   0.149472     0.010000   1997-10-17   \n",
       "\n",
       "    last_update  release_year  na_ratio  jp_ratio  pal_ratio  \n",
       "349  2019-05-06          1998  0.101562  0.832031   0.066406  \n",
       "445  2019-05-06          1988  0.068182  0.931818   0.067942  \n",
       "499  2019-05-06          1989  0.129141  1.000000   0.072913  \n",
       "604  2018-05-01          2017  0.145462  1.000000   0.082128  \n",
       "667  2019-05-06          1993  0.155729  0.994118   0.087925  \n",
       "675  2018-06-01          2013  0.156651  1.000000   0.088445  \n",
       "815  2019-05-06          1986  0.176493  1.000000   0.099648  \n",
       "873  2019-05-06          1999  0.182579  1.000000   0.103084  \n",
       "872  2019-05-06          1997  0.182579  0.993103   0.103084  \n",
       "869  2019-05-06          1997  0.182579  0.993103   0.103084  "
      ]
     },
     "execution_count": 429,
     "metadata": {},
     "output_type": "execute_result"
    }
   ],
   "source": [
    "# HIT IN JP - FLOP IN NA AND PAL\n",
    "\n",
    "jp_hit = df[(df.jp_ratio > 0.8) & (df.na_ratio < 0.2) & (df.pal_ratio < 0.2)].sort_values(by = 'jp_sales', ascending = False)\n",
    "jp_top10 = jp_hit.head(10)\n",
    "jp_top10"
   ]
  },
  {
   "cell_type": "code",
   "execution_count": 460,
   "id": "d461334c-159b-46ee-8c91-9cc541d654bd",
   "metadata": {},
   "outputs": [
    {
     "data": {
      "application/vnd.plotly.v1+json": {
       "config": {
        "plotlyServerURL": "https://plot.ly"
       },
       "data": [
        {
         "alignmentgroup": "True",
         "hovertemplate": "variable=na_sales<br>title=%{x}<br>value=%{y}<extra></extra>",
         "legendgroup": "na_sales",
         "marker": {
          "color": "#636efa",
          "pattern": {
           "shape": ""
          }
         },
         "name": "na_sales",
         "offsetgroup": "na_sales",
         "orientation": "v",
         "showlegend": true,
         "textposition": "auto",
         "type": "bar",
         "x": [
          "Hot Shots Golf",
          "R.B.I. Baseball",
          "Famista '89 - Kaimaku Han!!",
          "Dragon Quest XI",
          "Super Puyo Puyo",
          "Tomodachi Collection: New Life",
          "Ninja Hattori Kun: Ninja wa Shuugyou Degogiru no Maki",
          "Dragon Ball Z",
          "Tamagotchi",
          "Game de Hakken!! Tamagotchi 2"
         ],
         "xaxis": "x",
         "y": [
          0.26,
          0.15,
          0.26474004906227744,
          0.26474004906227744,
          0.26474004906227744,
          0.26474004906227744,
          0.26474004906227744,
          0.26474004906227744,
          0.26474004906227744,
          0.26474004906227744
         ],
         "yaxis": "y"
        },
        {
         "alignmentgroup": "True",
         "hovertemplate": "variable=jp_sales<br>title=%{x}<br>value=%{y}<extra></extra>",
         "legendgroup": "jp_sales",
         "marker": {
          "color": "#EF553B",
          "pattern": {
           "shape": ""
          }
         },
         "name": "jp_sales",
         "offsetgroup": "jp_sales",
         "orientation": "v",
         "showlegend": true,
         "textposition": "auto",
         "type": "bar",
         "x": [
          "Hot Shots Golf",
          "R.B.I. Baseball",
          "Famista '89 - Kaimaku Han!!",
          "Dragon Quest XI",
          "Super Puyo Puyo",
          "Tomodachi Collection: New Life",
          "Ninja Hattori Kun: Ninja wa Shuugyou Degogiru no Maki",
          "Dragon Ball Z",
          "Tamagotchi",
          "Game de Hakken!! Tamagotchi 2"
         ],
         "xaxis": "x",
         "y": [
          2.13,
          2.05,
          2.05,
          1.82,
          1.69,
          1.69,
          1.5,
          1.45,
          1.44,
          1.44
         ],
         "yaxis": "y"
        },
        {
         "alignmentgroup": "True",
         "hovertemplate": "variable=pal_sales<br>title=%{x}<br>value=%{y}<extra></extra>",
         "legendgroup": "pal_sales",
         "marker": {
          "color": "#00cc96",
          "pattern": {
           "shape": ""
          }
         },
         "name": "pal_sales",
         "offsetgroup": "pal_sales",
         "orientation": "v",
         "showlegend": true,
         "textposition": "auto",
         "type": "bar",
         "x": [
          "Hot Shots Golf",
          "R.B.I. Baseball",
          "Famista '89 - Kaimaku Han!!",
          "Dragon Quest XI",
          "Super Puyo Puyo",
          "Tomodachi Collection: New Life",
          "Ninja Hattori Kun: Ninja wa Shuugyou Degogiru no Maki",
          "Dragon Ball Z",
          "Tamagotchi",
          "Game de Hakken!! Tamagotchi 2"
         ],
         "xaxis": "x",
         "y": [
          0.17,
          0.14947208359326264,
          0.14947208359326264,
          0.14947208359326264,
          0.14947208359326264,
          0.14947208359326264,
          0.14947208359326264,
          0.14947208359326264,
          0.14947208359326264,
          0.14947208359326264
         ],
         "yaxis": "y"
        }
       ],
       "layout": {
        "barmode": "relative",
        "height": 700,
        "legend": {
         "title": {
          "text": "variable"
         },
         "tracegroupgap": 0
        },
        "template": {
         "data": {
          "bar": [
           {
            "error_x": {
             "color": "#2a3f5f"
            },
            "error_y": {
             "color": "#2a3f5f"
            },
            "marker": {
             "line": {
              "color": "#E5ECF6",
              "width": 0.5
             },
             "pattern": {
              "fillmode": "overlay",
              "size": 10,
              "solidity": 0.2
             }
            },
            "type": "bar"
           }
          ],
          "barpolar": [
           {
            "marker": {
             "line": {
              "color": "#E5ECF6",
              "width": 0.5
             },
             "pattern": {
              "fillmode": "overlay",
              "size": 10,
              "solidity": 0.2
             }
            },
            "type": "barpolar"
           }
          ],
          "carpet": [
           {
            "aaxis": {
             "endlinecolor": "#2a3f5f",
             "gridcolor": "white",
             "linecolor": "white",
             "minorgridcolor": "white",
             "startlinecolor": "#2a3f5f"
            },
            "baxis": {
             "endlinecolor": "#2a3f5f",
             "gridcolor": "white",
             "linecolor": "white",
             "minorgridcolor": "white",
             "startlinecolor": "#2a3f5f"
            },
            "type": "carpet"
           }
          ],
          "choropleth": [
           {
            "colorbar": {
             "outlinewidth": 0,
             "ticks": ""
            },
            "type": "choropleth"
           }
          ],
          "contour": [
           {
            "colorbar": {
             "outlinewidth": 0,
             "ticks": ""
            },
            "colorscale": [
             [
              0,
              "#0d0887"
             ],
             [
              0.1111111111111111,
              "#46039f"
             ],
             [
              0.2222222222222222,
              "#7201a8"
             ],
             [
              0.3333333333333333,
              "#9c179e"
             ],
             [
              0.4444444444444444,
              "#bd3786"
             ],
             [
              0.5555555555555556,
              "#d8576b"
             ],
             [
              0.6666666666666666,
              "#ed7953"
             ],
             [
              0.7777777777777778,
              "#fb9f3a"
             ],
             [
              0.8888888888888888,
              "#fdca26"
             ],
             [
              1,
              "#f0f921"
             ]
            ],
            "type": "contour"
           }
          ],
          "contourcarpet": [
           {
            "colorbar": {
             "outlinewidth": 0,
             "ticks": ""
            },
            "type": "contourcarpet"
           }
          ],
          "heatmap": [
           {
            "colorbar": {
             "outlinewidth": 0,
             "ticks": ""
            },
            "colorscale": [
             [
              0,
              "#0d0887"
             ],
             [
              0.1111111111111111,
              "#46039f"
             ],
             [
              0.2222222222222222,
              "#7201a8"
             ],
             [
              0.3333333333333333,
              "#9c179e"
             ],
             [
              0.4444444444444444,
              "#bd3786"
             ],
             [
              0.5555555555555556,
              "#d8576b"
             ],
             [
              0.6666666666666666,
              "#ed7953"
             ],
             [
              0.7777777777777778,
              "#fb9f3a"
             ],
             [
              0.8888888888888888,
              "#fdca26"
             ],
             [
              1,
              "#f0f921"
             ]
            ],
            "type": "heatmap"
           }
          ],
          "heatmapgl": [
           {
            "colorbar": {
             "outlinewidth": 0,
             "ticks": ""
            },
            "colorscale": [
             [
              0,
              "#0d0887"
             ],
             [
              0.1111111111111111,
              "#46039f"
             ],
             [
              0.2222222222222222,
              "#7201a8"
             ],
             [
              0.3333333333333333,
              "#9c179e"
             ],
             [
              0.4444444444444444,
              "#bd3786"
             ],
             [
              0.5555555555555556,
              "#d8576b"
             ],
             [
              0.6666666666666666,
              "#ed7953"
             ],
             [
              0.7777777777777778,
              "#fb9f3a"
             ],
             [
              0.8888888888888888,
              "#fdca26"
             ],
             [
              1,
              "#f0f921"
             ]
            ],
            "type": "heatmapgl"
           }
          ],
          "histogram": [
           {
            "marker": {
             "pattern": {
              "fillmode": "overlay",
              "size": 10,
              "solidity": 0.2
             }
            },
            "type": "histogram"
           }
          ],
          "histogram2d": [
           {
            "colorbar": {
             "outlinewidth": 0,
             "ticks": ""
            },
            "colorscale": [
             [
              0,
              "#0d0887"
             ],
             [
              0.1111111111111111,
              "#46039f"
             ],
             [
              0.2222222222222222,
              "#7201a8"
             ],
             [
              0.3333333333333333,
              "#9c179e"
             ],
             [
              0.4444444444444444,
              "#bd3786"
             ],
             [
              0.5555555555555556,
              "#d8576b"
             ],
             [
              0.6666666666666666,
              "#ed7953"
             ],
             [
              0.7777777777777778,
              "#fb9f3a"
             ],
             [
              0.8888888888888888,
              "#fdca26"
             ],
             [
              1,
              "#f0f921"
             ]
            ],
            "type": "histogram2d"
           }
          ],
          "histogram2dcontour": [
           {
            "colorbar": {
             "outlinewidth": 0,
             "ticks": ""
            },
            "colorscale": [
             [
              0,
              "#0d0887"
             ],
             [
              0.1111111111111111,
              "#46039f"
             ],
             [
              0.2222222222222222,
              "#7201a8"
             ],
             [
              0.3333333333333333,
              "#9c179e"
             ],
             [
              0.4444444444444444,
              "#bd3786"
             ],
             [
              0.5555555555555556,
              "#d8576b"
             ],
             [
              0.6666666666666666,
              "#ed7953"
             ],
             [
              0.7777777777777778,
              "#fb9f3a"
             ],
             [
              0.8888888888888888,
              "#fdca26"
             ],
             [
              1,
              "#f0f921"
             ]
            ],
            "type": "histogram2dcontour"
           }
          ],
          "mesh3d": [
           {
            "colorbar": {
             "outlinewidth": 0,
             "ticks": ""
            },
            "type": "mesh3d"
           }
          ],
          "parcoords": [
           {
            "line": {
             "colorbar": {
              "outlinewidth": 0,
              "ticks": ""
             }
            },
            "type": "parcoords"
           }
          ],
          "pie": [
           {
            "automargin": true,
            "type": "pie"
           }
          ],
          "scatter": [
           {
            "fillpattern": {
             "fillmode": "overlay",
             "size": 10,
             "solidity": 0.2
            },
            "type": "scatter"
           }
          ],
          "scatter3d": [
           {
            "line": {
             "colorbar": {
              "outlinewidth": 0,
              "ticks": ""
             }
            },
            "marker": {
             "colorbar": {
              "outlinewidth": 0,
              "ticks": ""
             }
            },
            "type": "scatter3d"
           }
          ],
          "scattercarpet": [
           {
            "marker": {
             "colorbar": {
              "outlinewidth": 0,
              "ticks": ""
             }
            },
            "type": "scattercarpet"
           }
          ],
          "scattergeo": [
           {
            "marker": {
             "colorbar": {
              "outlinewidth": 0,
              "ticks": ""
             }
            },
            "type": "scattergeo"
           }
          ],
          "scattergl": [
           {
            "marker": {
             "colorbar": {
              "outlinewidth": 0,
              "ticks": ""
             }
            },
            "type": "scattergl"
           }
          ],
          "scattermapbox": [
           {
            "marker": {
             "colorbar": {
              "outlinewidth": 0,
              "ticks": ""
             }
            },
            "type": "scattermapbox"
           }
          ],
          "scatterpolar": [
           {
            "marker": {
             "colorbar": {
              "outlinewidth": 0,
              "ticks": ""
             }
            },
            "type": "scatterpolar"
           }
          ],
          "scatterpolargl": [
           {
            "marker": {
             "colorbar": {
              "outlinewidth": 0,
              "ticks": ""
             }
            },
            "type": "scatterpolargl"
           }
          ],
          "scatterternary": [
           {
            "marker": {
             "colorbar": {
              "outlinewidth": 0,
              "ticks": ""
             }
            },
            "type": "scatterternary"
           }
          ],
          "surface": [
           {
            "colorbar": {
             "outlinewidth": 0,
             "ticks": ""
            },
            "colorscale": [
             [
              0,
              "#0d0887"
             ],
             [
              0.1111111111111111,
              "#46039f"
             ],
             [
              0.2222222222222222,
              "#7201a8"
             ],
             [
              0.3333333333333333,
              "#9c179e"
             ],
             [
              0.4444444444444444,
              "#bd3786"
             ],
             [
              0.5555555555555556,
              "#d8576b"
             ],
             [
              0.6666666666666666,
              "#ed7953"
             ],
             [
              0.7777777777777778,
              "#fb9f3a"
             ],
             [
              0.8888888888888888,
              "#fdca26"
             ],
             [
              1,
              "#f0f921"
             ]
            ],
            "type": "surface"
           }
          ],
          "table": [
           {
            "cells": {
             "fill": {
              "color": "#EBF0F8"
             },
             "line": {
              "color": "white"
             }
            },
            "header": {
             "fill": {
              "color": "#C8D4E3"
             },
             "line": {
              "color": "white"
             }
            },
            "type": "table"
           }
          ]
         },
         "layout": {
          "annotationdefaults": {
           "arrowcolor": "#2a3f5f",
           "arrowhead": 0,
           "arrowwidth": 1
          },
          "autotypenumbers": "strict",
          "coloraxis": {
           "colorbar": {
            "outlinewidth": 0,
            "ticks": ""
           }
          },
          "colorscale": {
           "diverging": [
            [
             0,
             "#8e0152"
            ],
            [
             0.1,
             "#c51b7d"
            ],
            [
             0.2,
             "#de77ae"
            ],
            [
             0.3,
             "#f1b6da"
            ],
            [
             0.4,
             "#fde0ef"
            ],
            [
             0.5,
             "#f7f7f7"
            ],
            [
             0.6,
             "#e6f5d0"
            ],
            [
             0.7,
             "#b8e186"
            ],
            [
             0.8,
             "#7fbc41"
            ],
            [
             0.9,
             "#4d9221"
            ],
            [
             1,
             "#276419"
            ]
           ],
           "sequential": [
            [
             0,
             "#0d0887"
            ],
            [
             0.1111111111111111,
             "#46039f"
            ],
            [
             0.2222222222222222,
             "#7201a8"
            ],
            [
             0.3333333333333333,
             "#9c179e"
            ],
            [
             0.4444444444444444,
             "#bd3786"
            ],
            [
             0.5555555555555556,
             "#d8576b"
            ],
            [
             0.6666666666666666,
             "#ed7953"
            ],
            [
             0.7777777777777778,
             "#fb9f3a"
            ],
            [
             0.8888888888888888,
             "#fdca26"
            ],
            [
             1,
             "#f0f921"
            ]
           ],
           "sequentialminus": [
            [
             0,
             "#0d0887"
            ],
            [
             0.1111111111111111,
             "#46039f"
            ],
            [
             0.2222222222222222,
             "#7201a8"
            ],
            [
             0.3333333333333333,
             "#9c179e"
            ],
            [
             0.4444444444444444,
             "#bd3786"
            ],
            [
             0.5555555555555556,
             "#d8576b"
            ],
            [
             0.6666666666666666,
             "#ed7953"
            ],
            [
             0.7777777777777778,
             "#fb9f3a"
            ],
            [
             0.8888888888888888,
             "#fdca26"
            ],
            [
             1,
             "#f0f921"
            ]
           ]
          },
          "colorway": [
           "#636efa",
           "#EF553B",
           "#00cc96",
           "#ab63fa",
           "#FFA15A",
           "#19d3f3",
           "#FF6692",
           "#B6E880",
           "#FF97FF",
           "#FECB52"
          ],
          "font": {
           "color": "#2a3f5f"
          },
          "geo": {
           "bgcolor": "white",
           "lakecolor": "white",
           "landcolor": "#E5ECF6",
           "showlakes": true,
           "showland": true,
           "subunitcolor": "white"
          },
          "hoverlabel": {
           "align": "left"
          },
          "hovermode": "closest",
          "mapbox": {
           "style": "light"
          },
          "paper_bgcolor": "white",
          "plot_bgcolor": "#E5ECF6",
          "polar": {
           "angularaxis": {
            "gridcolor": "white",
            "linecolor": "white",
            "ticks": ""
           },
           "bgcolor": "#E5ECF6",
           "radialaxis": {
            "gridcolor": "white",
            "linecolor": "white",
            "ticks": ""
           }
          },
          "scene": {
           "xaxis": {
            "backgroundcolor": "#E5ECF6",
            "gridcolor": "white",
            "gridwidth": 2,
            "linecolor": "white",
            "showbackground": true,
            "ticks": "",
            "zerolinecolor": "white"
           },
           "yaxis": {
            "backgroundcolor": "#E5ECF6",
            "gridcolor": "white",
            "gridwidth": 2,
            "linecolor": "white",
            "showbackground": true,
            "ticks": "",
            "zerolinecolor": "white"
           },
           "zaxis": {
            "backgroundcolor": "#E5ECF6",
            "gridcolor": "white",
            "gridwidth": 2,
            "linecolor": "white",
            "showbackground": true,
            "ticks": "",
            "zerolinecolor": "white"
           }
          },
          "shapedefaults": {
           "line": {
            "color": "#2a3f5f"
           }
          },
          "ternary": {
           "aaxis": {
            "gridcolor": "white",
            "linecolor": "white",
            "ticks": ""
           },
           "baxis": {
            "gridcolor": "white",
            "linecolor": "white",
            "ticks": ""
           },
           "bgcolor": "#E5ECF6",
           "caxis": {
            "gridcolor": "white",
            "linecolor": "white",
            "ticks": ""
           }
          },
          "title": {
           "x": 0.05
          },
          "xaxis": {
           "automargin": true,
           "gridcolor": "white",
           "linecolor": "white",
           "ticks": "",
           "title": {
            "standoff": 15
           },
           "zerolinecolor": "white",
           "zerolinewidth": 2
          },
          "yaxis": {
           "automargin": true,
           "gridcolor": "white",
           "linecolor": "white",
           "ticks": "",
           "title": {
            "standoff": 15
           },
           "zerolinecolor": "white",
           "zerolinewidth": 2
          }
         }
        },
        "title": {
         "text": "Top 10 most popular games in Japan Region"
        },
        "width": 1000,
        "xaxis": {
         "anchor": "y",
         "autorange": true,
         "domain": [
          0,
          1
         ],
         "range": [
          -0.5,
          9.5
         ],
         "tickangle": 45,
         "title": {
          "text": "title"
         },
         "type": "category"
        },
        "yaxis": {
         "anchor": "x",
         "autorange": true,
         "domain": [
          0,
          1
         ],
         "range": [
          0,
          2.6947368421052627
         ],
         "title": {
          "text": "value"
         },
         "type": "linear"
        }
       }
      },
      "image/png": "[encoded data removed]",
      "text/html": [
       "<div>                            <div id=\"072ac1fa-4efd-4d96-b7d0-76c3b785a3cd\" class=\"plotly-graph-div\" style=\"height:700px; width:1000px;\"></div>            <script type=\"text/javascript\">                require([\"plotly\"], function(Plotly) {                    window.PLOTLYENV=window.PLOTLYENV || {};                                    if (document.getElementById(\"072ac1fa-4efd-4d96-b7d0-76c3b785a3cd\")) {                    Plotly.newPlot(                        \"072ac1fa-4efd-4d96-b7d0-76c3b785a3cd\",                        [{\"alignmentgroup\":\"True\",\"hovertemplate\":\"variable=na_sales\\u003cbr\\u003etitle=%{x}\\u003cbr\\u003evalue=%{y}\\u003cextra\\u003e\\u003c\\u002fextra\\u003e\",\"legendgroup\":\"na_sales\",\"marker\":{\"color\":\"#636efa\",\"pattern\":{\"shape\":\"\"}},\"name\":\"na_sales\",\"offsetgroup\":\"na_sales\",\"orientation\":\"v\",\"showlegend\":true,\"textposition\":\"auto\",\"x\":[\"Hot Shots Golf\",\"R.B.I. Baseball\",\"Famista '89 - Kaimaku Han!!\",\"Dragon Quest XI\",\"Super Puyo Puyo\",\"Tomodachi Collection: New Life\",\"Ninja Hattori Kun: Ninja wa Shuugyou Degogiru no Maki\",\"Dragon Ball Z\",\"Tamagotchi\",\"Game de Hakken!! Tamagotchi 2\"],\"xaxis\":\"x\",\"y\":[0.26,0.15,0.26474004906227744,0.26474004906227744,0.26474004906227744,0.26474004906227744,0.26474004906227744,0.26474004906227744,0.26474004906227744,0.26474004906227744],\"yaxis\":\"y\",\"type\":\"bar\"},{\"alignmentgroup\":\"True\",\"hovertemplate\":\"variable=jp_sales\\u003cbr\\u003etitle=%{x}\\u003cbr\\u003evalue=%{y}\\u003cextra\\u003e\\u003c\\u002fextra\\u003e\",\"legendgroup\":\"jp_sales\",\"marker\":{\"color\":\"#EF553B\",\"pattern\":{\"shape\":\"\"}},\"name\":\"jp_sales\",\"offsetgroup\":\"jp_sales\",\"orientation\":\"v\",\"showlegend\":true,\"textposition\":\"auto\",\"x\":[\"Hot Shots Golf\",\"R.B.I. Baseball\",\"Famista '89 - Kaimaku Han!!\",\"Dragon Quest XI\",\"Super Puyo Puyo\",\"Tomodachi Collection: New Life\",\"Ninja Hattori Kun: Ninja wa Shuugyou Degogiru no Maki\",\"Dragon Ball Z\",\"Tamagotchi\",\"Game de Hakken!! Tamagotchi 2\"],\"xaxis\":\"x\",\"y\":[2.13,2.05,2.05,1.82,1.69,1.69,1.5,1.45,1.44,1.44],\"yaxis\":\"y\",\"type\":\"bar\"},{\"alignmentgroup\":\"True\",\"hovertemplate\":\"variable=pal_sales\\u003cbr\\u003etitle=%{x}\\u003cbr\\u003evalue=%{y}\\u003cextra\\u003e\\u003c\\u002fextra\\u003e\",\"legendgroup\":\"pal_sales\",\"marker\":{\"color\":\"#00cc96\",\"pattern\":{\"shape\":\"\"}},\"name\":\"pal_sales\",\"offsetgroup\":\"pal_sales\",\"orientation\":\"v\",\"showlegend\":true,\"textposition\":\"auto\",\"x\":[\"Hot Shots Golf\",\"R.B.I. Baseball\",\"Famista '89 - Kaimaku Han!!\",\"Dragon Quest XI\",\"Super Puyo Puyo\",\"Tomodachi Collection: New Life\",\"Ninja Hattori Kun: Ninja wa Shuugyou Degogiru no Maki\",\"Dragon Ball Z\",\"Tamagotchi\",\"Game de Hakken!! Tamagotchi 2\"],\"xaxis\":\"x\",\"y\":[0.17,0.14947208359326264,0.14947208359326264,0.14947208359326264,0.14947208359326264,0.14947208359326264,0.14947208359326264,0.14947208359326264,0.14947208359326264,0.14947208359326264],\"yaxis\":\"y\",\"type\":\"bar\"}],                        {\"template\":{\"data\":{\"histogram2dcontour\":[{\"type\":\"histogram2dcontour\",\"colorbar\":{\"outlinewidth\":0,\"ticks\":\"\"},\"colorscale\":[[0.0,\"#0d0887\"],[0.1111111111111111,\"#46039f\"],[0.2222222222222222,\"#7201a8\"],[0.3333333333333333,\"#9c179e\"],[0.4444444444444444,\"#bd3786\"],[0.5555555555555556,\"#d8576b\"],[0.6666666666666666,\"#ed7953\"],[0.7777777777777778,\"#fb9f3a\"],[0.8888888888888888,\"#fdca26\"],[1.0,\"#f0f921\"]]}],\"choropleth\":[{\"type\":\"choropleth\",\"colorbar\":{\"outlinewidth\":0,\"ticks\":\"\"}}],\"histogram2d\":[{\"type\":\"histogram2d\",\"colorbar\":{\"outlinewidth\":0,\"ticks\":\"\"},\"colorscale\":[[0.0,\"#0d0887\"],[0.1111111111111111,\"#46039f\"],[0.2222222222222222,\"#7201a8\"],[0.3333333333333333,\"#9c179e\"],[0.4444444444444444,\"#bd3786\"],[0.5555555555555556,\"#d8576b\"],[0.6666666666666666,\"#ed7953\"],[0.7777777777777778,\"#fb9f3a\"],[0.8888888888888888,\"#fdca26\"],[1.0,\"#f0f921\"]]}],\"heatmap\":[{\"type\":\"heatmap\",\"colorbar\":{\"outlinewidth\":0,\"ticks\":\"\"},\"colorscale\":[[0.0,\"#0d0887\"],[0.1111111111111111,\"#46039f\"],[0.2222222222222222,\"#7201a8\"],[0.3333333333333333,\"#9c179e\"],[0.4444444444444444,\"#bd3786\"],[0.5555555555555556,\"#d8576b\"],[0.6666666666666666,\"#ed7953\"],[0.7777777777777778,\"#fb9f3a\"],[0.8888888888888888,\"#fdca26\"],[1.0,\"#f0f921\"]]}],\"heatmapgl\":[{\"type\":\"heatmapgl\",\"colorbar\":{\"outlinewidth\":0,\"ticks\":\"\"},\"colorscale\":[[0.0,\"#0d0887\"],[0.1111111111111111,\"#46039f\"],[0.2222222222222222,\"#7201a8\"],[0.3333333333333333,\"#9c179e\"],[0.4444444444444444,\"#bd3786\"],[0.5555555555555556,\"#d8576b\"],[0.6666666666666666,\"#ed7953\"],[0.7777777777777778,\"#fb9f3a\"],[0.8888888888888888,\"#fdca26\"],[1.0,\"#f0f921\"]]}],\"contourcarpet\":[{\"type\":\"contourcarpet\",\"colorbar\":{\"outlinewidth\":0,\"ticks\":\"\"}}],\"contour\":[{\"type\":\"contour\",\"colorbar\":{\"outlinewidth\":0,\"ticks\":\"\"},\"colorscale\":[[0.0,\"#0d0887\"],[0.1111111111111111,\"#46039f\"],[0.2222222222222222,\"#7201a8\"],[0.3333333333333333,\"#9c179e\"],[0.4444444444444444,\"#bd3786\"],[0.5555555555555556,\"#d8576b\"],[0.6666666666666666,\"#ed7953\"],[0.7777777777777778,\"#fb9f3a\"],[0.8888888888888888,\"#fdca26\"],[1.0,\"#f0f921\"]]}],\"surface\":[{\"type\":\"surface\",\"colorbar\":{\"outlinewidth\":0,\"ticks\":\"\"},\"colorscale\":[[0.0,\"#0d0887\"],[0.1111111111111111,\"#46039f\"],[0.2222222222222222,\"#7201a8\"],[0.3333333333333333,\"#9c179e\"],[0.4444444444444444,\"#bd3786\"],[0.5555555555555556,\"#d8576b\"],[0.6666666666666666,\"#ed7953\"],[0.7777777777777778,\"#fb9f3a\"],[0.8888888888888888,\"#fdca26\"],[1.0,\"#f0f921\"]]}],\"mesh3d\":[{\"type\":\"mesh3d\",\"colorbar\":{\"outlinewidth\":0,\"ticks\":\"\"}}],\"scatter\":[{\"fillpattern\":{\"fillmode\":\"overlay\",\"size\":10,\"solidity\":0.2},\"type\":\"scatter\"}],\"parcoords\":[{\"type\":\"parcoords\",\"line\":{\"colorbar\":{\"outlinewidth\":0,\"ticks\":\"\"}}}],\"scatterpolargl\":[{\"type\":\"scatterpolargl\",\"marker\":{\"colorbar\":{\"outlinewidth\":0,\"ticks\":\"\"}}}],\"bar\":[{\"error_x\":{\"color\":\"#2a3f5f\"},\"error_y\":{\"color\":\"#2a3f5f\"},\"marker\":{\"line\":{\"color\":\"#E5ECF6\",\"width\":0.5},\"pattern\":{\"fillmode\":\"overlay\",\"size\":10,\"solidity\":0.2}},\"type\":\"bar\"}],\"scattergeo\":[{\"type\":\"scattergeo\",\"marker\":{\"colorbar\":{\"outlinewidth\":0,\"ticks\":\"\"}}}],\"scatterpolar\":[{\"type\":\"scatterpolar\",\"marker\":{\"colorbar\":{\"outlinewidth\":0,\"ticks\":\"\"}}}],\"histogram\":[{\"marker\":{\"pattern\":{\"fillmode\":\"overlay\",\"size\":10,\"solidity\":0.2}},\"type\":\"histogram\"}],\"scattergl\":[{\"type\":\"scattergl\",\"marker\":{\"colorbar\":{\"outlinewidth\":0,\"ticks\":\"\"}}}],\"scatter3d\":[{\"type\":\"scatter3d\",\"line\":{\"colorbar\":{\"outlinewidth\":0,\"ticks\":\"\"}},\"marker\":{\"colorbar\":{\"outlinewidth\":0,\"ticks\":\"\"}}}],\"scattermapbox\":[{\"type\":\"scattermapbox\",\"marker\":{\"colorbar\":{\"outlinewidth\":0,\"ticks\":\"\"}}}],\"scatterternary\":[{\"type\":\"scatterternary\",\"marker\":{\"colorbar\":{\"outlinewidth\":0,\"ticks\":\"\"}}}],\"scattercarpet\":[{\"type\":\"scattercarpet\",\"marker\":{\"colorbar\":{\"outlinewidth\":0,\"ticks\":\"\"}}}],\"carpet\":[{\"aaxis\":{\"endlinecolor\":\"#2a3f5f\",\"gridcolor\":\"white\",\"linecolor\":\"white\",\"minorgridcolor\":\"white\",\"startlinecolor\":\"#2a3f5f\"},\"baxis\":{\"endlinecolor\":\"#2a3f5f\",\"gridcolor\":\"white\",\"linecolor\":\"white\",\"minorgridcolor\":\"white\",\"startlinecolor\":\"#2a3f5f\"},\"type\":\"carpet\"}],\"table\":[{\"cells\":{\"fill\":{\"color\":\"#EBF0F8\"},\"line\":{\"color\":\"white\"}},\"header\":{\"fill\":{\"color\":\"#C8D4E3\"},\"line\":{\"color\":\"white\"}},\"type\":\"table\"}],\"barpolar\":[{\"marker\":{\"line\":{\"color\":\"#E5ECF6\",\"width\":0.5},\"pattern\":{\"fillmode\":\"overlay\",\"size\":10,\"solidity\":0.2}},\"type\":\"barpolar\"}],\"pie\":[{\"automargin\":true,\"type\":\"pie\"}]},\"layout\":{\"autotypenumbers\":\"strict\",\"colorway\":[\"#636efa\",\"#EF553B\",\"#00cc96\",\"#ab63fa\",\"#FFA15A\",\"#19d3f3\",\"#FF6692\",\"#B6E880\",\"#FF97FF\",\"#FECB52\"],\"font\":{\"color\":\"#2a3f5f\"},\"hovermode\":\"closest\",\"hoverlabel\":{\"align\":\"left\"},\"paper_bgcolor\":\"white\",\"plot_bgcolor\":\"#E5ECF6\",\"polar\":{\"bgcolor\":\"#E5ECF6\",\"angularaxis\":{\"gridcolor\":\"white\",\"linecolor\":\"white\",\"ticks\":\"\"},\"radialaxis\":{\"gridcolor\":\"white\",\"linecolor\":\"white\",\"ticks\":\"\"}},\"ternary\":{\"bgcolor\":\"#E5ECF6\",\"aaxis\":{\"gridcolor\":\"white\",\"linecolor\":\"white\",\"ticks\":\"\"},\"baxis\":{\"gridcolor\":\"white\",\"linecolor\":\"white\",\"ticks\":\"\"},\"caxis\":{\"gridcolor\":\"white\",\"linecolor\":\"white\",\"ticks\":\"\"}},\"coloraxis\":{\"colorbar\":{\"outlinewidth\":0,\"ticks\":\"\"}},\"colorscale\":{\"sequential\":[[0.0,\"#0d0887\"],[0.1111111111111111,\"#46039f\"],[0.2222222222222222,\"#7201a8\"],[0.3333333333333333,\"#9c179e\"],[0.4444444444444444,\"#bd3786\"],[0.5555555555555556,\"#d8576b\"],[0.6666666666666666,\"#ed7953\"],[0.7777777777777778,\"#fb9f3a\"],[0.8888888888888888,\"#fdca26\"],[1.0,\"#f0f921\"]],\"sequentialminus\":[[0.0,\"#0d0887\"],[0.1111111111111111,\"#46039f\"],[0.2222222222222222,\"#7201a8\"],[0.3333333333333333,\"#9c179e\"],[0.4444444444444444,\"#bd3786\"],[0.5555555555555556,\"#d8576b\"],[0.6666666666666666,\"#ed7953\"],[0.7777777777777778,\"#fb9f3a\"],[0.8888888888888888,\"#fdca26\"],[1.0,\"#f0f921\"]],\"diverging\":[[0,\"#8e0152\"],[0.1,\"#c51b7d\"],[0.2,\"#de77ae\"],[0.3,\"#f1b6da\"],[0.4,\"#fde0ef\"],[0.5,\"#f7f7f7\"],[0.6,\"#e6f5d0\"],[0.7,\"#b8e186\"],[0.8,\"#7fbc41\"],[0.9,\"#4d9221\"],[1,\"#276419\"]]},\"xaxis\":{\"gridcolor\":\"white\",\"linecolor\":\"white\",\"ticks\":\"\",\"title\":{\"standoff\":15},\"zerolinecolor\":\"white\",\"automargin\":true,\"zerolinewidth\":2},\"yaxis\":{\"gridcolor\":\"white\",\"linecolor\":\"white\",\"ticks\":\"\",\"title\":{\"standoff\":15},\"zerolinecolor\":\"white\",\"automargin\":true,\"zerolinewidth\":2},\"scene\":{\"xaxis\":{\"backgroundcolor\":\"#E5ECF6\",\"gridcolor\":\"white\",\"linecolor\":\"white\",\"showbackground\":true,\"ticks\":\"\",\"zerolinecolor\":\"white\",\"gridwidth\":2},\"yaxis\":{\"backgroundcolor\":\"#E5ECF6\",\"gridcolor\":\"white\",\"linecolor\":\"white\",\"showbackground\":true,\"ticks\":\"\",\"zerolinecolor\":\"white\",\"gridwidth\":2},\"zaxis\":{\"backgroundcolor\":\"#E5ECF6\",\"gridcolor\":\"white\",\"linecolor\":\"white\",\"showbackground\":true,\"ticks\":\"\",\"zerolinecolor\":\"white\",\"gridwidth\":2}},\"shapedefaults\":{\"line\":{\"color\":\"#2a3f5f\"}},\"annotationdefaults\":{\"arrowcolor\":\"#2a3f5f\",\"arrowhead\":0,\"arrowwidth\":1},\"geo\":{\"bgcolor\":\"white\",\"landcolor\":\"#E5ECF6\",\"subunitcolor\":\"white\",\"showland\":true,\"showlakes\":true,\"lakecolor\":\"white\"},\"title\":{\"x\":0.05},\"mapbox\":{\"style\":\"light\"}}},\"xaxis\":{\"anchor\":\"y\",\"domain\":[0.0,1.0],\"title\":{\"text\":\"title\"},\"tickangle\":45},\"yaxis\":{\"anchor\":\"x\",\"domain\":[0.0,1.0],\"title\":{\"text\":\"value\"}},\"legend\":{\"title\":{\"text\":\"variable\"},\"tracegroupgap\":0},\"title\":{\"text\":\"Top 10 most popular games in Japan Region\"},\"barmode\":\"relative\",\"width\":1000,\"height\":700},                        {\"responsive\": true}                    ).then(function(){\n",
       "                            \n",
       "var gd = document.getElementById('072ac1fa-4efd-4d96-b7d0-76c3b785a3cd');\n",
       "var x = new MutationObserver(function (mutations, observer) {{\n",
       "        var display = window.getComputedStyle(gd).display;\n",
       "        if (!display || display === 'none') {{\n",
       "            console.log([gd, 'removed!']);\n",
       "            Plotly.purge(gd);\n",
       "            observer.disconnect();\n",
       "        }}\n",
       "}});\n",
       "\n",
       "// Listen for the removal of the full notebook cells\n",
       "var notebookContainer = gd.closest('#notebook-container');\n",
       "if (notebookContainer) {{\n",
       "    x.observe(notebookContainer, {childList: true});\n",
       "}}\n",
       "\n",
       "// Listen for the clearing of the current output cell\n",
       "var outputEl = gd.closest('.output');\n",
       "if (outputEl) {{\n",
       "    x.observe(outputEl, {childList: true});\n",
       "}}\n",
       "\n",
       "                        })                };                });            </script>        </div>"
      ]
     },
     "metadata": {},
     "output_type": "display_data"
    }
   ],
   "source": [
    "fig = px.bar(jp_top10, x = 'title', y = ['na_sales', 'jp_sales', 'pal_sales'], title = 'Top 10 most popular games in Japan Region')\n",
    "fig.update_layout(\n",
    "    width = 1000,  \n",
    "    height = 700,\n",
    "    xaxis_tickangle = 45\n",
    ")\n",
    "fig.show()"
   ]
  },
  {
   "cell_type": "markdown",
   "id": "9249cb79-35d6-437a-ad51-546cda4d6d99",
   "metadata": {},
   "source": [
    "GAMES THAT WERE A HIT IN JP BUT FLOPPED IN NA AND PAL - HOT SHOTS GOLF WITH HIGHEST SALES IN JP"
   ]
  },
  {
   "cell_type": "code",
   "execution_count": 459,
   "id": "a375eae8-f209-4523-8bdc-3b7aabfb9290",
   "metadata": {},
   "outputs": [
    {
     "data": {
      "text/html": [
       "<div>\n",
       "<style scoped>\n",
       "    .dataframe tbody tr th:only-of-type {\n",
       "        vertical-align: middle;\n",
       "    }\n",
       "\n",
       "    .dataframe tbody tr th {\n",
       "        vertical-align: top;\n",
       "    }\n",
       "\n",
       "    .dataframe thead th {\n",
       "        text-align: right;\n",
       "    }\n",
       "</style>\n",
       "<table border=\"1\" class=\"dataframe\">\n",
       "  <thead>\n",
       "    <tr style=\"text-align: right;\">\n",
       "      <th></th>\n",
       "      <th>title</th>\n",
       "      <th>console</th>\n",
       "      <th>genre</th>\n",
       "      <th>publisher</th>\n",
       "      <th>developer</th>\n",
       "      <th>critic_score</th>\n",
       "      <th>total_sales</th>\n",
       "      <th>na_sales</th>\n",
       "      <th>jp_sales</th>\n",
       "      <th>pal_sales</th>\n",
       "      <th>other_sales</th>\n",
       "      <th>release_date</th>\n",
       "      <th>last_update</th>\n",
       "      <th>release_year</th>\n",
       "      <th>na_ratio</th>\n",
       "      <th>jp_ratio</th>\n",
       "      <th>pal_ratio</th>\n",
       "    </tr>\n",
       "  </thead>\n",
       "  <tbody>\n",
       "    <tr>\n",
       "      <th>34</th>\n",
       "      <td>The Sims 3</td>\n",
       "      <td>PC</td>\n",
       "      <td>Simulation</td>\n",
       "      <td>Electronic Arts</td>\n",
       "      <td>EA Redwood Shores</td>\n",
       "      <td>8.50000</td>\n",
       "      <td>7.96</td>\n",
       "      <td>1.01000</td>\n",
       "      <td>0.102281</td>\n",
       "      <td>6.46</td>\n",
       "      <td>0.500000</td>\n",
       "      <td>2009-02-06</td>\n",
       "      <td>2019-05-06</td>\n",
       "      <td>2009</td>\n",
       "      <td>0.126884</td>\n",
       "      <td>0.012849</td>\n",
       "      <td>0.811558</td>\n",
       "    </tr>\n",
       "    <tr>\n",
       "      <th>280</th>\n",
       "      <td>Colin McRae Rally</td>\n",
       "      <td>PS</td>\n",
       "      <td>Racing</td>\n",
       "      <td>Sony Computer Entertainment</td>\n",
       "      <td>Codemasters</td>\n",
       "      <td>7.90000</td>\n",
       "      <td>2.87</td>\n",
       "      <td>0.09000</td>\n",
       "      <td>0.120000</td>\n",
       "      <td>2.43</td>\n",
       "      <td>0.220000</td>\n",
       "      <td>2000-01-31</td>\n",
       "      <td>2019-05-06</td>\n",
       "      <td>2000</td>\n",
       "      <td>0.031359</td>\n",
       "      <td>0.041812</td>\n",
       "      <td>0.846690</td>\n",
       "    </tr>\n",
       "    <tr>\n",
       "      <th>1007</th>\n",
       "      <td>TOCA 2 Touring Car Championship</td>\n",
       "      <td>PS</td>\n",
       "      <td>Racing</td>\n",
       "      <td>Codemasters</td>\n",
       "      <td>Codemasters</td>\n",
       "      <td>7.22044</td>\n",
       "      <td>1.32</td>\n",
       "      <td>0.03000</td>\n",
       "      <td>0.020000</td>\n",
       "      <td>1.16</td>\n",
       "      <td>0.110000</td>\n",
       "      <td>1999-10-31</td>\n",
       "      <td>2019-05-06</td>\n",
       "      <td>1999</td>\n",
       "      <td>0.022727</td>\n",
       "      <td>0.015152</td>\n",
       "      <td>0.878788</td>\n",
       "    </tr>\n",
       "    <tr>\n",
       "      <th>918</th>\n",
       "      <td>Anno 2070</td>\n",
       "      <td>PC</td>\n",
       "      <td>Strategy</td>\n",
       "      <td>Ubisoft</td>\n",
       "      <td>Blue Byte Studio</td>\n",
       "      <td>8.70000</td>\n",
       "      <td>1.40</td>\n",
       "      <td>0.26474</td>\n",
       "      <td>0.102281</td>\n",
       "      <td>1.14</td>\n",
       "      <td>0.260000</td>\n",
       "      <td>2011-11-17</td>\n",
       "      <td>2019-05-06</td>\n",
       "      <td>2011</td>\n",
       "      <td>0.189100</td>\n",
       "      <td>0.073058</td>\n",
       "      <td>0.814286</td>\n",
       "    </tr>\n",
       "    <tr>\n",
       "      <th>1077</th>\n",
       "      <td>Brian Lara Cricket</td>\n",
       "      <td>PS</td>\n",
       "      <td>Sports</td>\n",
       "      <td>Codemasters</td>\n",
       "      <td>Codemasters</td>\n",
       "      <td>7.22044</td>\n",
       "      <td>1.26</td>\n",
       "      <td>0.02000</td>\n",
       "      <td>0.010000</td>\n",
       "      <td>1.13</td>\n",
       "      <td>0.100000</td>\n",
       "      <td>1998-01-12</td>\n",
       "      <td>2019-05-06</td>\n",
       "      <td>1998</td>\n",
       "      <td>0.015873</td>\n",
       "      <td>0.007937</td>\n",
       "      <td>0.896825</td>\n",
       "    </tr>\n",
       "    <tr>\n",
       "      <th>1213</th>\n",
       "      <td>Spore</td>\n",
       "      <td>PC</td>\n",
       "      <td>Strategy</td>\n",
       "      <td>Electronic Arts</td>\n",
       "      <td>Maxis</td>\n",
       "      <td>7.00000</td>\n",
       "      <td>1.16</td>\n",
       "      <td>0.03000</td>\n",
       "      <td>0.102281</td>\n",
       "      <td>1.06</td>\n",
       "      <td>0.070000</td>\n",
       "      <td>2008-07-09</td>\n",
       "      <td>2019-05-06</td>\n",
       "      <td>2008</td>\n",
       "      <td>0.025862</td>\n",
       "      <td>0.088173</td>\n",
       "      <td>0.913793</td>\n",
       "    </tr>\n",
       "    <tr>\n",
       "      <th>1543</th>\n",
       "      <td>Grand Theft Auto: San Andreas</td>\n",
       "      <td>PC</td>\n",
       "      <td>Action</td>\n",
       "      <td>Rockstar Games</td>\n",
       "      <td>Rockstar North</td>\n",
       "      <td>9.40000</td>\n",
       "      <td>0.97</td>\n",
       "      <td>0.00000</td>\n",
       "      <td>0.102281</td>\n",
       "      <td>0.93</td>\n",
       "      <td>0.040000</td>\n",
       "      <td>2005-07-06</td>\n",
       "      <td>2019-05-06</td>\n",
       "      <td>2005</td>\n",
       "      <td>0.000000</td>\n",
       "      <td>0.105444</td>\n",
       "      <td>0.958763</td>\n",
       "    </tr>\n",
       "    <tr>\n",
       "      <th>1347</th>\n",
       "      <td>Pro Evolution Soccer 2008</td>\n",
       "      <td>X360</td>\n",
       "      <td>Sports</td>\n",
       "      <td>Konami</td>\n",
       "      <td>Konami</td>\n",
       "      <td>7.22044</td>\n",
       "      <td>1.07</td>\n",
       "      <td>0.08000</td>\n",
       "      <td>0.040000</td>\n",
       "      <td>0.90</td>\n",
       "      <td>0.050000</td>\n",
       "      <td>2008-12-03</td>\n",
       "      <td>2019-05-06</td>\n",
       "      <td>2008</td>\n",
       "      <td>0.074766</td>\n",
       "      <td>0.037383</td>\n",
       "      <td>0.841121</td>\n",
       "    </tr>\n",
       "    <tr>\n",
       "      <th>1483</th>\n",
       "      <td>Winning Eleven: Pro Evolution Soccer 2007 (All...</td>\n",
       "      <td>X360</td>\n",
       "      <td>Sports</td>\n",
       "      <td>Konami</td>\n",
       "      <td>Konami Computer Entertainment Tokyo</td>\n",
       "      <td>7.22044</td>\n",
       "      <td>1.00</td>\n",
       "      <td>0.08000</td>\n",
       "      <td>0.020000</td>\n",
       "      <td>0.90</td>\n",
       "      <td>0.043041</td>\n",
       "      <td>2007-06-02</td>\n",
       "      <td>2019-05-06</td>\n",
       "      <td>2007</td>\n",
       "      <td>0.080000</td>\n",
       "      <td>0.020000</td>\n",
       "      <td>0.900000</td>\n",
       "    </tr>\n",
       "    <tr>\n",
       "      <th>1530</th>\n",
       "      <td>Fallout 3</td>\n",
       "      <td>PC</td>\n",
       "      <td>Role-Playing</td>\n",
       "      <td>Bethesda Softworks</td>\n",
       "      <td>Bethesda Game Studios</td>\n",
       "      <td>9.00000</td>\n",
       "      <td>0.98</td>\n",
       "      <td>0.02000</td>\n",
       "      <td>0.102281</td>\n",
       "      <td>0.88</td>\n",
       "      <td>0.070000</td>\n",
       "      <td>2008-10-28</td>\n",
       "      <td>2019-05-06</td>\n",
       "      <td>2008</td>\n",
       "      <td>0.020408</td>\n",
       "      <td>0.104368</td>\n",
       "      <td>0.897959</td>\n",
       "    </tr>\n",
       "  </tbody>\n",
       "</table>\n",
       "</div>"
      ],
      "text/plain": [
       "                                                  title console         genre  \\\n",
       "34                                           The Sims 3      PC    Simulation   \n",
       "280                                   Colin McRae Rally      PS        Racing   \n",
       "1007                    TOCA 2 Touring Car Championship      PS        Racing   \n",
       "918                                           Anno 2070      PC      Strategy   \n",
       "1077                                 Brian Lara Cricket      PS        Sports   \n",
       "1213                                              Spore      PC      Strategy   \n",
       "1543                      Grand Theft Auto: San Andreas      PC        Action   \n",
       "1347                          Pro Evolution Soccer 2008    X360        Sports   \n",
       "1483  Winning Eleven: Pro Evolution Soccer 2007 (All...    X360        Sports   \n",
       "1530                                          Fallout 3      PC  Role-Playing   \n",
       "\n",
       "                        publisher                            developer  \\\n",
       "34                Electronic Arts                    EA Redwood Shores   \n",
       "280   Sony Computer Entertainment                          Codemasters   \n",
       "1007                  Codemasters                          Codemasters   \n",
       "918                       Ubisoft                     Blue Byte Studio   \n",
       "1077                  Codemasters                          Codemasters   \n",
       "1213              Electronic Arts                                Maxis   \n",
       "1543               Rockstar Games                       Rockstar North   \n",
       "1347                       Konami                               Konami   \n",
       "1483                       Konami  Konami Computer Entertainment Tokyo   \n",
       "1530           Bethesda Softworks                Bethesda Game Studios   \n",
       "\n",
       "      critic_score  total_sales  na_sales  jp_sales  pal_sales  other_sales  \\\n",
       "34         8.50000         7.96   1.01000  0.102281       6.46     0.500000   \n",
       "280        7.90000         2.87   0.09000  0.120000       2.43     0.220000   \n",
       "1007       7.22044         1.32   0.03000  0.020000       1.16     0.110000   \n",
       "918        8.70000         1.40   0.26474  0.102281       1.14     0.260000   \n",
       "1077       7.22044         1.26   0.02000  0.010000       1.13     0.100000   \n",
       "1213       7.00000         1.16   0.03000  0.102281       1.06     0.070000   \n",
       "1543       9.40000         0.97   0.00000  0.102281       0.93     0.040000   \n",
       "1347       7.22044         1.07   0.08000  0.040000       0.90     0.050000   \n",
       "1483       7.22044         1.00   0.08000  0.020000       0.90     0.043041   \n",
       "1530       9.00000         0.98   0.02000  0.102281       0.88     0.070000   \n",
       "\n",
       "     release_date last_update  release_year  na_ratio  jp_ratio  pal_ratio  \n",
       "34     2009-02-06  2019-05-06          2009  0.126884  0.012849   0.811558  \n",
       "280    2000-01-31  2019-05-06          2000  0.031359  0.041812   0.846690  \n",
       "1007   1999-10-31  2019-05-06          1999  0.022727  0.015152   0.878788  \n",
       "918    2011-11-17  2019-05-06          2011  0.189100  0.073058   0.814286  \n",
       "1077   1998-01-12  2019-05-06          1998  0.015873  0.007937   0.896825  \n",
       "1213   2008-07-09  2019-05-06          2008  0.025862  0.088173   0.913793  \n",
       "1543   2005-07-06  2019-05-06          2005  0.000000  0.105444   0.958763  \n",
       "1347   2008-12-03  2019-05-06          2008  0.074766  0.037383   0.841121  \n",
       "1483   2007-06-02  2019-05-06          2007  0.080000  0.020000   0.900000  \n",
       "1530   2008-10-28  2019-05-06          2008  0.020408  0.104368   0.897959  "
      ]
     },
     "execution_count": 459,
     "metadata": {},
     "output_type": "execute_result"
    }
   ],
   "source": [
    "# HIT IN PAL - FLOP IN NA AND JP\n",
    "\n",
    "pal_hit = df[(df.pal_ratio > 0.8) & (df.na_ratio < 0.2) & (df.jp_ratio < 0.2)].sort_values(by = 'pal_sales', ascending = False)\n",
    "pal_top10 = pal_hit.head(10)\n",
    "pal_top10"
   ]
  },
  {
   "cell_type": "code",
   "execution_count": 463,
   "id": "36f02837-4506-42c9-8a6e-def8e5d076ed",
   "metadata": {},
   "outputs": [
    {
     "data": {
      "application/vnd.plotly.v1+json": {
       "config": {
        "plotlyServerURL": "https://plot.ly"
       },
       "data": [
        {
         "alignmentgroup": "True",
         "hovertemplate": "variable=na_sales<br>title=%{x}<br>value=%{y}<extra></extra>",
         "legendgroup": "na_sales",
         "marker": {
          "color": "#636efa",
          "pattern": {
           "shape": ""
          }
         },
         "name": "na_sales",
         "offsetgroup": "na_sales",
         "orientation": "v",
         "showlegend": true,
         "textposition": "auto",
         "type": "bar",
         "x": [
          "The Sims 3",
          "Colin McRae Rally",
          "TOCA 2 Touring Car Championship",
          "Anno 2070",
          "Brian Lara Cricket",
          "Spore",
          "Grand Theft Auto: San Andreas",
          "Pro Evolution Soccer 2008",
          "Winning Eleven: Pro Evolution Soccer 2007 (All Region sales)",
          "Fallout 3"
         ],
         "xaxis": "x",
         "y": [
          1.01,
          0.09,
          0.03,
          0.26474004906227744,
          0.02,
          0.03,
          0,
          0.08,
          0.08,
          0.02
         ],
         "yaxis": "y"
        },
        {
         "alignmentgroup": "True",
         "hovertemplate": "variable=jp_sales<br>title=%{x}<br>value=%{y}<extra></extra>",
         "legendgroup": "jp_sales",
         "marker": {
          "color": "#EF553B",
          "pattern": {
           "shape": ""
          }
         },
         "name": "jp_sales",
         "offsetgroup": "jp_sales",
         "orientation": "v",
         "showlegend": true,
         "textposition": "auto",
         "type": "bar",
         "x": [
          "The Sims 3",
          "Colin McRae Rally",
          "TOCA 2 Touring Car Championship",
          "Anno 2070",
          "Brian Lara Cricket",
          "Spore",
          "Grand Theft Auto: San Andreas",
          "Pro Evolution Soccer 2008",
          "Winning Eleven: Pro Evolution Soccer 2007 (All Region sales)",
          "Fallout 3"
         ],
         "xaxis": "x",
         "y": [
          0.10228070175438597,
          0.12,
          0.02,
          0.10228070175438597,
          0.01,
          0.10228070175438597,
          0.10228070175438597,
          0.04,
          0.02,
          0.10228070175438597
         ],
         "yaxis": "y"
        },
        {
         "alignmentgroup": "True",
         "hovertemplate": "variable=pal_sales<br>title=%{x}<br>value=%{y}<extra></extra>",
         "legendgroup": "pal_sales",
         "marker": {
          "color": "#00cc96",
          "pattern": {
           "shape": ""
          }
         },
         "name": "pal_sales",
         "offsetgroup": "pal_sales",
         "orientation": "v",
         "showlegend": true,
         "textposition": "auto",
         "type": "bar",
         "x": [
          "The Sims 3",
          "Colin McRae Rally",
          "TOCA 2 Touring Car Championship",
          "Anno 2070",
          "Brian Lara Cricket",
          "Spore",
          "Grand Theft Auto: San Andreas",
          "Pro Evolution Soccer 2008",
          "Winning Eleven: Pro Evolution Soccer 2007 (All Region sales)",
          "Fallout 3"
         ],
         "xaxis": "x",
         "y": [
          6.46,
          2.43,
          1.16,
          1.14,
          1.13,
          1.06,
          0.93,
          0.9,
          0.9,
          0.88
         ],
         "yaxis": "y"
        }
       ],
       "layout": {
        "barmode": "relative",
        "height": 700,
        "legend": {
         "title": {
          "text": "variable"
         },
         "tracegroupgap": 0
        },
        "template": {
         "data": {
          "bar": [
           {
            "error_x": {
             "color": "#2a3f5f"
            },
            "error_y": {
             "color": "#2a3f5f"
            },
            "marker": {
             "line": {
              "color": "#E5ECF6",
              "width": 0.5
             },
             "pattern": {
              "fillmode": "overlay",
              "size": 10,
              "solidity": 0.2
             }
            },
            "type": "bar"
           }
          ],
          "barpolar": [
           {
            "marker": {
             "line": {
              "color": "#E5ECF6",
              "width": 0.5
             },
             "pattern": {
              "fillmode": "overlay",
              "size": 10,
              "solidity": 0.2
             }
            },
            "type": "barpolar"
           }
          ],
          "carpet": [
           {
            "aaxis": {
             "endlinecolor": "#2a3f5f",
             "gridcolor": "white",
             "linecolor": "white",
             "minorgridcolor": "white",
             "startlinecolor": "#2a3f5f"
            },
            "baxis": {
             "endlinecolor": "#2a3f5f",
             "gridcolor": "white",
             "linecolor": "white",
             "minorgridcolor": "white",
             "startlinecolor": "#2a3f5f"
            },
            "type": "carpet"
           }
          ],
          "choropleth": [
           {
            "colorbar": {
             "outlinewidth": 0,
             "ticks": ""
            },
            "type": "choropleth"
           }
          ],
          "contour": [
           {
            "colorbar": {
             "outlinewidth": 0,
             "ticks": ""
            },
            "colorscale": [
             [
              0,
              "#0d0887"
             ],
             [
              0.1111111111111111,
              "#46039f"
             ],
             [
              0.2222222222222222,
              "#7201a8"
             ],
             [
              0.3333333333333333,
              "#9c179e"
             ],
             [
              0.4444444444444444,
              "#bd3786"
             ],
             [
              0.5555555555555556,
              "#d8576b"
             ],
             [
              0.6666666666666666,
              "#ed7953"
             ],
             [
              0.7777777777777778,
              "#fb9f3a"
             ],
             [
              0.8888888888888888,
              "#fdca26"
             ],
             [
              1,
              "#f0f921"
             ]
            ],
            "type": "contour"
           }
          ],
          "contourcarpet": [
           {
            "colorbar": {
             "outlinewidth": 0,
             "ticks": ""
            },
            "type": "contourcarpet"
           }
          ],
          "heatmap": [
           {
            "colorbar": {
             "outlinewidth": 0,
             "ticks": ""
            },
            "colorscale": [
             [
              0,
              "#0d0887"
             ],
             [
              0.1111111111111111,
              "#46039f"
             ],
             [
              0.2222222222222222,
              "#7201a8"
             ],
             [
              0.3333333333333333,
              "#9c179e"
             ],
             [
              0.4444444444444444,
              "#bd3786"
             ],
             [
              0.5555555555555556,
              "#d8576b"
             ],
             [
              0.6666666666666666,
              "#ed7953"
             ],
             [
              0.7777777777777778,
              "#fb9f3a"
             ],
             [
              0.8888888888888888,
              "#fdca26"
             ],
             [
              1,
              "#f0f921"
             ]
            ],
            "type": "heatmap"
           }
          ],
          "heatmapgl": [
           {
            "colorbar": {
             "outlinewidth": 0,
             "ticks": ""
            },
            "colorscale": [
             [
              0,
              "#0d0887"
             ],
             [
              0.1111111111111111,
              "#46039f"
             ],
             [
              0.2222222222222222,
              "#7201a8"
             ],
             [
              0.3333333333333333,
              "#9c179e"
             ],
             [
              0.4444444444444444,
              "#bd3786"
             ],
             [
              0.5555555555555556,
              "#d8576b"
             ],
             [
              0.6666666666666666,
              "#ed7953"
             ],
             [
              0.7777777777777778,
              "#fb9f3a"
             ],
             [
              0.8888888888888888,
              "#fdca26"
             ],
             [
              1,
              "#f0f921"
             ]
            ],
            "type": "heatmapgl"
           }
          ],
          "histogram": [
           {
            "marker": {
             "pattern": {
              "fillmode": "overlay",
              "size": 10,
              "solidity": 0.2
             }
            },
            "type": "histogram"
           }
          ],
          "histogram2d": [
           {
            "colorbar": {
             "outlinewidth": 0,
             "ticks": ""
            },
            "colorscale": [
             [
              0,
              "#0d0887"
             ],
             [
              0.1111111111111111,
              "#46039f"
             ],
             [
              0.2222222222222222,
              "#7201a8"
             ],
             [
              0.3333333333333333,
              "#9c179e"
             ],
             [
              0.4444444444444444,
              "#bd3786"
             ],
             [
              0.5555555555555556,
              "#d8576b"
             ],
             [
              0.6666666666666666,
              "#ed7953"
             ],
             [
              0.7777777777777778,
              "#fb9f3a"
             ],
             [
              0.8888888888888888,
              "#fdca26"
             ],
             [
              1,
              "#f0f921"
             ]
            ],
            "type": "histogram2d"
           }
          ],
          "histogram2dcontour": [
           {
            "colorbar": {
             "outlinewidth": 0,
             "ticks": ""
            },
            "colorscale": [
             [
              0,
              "#0d0887"
             ],
             [
              0.1111111111111111,
              "#46039f"
             ],
             [
              0.2222222222222222,
              "#7201a8"
             ],
             [
              0.3333333333333333,
              "#9c179e"
             ],
             [
              0.4444444444444444,
              "#bd3786"
             ],
             [
              0.5555555555555556,
              "#d8576b"
             ],
             [
              0.6666666666666666,
              "#ed7953"
             ],
             [
              0.7777777777777778,
              "#fb9f3a"
             ],
             [
              0.8888888888888888,
              "#fdca26"
             ],
             [
              1,
              "#f0f921"
             ]
            ],
            "type": "histogram2dcontour"
           }
          ],
          "mesh3d": [
           {
            "colorbar": {
             "outlinewidth": 0,
             "ticks": ""
            },
            "type": "mesh3d"
           }
          ],
          "parcoords": [
           {
            "line": {
             "colorbar": {
              "outlinewidth": 0,
              "ticks": ""
             }
            },
            "type": "parcoords"
           }
          ],
          "pie": [
           {
            "automargin": true,
            "type": "pie"
           }
          ],
          "scatter": [
           {
            "fillpattern": {
             "fillmode": "overlay",
             "size": 10,
             "solidity": 0.2
            },
            "type": "scatter"
           }
          ],
          "scatter3d": [
           {
            "line": {
             "colorbar": {
              "outlinewidth": 0,
              "ticks": ""
             }
            },
            "marker": {
             "colorbar": {
              "outlinewidth": 0,
              "ticks": ""
             }
            },
            "type": "scatter3d"
           }
          ],
          "scattercarpet": [
           {
            "marker": {
             "colorbar": {
              "outlinewidth": 0,
              "ticks": ""
             }
            },
            "type": "scattercarpet"
           }
          ],
          "scattergeo": [
           {
            "marker": {
             "colorbar": {
              "outlinewidth": 0,
              "ticks": ""
             }
            },
            "type": "scattergeo"
           }
          ],
          "scattergl": [
           {
            "marker": {
             "colorbar": {
              "outlinewidth": 0,
              "ticks": ""
             }
            },
            "type": "scattergl"
           }
          ],
          "scattermapbox": [
           {
            "marker": {
             "colorbar": {
              "outlinewidth": 0,
              "ticks": ""
             }
            },
            "type": "scattermapbox"
           }
          ],
          "scatterpolar": [
           {
            "marker": {
             "colorbar": {
              "outlinewidth": 0,
              "ticks": ""
             }
            },
            "type": "scatterpolar"
           }
          ],
          "scatterpolargl": [
           {
            "marker": {
             "colorbar": {
              "outlinewidth": 0,
              "ticks": ""
             }
            },
            "type": "scatterpolargl"
           }
          ],
          "scatterternary": [
           {
            "marker": {
             "colorbar": {
              "outlinewidth": 0,
              "ticks": ""
             }
            },
            "type": "scatterternary"
           }
          ],
          "surface": [
           {
            "colorbar": {
             "outlinewidth": 0,
             "ticks": ""
            },
            "colorscale": [
             [
              0,
              "#0d0887"
             ],
             [
              0.1111111111111111,
              "#46039f"
             ],
             [
              0.2222222222222222,
              "#7201a8"
             ],
             [
              0.3333333333333333,
              "#9c179e"
             ],
             [
              0.4444444444444444,
              "#bd3786"
             ],
             [
              0.5555555555555556,
              "#d8576b"
             ],
             [
              0.6666666666666666,
              "#ed7953"
             ],
             [
              0.7777777777777778,
              "#fb9f3a"
             ],
             [
              0.8888888888888888,
              "#fdca26"
             ],
             [
              1,
              "#f0f921"
             ]
            ],
            "type": "surface"
           }
          ],
          "table": [
           {
            "cells": {
             "fill": {
              "color": "#EBF0F8"
             },
             "line": {
              "color": "white"
             }
            },
            "header": {
             "fill": {
              "color": "#C8D4E3"
             },
             "line": {
              "color": "white"
             }
            },
            "type": "table"
           }
          ]
         },
         "layout": {
          "annotationdefaults": {
           "arrowcolor": "#2a3f5f",
           "arrowhead": 0,
           "arrowwidth": 1
          },
          "autotypenumbers": "strict",
          "coloraxis": {
           "colorbar": {
            "outlinewidth": 0,
            "ticks": ""
           }
          },
          "colorscale": {
           "diverging": [
            [
             0,
             "#8e0152"
            ],
            [
             0.1,
             "#c51b7d"
            ],
            [
             0.2,
             "#de77ae"
            ],
            [
             0.3,
             "#f1b6da"
            ],
            [
             0.4,
             "#fde0ef"
            ],
            [
             0.5,
             "#f7f7f7"
            ],
            [
             0.6,
             "#e6f5d0"
            ],
            [
             0.7,
             "#b8e186"
            ],
            [
             0.8,
             "#7fbc41"
            ],
            [
             0.9,
             "#4d9221"
            ],
            [
             1,
             "#276419"
            ]
           ],
           "sequential": [
            [
             0,
             "#0d0887"
            ],
            [
             0.1111111111111111,
             "#46039f"
            ],
            [
             0.2222222222222222,
             "#7201a8"
            ],
            [
             0.3333333333333333,
             "#9c179e"
            ],
            [
             0.4444444444444444,
             "#bd3786"
            ],
            [
             0.5555555555555556,
             "#d8576b"
            ],
            [
             0.6666666666666666,
             "#ed7953"
            ],
            [
             0.7777777777777778,
             "#fb9f3a"
            ],
            [
             0.8888888888888888,
             "#fdca26"
            ],
            [
             1,
             "#f0f921"
            ]
           ],
           "sequentialminus": [
            [
             0,
             "#0d0887"
            ],
            [
             0.1111111111111111,
             "#46039f"
            ],
            [
             0.2222222222222222,
             "#7201a8"
            ],
            [
             0.3333333333333333,
             "#9c179e"
            ],
            [
             0.4444444444444444,
             "#bd3786"
            ],
            [
             0.5555555555555556,
             "#d8576b"
            ],
            [
             0.6666666666666666,
             "#ed7953"
            ],
            [
             0.7777777777777778,
             "#fb9f3a"
            ],
            [
             0.8888888888888888,
             "#fdca26"
            ],
            [
             1,
             "#f0f921"
            ]
           ]
          },
          "colorway": [
           "#636efa",
           "#EF553B",
           "#00cc96",
           "#ab63fa",
           "#FFA15A",
           "#19d3f3",
           "#FF6692",
           "#B6E880",
           "#FF97FF",
           "#FECB52"
          ],
          "font": {
           "color": "#2a3f5f"
          },
          "geo": {
           "bgcolor": "white",
           "lakecolor": "white",
           "landcolor": "#E5ECF6",
           "showlakes": true,
           "showland": true,
           "subunitcolor": "white"
          },
          "hoverlabel": {
           "align": "left"
          },
          "hovermode": "closest",
          "mapbox": {
           "style": "light"
          },
          "paper_bgcolor": "white",
          "plot_bgcolor": "#E5ECF6",
          "polar": {
           "angularaxis": {
            "gridcolor": "white",
            "linecolor": "white",
            "ticks": ""
           },
           "bgcolor": "#E5ECF6",
           "radialaxis": {
            "gridcolor": "white",
            "linecolor": "white",
            "ticks": ""
           }
          },
          "scene": {
           "xaxis": {
            "backgroundcolor": "#E5ECF6",
            "gridcolor": "white",
            "gridwidth": 2,
            "linecolor": "white",
            "showbackground": true,
            "ticks": "",
            "zerolinecolor": "white"
           },
           "yaxis": {
            "backgroundcolor": "#E5ECF6",
            "gridcolor": "white",
            "gridwidth": 2,
            "linecolor": "white",
            "showbackground": true,
            "ticks": "",
            "zerolinecolor": "white"
           },
           "zaxis": {
            "backgroundcolor": "#E5ECF6",
            "gridcolor": "white",
            "gridwidth": 2,
            "linecolor": "white",
            "showbackground": true,
            "ticks": "",
            "zerolinecolor": "white"
           }
          },
          "shapedefaults": {
           "line": {
            "color": "#2a3f5f"
           }
          },
          "ternary": {
           "aaxis": {
            "gridcolor": "white",
            "linecolor": "white",
            "ticks": ""
           },
           "baxis": {
            "gridcolor": "white",
            "linecolor": "white",
            "ticks": ""
           },
           "bgcolor": "#E5ECF6",
           "caxis": {
            "gridcolor": "white",
            "linecolor": "white",
            "ticks": ""
           }
          },
          "title": {
           "x": 0.05
          },
          "xaxis": {
           "automargin": true,
           "gridcolor": "white",
           "linecolor": "white",
           "ticks": "",
           "title": {
            "standoff": 15
           },
           "zerolinecolor": "white",
           "zerolinewidth": 2
          },
          "yaxis": {
           "automargin": true,
           "gridcolor": "white",
           "linecolor": "white",
           "ticks": "",
           "title": {
            "standoff": 15
           },
           "zerolinecolor": "white",
           "zerolinewidth": 2
          }
         }
        },
        "title": {
         "text": "Top 10 most popular games in PAL Region"
        },
        "width": 1000,
        "xaxis": {
         "anchor": "y",
         "autorange": true,
         "domain": [
          0,
          1
         ],
         "range": [
          -0.5,
          9.5
         ],
         "tickangle": 45,
         "title": {
          "text": "title"
         },
         "type": "category"
        },
        "yaxis": {
         "anchor": "x",
         "autorange": true,
         "domain": [
          0,
          1
         ],
         "range": [
          0,
          7.970821791320406
         ],
         "title": {
          "text": "value"
         },
         "type": "linear"
        }
       }
      },
      "image/png": "[encoded data removed]",
      "text/html": [
       "<div>                            <div id=\"44430fe5-5d61-4636-85cf-97c7042c5326\" class=\"plotly-graph-div\" style=\"height:700px; width:1000px;\"></div>            <script type=\"text/javascript\">                require([\"plotly\"], function(Plotly) {                    window.PLOTLYENV=window.PLOTLYENV || {};                                    if (document.getElementById(\"44430fe5-5d61-4636-85cf-97c7042c5326\")) {                    Plotly.newPlot(                        \"44430fe5-5d61-4636-85cf-97c7042c5326\",                        [{\"alignmentgroup\":\"True\",\"hovertemplate\":\"variable=na_sales\\u003cbr\\u003etitle=%{x}\\u003cbr\\u003evalue=%{y}\\u003cextra\\u003e\\u003c\\u002fextra\\u003e\",\"legendgroup\":\"na_sales\",\"marker\":{\"color\":\"#636efa\",\"pattern\":{\"shape\":\"\"}},\"name\":\"na_sales\",\"offsetgroup\":\"na_sales\",\"orientation\":\"v\",\"showlegend\":true,\"textposition\":\"auto\",\"x\":[\"The Sims 3\",\"Colin McRae Rally\",\"TOCA 2 Touring Car Championship\",\"Anno 2070\",\"Brian Lara Cricket\",\"Spore\",\"Grand Theft Auto: San Andreas\",\"Pro Evolution Soccer 2008\",\"Winning Eleven: Pro Evolution Soccer 2007 (All Region sales)\",\"Fallout 3\"],\"xaxis\":\"x\",\"y\":[1.01,0.09,0.03,0.26474004906227744,0.02,0.03,0.0,0.08,0.08,0.02],\"yaxis\":\"y\",\"type\":\"bar\"},{\"alignmentgroup\":\"True\",\"hovertemplate\":\"variable=jp_sales\\u003cbr\\u003etitle=%{x}\\u003cbr\\u003evalue=%{y}\\u003cextra\\u003e\\u003c\\u002fextra\\u003e\",\"legendgroup\":\"jp_sales\",\"marker\":{\"color\":\"#EF553B\",\"pattern\":{\"shape\":\"\"}},\"name\":\"jp_sales\",\"offsetgroup\":\"jp_sales\",\"orientation\":\"v\",\"showlegend\":true,\"textposition\":\"auto\",\"x\":[\"The Sims 3\",\"Colin McRae Rally\",\"TOCA 2 Touring Car Championship\",\"Anno 2070\",\"Brian Lara Cricket\",\"Spore\",\"Grand Theft Auto: San Andreas\",\"Pro Evolution Soccer 2008\",\"Winning Eleven: Pro Evolution Soccer 2007 (All Region sales)\",\"Fallout 3\"],\"xaxis\":\"x\",\"y\":[0.10228070175438597,0.12,0.02,0.10228070175438597,0.01,0.10228070175438597,0.10228070175438597,0.04,0.02,0.10228070175438597],\"yaxis\":\"y\",\"type\":\"bar\"},{\"alignmentgroup\":\"True\",\"hovertemplate\":\"variable=pal_sales\\u003cbr\\u003etitle=%{x}\\u003cbr\\u003evalue=%{y}\\u003cextra\\u003e\\u003c\\u002fextra\\u003e\",\"legendgroup\":\"pal_sales\",\"marker\":{\"color\":\"#00cc96\",\"pattern\":{\"shape\":\"\"}},\"name\":\"pal_sales\",\"offsetgroup\":\"pal_sales\",\"orientation\":\"v\",\"showlegend\":true,\"textposition\":\"auto\",\"x\":[\"The Sims 3\",\"Colin McRae Rally\",\"TOCA 2 Touring Car Championship\",\"Anno 2070\",\"Brian Lara Cricket\",\"Spore\",\"Grand Theft Auto: San Andreas\",\"Pro Evolution Soccer 2008\",\"Winning Eleven: Pro Evolution Soccer 2007 (All Region sales)\",\"Fallout 3\"],\"xaxis\":\"x\",\"y\":[6.46,2.43,1.16,1.14,1.13,1.06,0.93,0.9,0.9,0.88],\"yaxis\":\"y\",\"type\":\"bar\"}],                        {\"template\":{\"data\":{\"histogram2dcontour\":[{\"type\":\"histogram2dcontour\",\"colorbar\":{\"outlinewidth\":0,\"ticks\":\"\"},\"colorscale\":[[0.0,\"#0d0887\"],[0.1111111111111111,\"#46039f\"],[0.2222222222222222,\"#7201a8\"],[0.3333333333333333,\"#9c179e\"],[0.4444444444444444,\"#bd3786\"],[0.5555555555555556,\"#d8576b\"],[0.6666666666666666,\"#ed7953\"],[0.7777777777777778,\"#fb9f3a\"],[0.8888888888888888,\"#fdca26\"],[1.0,\"#f0f921\"]]}],\"choropleth\":[{\"type\":\"choropleth\",\"colorbar\":{\"outlinewidth\":0,\"ticks\":\"\"}}],\"histogram2d\":[{\"type\":\"histogram2d\",\"colorbar\":{\"outlinewidth\":0,\"ticks\":\"\"},\"colorscale\":[[0.0,\"#0d0887\"],[0.1111111111111111,\"#46039f\"],[0.2222222222222222,\"#7201a8\"],[0.3333333333333333,\"#9c179e\"],[0.4444444444444444,\"#bd3786\"],[0.5555555555555556,\"#d8576b\"],[0.6666666666666666,\"#ed7953\"],[0.7777777777777778,\"#fb9f3a\"],[0.8888888888888888,\"#fdca26\"],[1.0,\"#f0f921\"]]}],\"heatmap\":[{\"type\":\"heatmap\",\"colorbar\":{\"outlinewidth\":0,\"ticks\":\"\"},\"colorscale\":[[0.0,\"#0d0887\"],[0.1111111111111111,\"#46039f\"],[0.2222222222222222,\"#7201a8\"],[0.3333333333333333,\"#9c179e\"],[0.4444444444444444,\"#bd3786\"],[0.5555555555555556,\"#d8576b\"],[0.6666666666666666,\"#ed7953\"],[0.7777777777777778,\"#fb9f3a\"],[0.8888888888888888,\"#fdca26\"],[1.0,\"#f0f921\"]]}],\"heatmapgl\":[{\"type\":\"heatmapgl\",\"colorbar\":{\"outlinewidth\":0,\"ticks\":\"\"},\"colorscale\":[[0.0,\"#0d0887\"],[0.1111111111111111,\"#46039f\"],[0.2222222222222222,\"#7201a8\"],[0.3333333333333333,\"#9c179e\"],[0.4444444444444444,\"#bd3786\"],[0.5555555555555556,\"#d8576b\"],[0.6666666666666666,\"#ed7953\"],[0.7777777777777778,\"#fb9f3a\"],[0.8888888888888888,\"#fdca26\"],[1.0,\"#f0f921\"]]}],\"contourcarpet\":[{\"type\":\"contourcarpet\",\"colorbar\":{\"outlinewidth\":0,\"ticks\":\"\"}}],\"contour\":[{\"type\":\"contour\",\"colorbar\":{\"outlinewidth\":0,\"ticks\":\"\"},\"colorscale\":[[0.0,\"#0d0887\"],[0.1111111111111111,\"#46039f\"],[0.2222222222222222,\"#7201a8\"],[0.3333333333333333,\"#9c179e\"],[0.4444444444444444,\"#bd3786\"],[0.5555555555555556,\"#d8576b\"],[0.6666666666666666,\"#ed7953\"],[0.7777777777777778,\"#fb9f3a\"],[0.8888888888888888,\"#fdca26\"],[1.0,\"#f0f921\"]]}],\"surface\":[{\"type\":\"surface\",\"colorbar\":{\"outlinewidth\":0,\"ticks\":\"\"},\"colorscale\":[[0.0,\"#0d0887\"],[0.1111111111111111,\"#46039f\"],[0.2222222222222222,\"#7201a8\"],[0.3333333333333333,\"#9c179e\"],[0.4444444444444444,\"#bd3786\"],[0.5555555555555556,\"#d8576b\"],[0.6666666666666666,\"#ed7953\"],[0.7777777777777778,\"#fb9f3a\"],[0.8888888888888888,\"#fdca26\"],[1.0,\"#f0f921\"]]}],\"mesh3d\":[{\"type\":\"mesh3d\",\"colorbar\":{\"outlinewidth\":0,\"ticks\":\"\"}}],\"scatter\":[{\"fillpattern\":{\"fillmode\":\"overlay\",\"size\":10,\"solidity\":0.2},\"type\":\"scatter\"}],\"parcoords\":[{\"type\":\"parcoords\",\"line\":{\"colorbar\":{\"outlinewidth\":0,\"ticks\":\"\"}}}],\"scatterpolargl\":[{\"type\":\"scatterpolargl\",\"marker\":{\"colorbar\":{\"outlinewidth\":0,\"ticks\":\"\"}}}],\"bar\":[{\"error_x\":{\"color\":\"#2a3f5f\"},\"error_y\":{\"color\":\"#2a3f5f\"},\"marker\":{\"line\":{\"color\":\"#E5ECF6\",\"width\":0.5},\"pattern\":{\"fillmode\":\"overlay\",\"size\":10,\"solidity\":0.2}},\"type\":\"bar\"}],\"scattergeo\":[{\"type\":\"scattergeo\",\"marker\":{\"colorbar\":{\"outlinewidth\":0,\"ticks\":\"\"}}}],\"scatterpolar\":[{\"type\":\"scatterpolar\",\"marker\":{\"colorbar\":{\"outlinewidth\":0,\"ticks\":\"\"}}}],\"histogram\":[{\"marker\":{\"pattern\":{\"fillmode\":\"overlay\",\"size\":10,\"solidity\":0.2}},\"type\":\"histogram\"}],\"scattergl\":[{\"type\":\"scattergl\",\"marker\":{\"colorbar\":{\"outlinewidth\":0,\"ticks\":\"\"}}}],\"scatter3d\":[{\"type\":\"scatter3d\",\"line\":{\"colorbar\":{\"outlinewidth\":0,\"ticks\":\"\"}},\"marker\":{\"colorbar\":{\"outlinewidth\":0,\"ticks\":\"\"}}}],\"scattermapbox\":[{\"type\":\"scattermapbox\",\"marker\":{\"colorbar\":{\"outlinewidth\":0,\"ticks\":\"\"}}}],\"scatterternary\":[{\"type\":\"scatterternary\",\"marker\":{\"colorbar\":{\"outlinewidth\":0,\"ticks\":\"\"}}}],\"scattercarpet\":[{\"type\":\"scattercarpet\",\"marker\":{\"colorbar\":{\"outlinewidth\":0,\"ticks\":\"\"}}}],\"carpet\":[{\"aaxis\":{\"endlinecolor\":\"#2a3f5f\",\"gridcolor\":\"white\",\"linecolor\":\"white\",\"minorgridcolor\":\"white\",\"startlinecolor\":\"#2a3f5f\"},\"baxis\":{\"endlinecolor\":\"#2a3f5f\",\"gridcolor\":\"white\",\"linecolor\":\"white\",\"minorgridcolor\":\"white\",\"startlinecolor\":\"#2a3f5f\"},\"type\":\"carpet\"}],\"table\":[{\"cells\":{\"fill\":{\"color\":\"#EBF0F8\"},\"line\":{\"color\":\"white\"}},\"header\":{\"fill\":{\"color\":\"#C8D4E3\"},\"line\":{\"color\":\"white\"}},\"type\":\"table\"}],\"barpolar\":[{\"marker\":{\"line\":{\"color\":\"#E5ECF6\",\"width\":0.5},\"pattern\":{\"fillmode\":\"overlay\",\"size\":10,\"solidity\":0.2}},\"type\":\"barpolar\"}],\"pie\":[{\"automargin\":true,\"type\":\"pie\"}]},\"layout\":{\"autotypenumbers\":\"strict\",\"colorway\":[\"#636efa\",\"#EF553B\",\"#00cc96\",\"#ab63fa\",\"#FFA15A\",\"#19d3f3\",\"#FF6692\",\"#B6E880\",\"#FF97FF\",\"#FECB52\"],\"font\":{\"color\":\"#2a3f5f\"},\"hovermode\":\"closest\",\"hoverlabel\":{\"align\":\"left\"},\"paper_bgcolor\":\"white\",\"plot_bgcolor\":\"#E5ECF6\",\"polar\":{\"bgcolor\":\"#E5ECF6\",\"angularaxis\":{\"gridcolor\":\"white\",\"linecolor\":\"white\",\"ticks\":\"\"},\"radialaxis\":{\"gridcolor\":\"white\",\"linecolor\":\"white\",\"ticks\":\"\"}},\"ternary\":{\"bgcolor\":\"#E5ECF6\",\"aaxis\":{\"gridcolor\":\"white\",\"linecolor\":\"white\",\"ticks\":\"\"},\"baxis\":{\"gridcolor\":\"white\",\"linecolor\":\"white\",\"ticks\":\"\"},\"caxis\":{\"gridcolor\":\"white\",\"linecolor\":\"white\",\"ticks\":\"\"}},\"coloraxis\":{\"colorbar\":{\"outlinewidth\":0,\"ticks\":\"\"}},\"colorscale\":{\"sequential\":[[0.0,\"#0d0887\"],[0.1111111111111111,\"#46039f\"],[0.2222222222222222,\"#7201a8\"],[0.3333333333333333,\"#9c179e\"],[0.4444444444444444,\"#bd3786\"],[0.5555555555555556,\"#d8576b\"],[0.6666666666666666,\"#ed7953\"],[0.7777777777777778,\"#fb9f3a\"],[0.8888888888888888,\"#fdca26\"],[1.0,\"#f0f921\"]],\"sequentialminus\":[[0.0,\"#0d0887\"],[0.1111111111111111,\"#46039f\"],[0.2222222222222222,\"#7201a8\"],[0.3333333333333333,\"#9c179e\"],[0.4444444444444444,\"#bd3786\"],[0.5555555555555556,\"#d8576b\"],[0.6666666666666666,\"#ed7953\"],[0.7777777777777778,\"#fb9f3a\"],[0.8888888888888888,\"#fdca26\"],[1.0,\"#f0f921\"]],\"diverging\":[[0,\"#8e0152\"],[0.1,\"#c51b7d\"],[0.2,\"#de77ae\"],[0.3,\"#f1b6da\"],[0.4,\"#fde0ef\"],[0.5,\"#f7f7f7\"],[0.6,\"#e6f5d0\"],[0.7,\"#b8e186\"],[0.8,\"#7fbc41\"],[0.9,\"#4d9221\"],[1,\"#276419\"]]},\"xaxis\":{\"gridcolor\":\"white\",\"linecolor\":\"white\",\"ticks\":\"\",\"title\":{\"standoff\":15},\"zerolinecolor\":\"white\",\"automargin\":true,\"zerolinewidth\":2},\"yaxis\":{\"gridcolor\":\"white\",\"linecolor\":\"white\",\"ticks\":\"\",\"title\":{\"standoff\":15},\"zerolinecolor\":\"white\",\"automargin\":true,\"zerolinewidth\":2},\"scene\":{\"xaxis\":{\"backgroundcolor\":\"#E5ECF6\",\"gridcolor\":\"white\",\"linecolor\":\"white\",\"showbackground\":true,\"ticks\":\"\",\"zerolinecolor\":\"white\",\"gridwidth\":2},\"yaxis\":{\"backgroundcolor\":\"#E5ECF6\",\"gridcolor\":\"white\",\"linecolor\":\"white\",\"showbackground\":true,\"ticks\":\"\",\"zerolinecolor\":\"white\",\"gridwidth\":2},\"zaxis\":{\"backgroundcolor\":\"#E5ECF6\",\"gridcolor\":\"white\",\"linecolor\":\"white\",\"showbackground\":true,\"ticks\":\"\",\"zerolinecolor\":\"white\",\"gridwidth\":2}},\"shapedefaults\":{\"line\":{\"color\":\"#2a3f5f\"}},\"annotationdefaults\":{\"arrowcolor\":\"#2a3f5f\",\"arrowhead\":0,\"arrowwidth\":1},\"geo\":{\"bgcolor\":\"white\",\"landcolor\":\"#E5ECF6\",\"subunitcolor\":\"white\",\"showland\":true,\"showlakes\":true,\"lakecolor\":\"white\"},\"title\":{\"x\":0.05},\"mapbox\":{\"style\":\"light\"}}},\"xaxis\":{\"anchor\":\"y\",\"domain\":[0.0,1.0],\"title\":{\"text\":\"title\"},\"tickangle\":45},\"yaxis\":{\"anchor\":\"x\",\"domain\":[0.0,1.0],\"title\":{\"text\":\"value\"}},\"legend\":{\"title\":{\"text\":\"variable\"},\"tracegroupgap\":0},\"title\":{\"text\":\"Top 10 most popular games in PAL Region\"},\"barmode\":\"relative\",\"width\":1000,\"height\":700},                        {\"responsive\": true}                    ).then(function(){\n",
       "                            \n",
       "var gd = document.getElementById('44430fe5-5d61-4636-85cf-97c7042c5326');\n",
       "var x = new MutationObserver(function (mutations, observer) {{\n",
       "        var display = window.getComputedStyle(gd).display;\n",
       "        if (!display || display === 'none') {{\n",
       "            console.log([gd, 'removed!']);\n",
       "            Plotly.purge(gd);\n",
       "            observer.disconnect();\n",
       "        }}\n",
       "}});\n",
       "\n",
       "// Listen for the removal of the full notebook cells\n",
       "var notebookContainer = gd.closest('#notebook-container');\n",
       "if (notebookContainer) {{\n",
       "    x.observe(notebookContainer, {childList: true});\n",
       "}}\n",
       "\n",
       "// Listen for the clearing of the current output cell\n",
       "var outputEl = gd.closest('.output');\n",
       "if (outputEl) {{\n",
       "    x.observe(outputEl, {childList: true});\n",
       "}}\n",
       "\n",
       "                        })                };                });            </script>        </div>"
      ]
     },
     "metadata": {},
     "output_type": "display_data"
    }
   ],
   "source": [
    "fig = px.bar(pal_top10, x = 'title', y = ['na_sales', 'jp_sales', 'pal_sales'], title = 'Top 10 most popular games in PAL Region')\n",
    "fig.update_layout(\n",
    "    width = 1000,  \n",
    "    height = 700,\n",
    "    xaxis_tickangle = 45\n",
    ")\n",
    "fig.show()"
   ]
  },
  {
   "cell_type": "markdown",
   "id": "05895027-2c10-4728-8791-d88f26dfd2f8",
   "metadata": {},
   "source": [
    "GAMES THAT WERE A HIT IN PAL BUT FLOPPED IN NA AND JP - THE SIMS 3 WITH HIGHEST SALES IN PAL"
   ]
  },
  {
   "cell_type": "markdown",
   "id": "6783ae40-6b6c-47d7-8ba7-eaf2e80eb4e7",
   "metadata": {},
   "source": [
    "**THE END**"
   ]
  }
 ],
 "metadata": {
  "kernelspec": {
   "display_name": "Python 3 (ipykernel)",
   "language": "python",
   "name": "python3"
  },
  "language_info": {
   "codemirror_mode": {
    "name": "ipython",
    "version": 3
   },
   "file_extension": ".py",
   "mimetype": "text/x-python",
   "name": "python",
   "nbconvert_exporter": "python",
   "pygments_lexer": "ipython3",
   "version": "3.12.2"
  }
 },
 "nbformat": 4,
 "nbformat_minor": 5
}
